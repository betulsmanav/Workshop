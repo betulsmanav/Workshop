{
 "cells": [
  {
   "cell_type": "code",
   "execution_count": 5,
   "id": "9867d288",
   "metadata": {},
   "outputs": [],
   "source": [
    "metin = 'Python String Methodları ?'\n"
   ]
  },
  {
   "cell_type": "code",
   "execution_count": 6,
   "id": "2a632e7e",
   "metadata": {},
   "outputs": [
    {
     "data": {
      "text/plain": [
       "'Python string methodları ?'"
      ]
     },
     "execution_count": 6,
     "metadata": {},
     "output_type": "execute_result"
    }
   ],
   "source": [
    "metin.capitalize() # sadece ilk harfi buyuk"
   ]
  },
  {
   "cell_type": "code",
   "execution_count": 7,
   "id": "dad3319b",
   "metadata": {},
   "outputs": [
    {
     "data": {
      "text/plain": [
       "'python string methodları ?'"
      ]
     },
     "execution_count": 7,
     "metadata": {},
     "output_type": "execute_result"
    }
   ],
   "source": [
    "metin.casefold() # tum harfler kucuk"
   ]
  },
  {
   "cell_type": "code",
   "execution_count": 10,
   "id": "e4ac069a",
   "metadata": {},
   "outputs": [
    {
     "data": {
      "text/plain": [
       "'            Python String Methodları ?            '"
      ]
     },
     "execution_count": 10,
     "metadata": {},
     "output_type": "execute_result"
    }
   ],
   "source": [
    "metin.center(50) # 50 karaktere  metnı yazdırırken ortala"
   ]
  },
  {
   "cell_type": "code",
   "execution_count": 12,
   "id": "c6307f1a",
   "metadata": {},
   "outputs": [
    {
     "data": {
      "text/plain": [
       "'************Python String Methodları ?************'"
      ]
     },
     "execution_count": 12,
     "metadata": {},
     "output_type": "execute_result"
    }
   ],
   "source": [
    "metin.center(50,'*') # default u bosluktur."
   ]
  },
  {
   "cell_type": "code",
   "execution_count": 13,
   "id": "ecd6776d",
   "metadata": {},
   "outputs": [],
   "source": [
    "metin = \"Mükemmel sayı, sayılar teorisinde, kendisi hariç pozitif tam bölenlerinin toplamı kendisine eşit olan sayı. Diğer bir ifadeyle, bir mükemmel sayı, bütün pozitif tam bölenlerinin toplamının yarısına eşittir.\""
   ]
  },
  {
   "cell_type": "code",
   "execution_count": 14,
   "id": "8c59a75d",
   "metadata": {},
   "outputs": [
    {
     "data": {
      "text/plain": [
       "4"
      ]
     },
     "execution_count": 14,
     "metadata": {},
     "output_type": "execute_result"
    }
   ],
   "source": [
    "metin.count('sayı') # metınde sayı kelımesı kac defa gecıyor\n",
    "                    # casesensetiv dir!!!!"
   ]
  },
  {
   "cell_type": "code",
   "execution_count": 15,
   "id": "df12f5ce",
   "metadata": {},
   "outputs": [
    {
     "data": {
      "text/plain": [
       "1"
      ]
     },
     "execution_count": 15,
     "metadata": {},
     "output_type": "execute_result"
    }
   ],
   "source": [
    "metin.count('sayı', 0, 15) # 0-15. ındexler arasında kac defa"
   ]
  },
  {
   "cell_type": "code",
   "execution_count": 16,
   "id": "f3e52100",
   "metadata": {},
   "outputs": [],
   "source": [
    "metin = 'Python String Methodları ?'"
   ]
  },
  {
   "cell_type": "code",
   "execution_count": 17,
   "id": "d1dd2753",
   "metadata": {},
   "outputs": [
    {
     "data": {
      "text/plain": [
       "True"
      ]
     },
     "execution_count": 17,
     "metadata": {},
     "output_type": "execute_result"
    }
   ],
   "source": [
    "metin.endswith('?')"
   ]
  },
  {
   "cell_type": "code",
   "execution_count": 20,
   "id": "41c2982d",
   "metadata": {},
   "outputs": [
    {
     "name": "stdout",
     "output_type": "stream",
     "text": [
      "b\te\tt\tu\tl\n"
     ]
    }
   ],
   "source": [
    "str1 = 'b\\te\\tt\\tu\\tl' # bit tab boslugu koyar.\n",
    "print(str1)"
   ]
  },
  {
   "cell_type": "code",
   "execution_count": 21,
   "id": "d2e082ab",
   "metadata": {},
   "outputs": [
    {
     "data": {
      "text/plain": [
       "10"
      ]
     },
     "execution_count": 21,
     "metadata": {},
     "output_type": "execute_result"
    }
   ],
   "source": [
    "metin.find('i') # index numarasını bulur bulamadıgında -1 dondurur"
   ]
  },
  {
   "cell_type": "code",
   "execution_count": 22,
   "id": "fbbd7f3c",
   "metadata": {},
   "outputs": [
    {
     "data": {
      "text/plain": [
       "10"
      ]
     },
     "execution_count": 22,
     "metadata": {},
     "output_type": "execute_result"
    }
   ],
   "source": [
    "metin.index('i')"
   ]
  },
  {
   "cell_type": "code",
   "execution_count": null,
   "id": "421f79e1",
   "metadata": {},
   "outputs": [],
   "source": []
  }
 ],
 "metadata": {
  "kernelspec": {
   "display_name": "Python 3",
   "language": "python",
   "name": "python3"
  },
  "language_info": {
   "codemirror_mode": {
    "name": "ipython",
    "version": 3
   },
   "file_extension": ".py",
   "mimetype": "text/x-python",
   "name": "python",
   "nbconvert_exporter": "python",
   "pygments_lexer": "ipython3",
   "version": "3.8.8"
  }
 },
 "nbformat": 4,
 "nbformat_minor": 5
}
