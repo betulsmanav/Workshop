{
 "cells": [
  {
   "cell_type": "markdown",
   "id": "82812067",
   "metadata": {},
   "source": [
    "# for dongusu"
   ]
  },
  {
   "cell_type": "code",
   "execution_count": 2,
   "id": "9b7b8202",
   "metadata": {},
   "outputs": [],
   "source": [
    "liste = [1,2,3,4,5,6]\n"
   ]
  },
  {
   "cell_type": "code",
   "execution_count": 3,
   "id": "4ded2340",
   "metadata": {},
   "outputs": [
    {
     "name": "stdout",
     "output_type": "stream",
     "text": [
      "1\n",
      "2\n",
      "3\n",
      "4\n",
      "5\n",
      "6\n"
     ]
    }
   ],
   "source": [
    "for rakam in liste :\n",
    "    print(rakam)"
   ]
  },
  {
   "cell_type": "code",
   "execution_count": 4,
   "id": "7bad5c4b",
   "metadata": {},
   "outputs": [
    {
     "name": "stdout",
     "output_type": "stream",
     "text": [
      "a\n",
      "h\n",
      "m\n",
      "e\n",
      "t\n"
     ]
    }
   ],
   "source": [
    "isim = \"ahmet\"\n",
    "\n",
    "for harf in isim :\n",
    "    print(harf)"
   ]
  },
  {
   "cell_type": "markdown",
   "id": "c2d6a837",
   "metadata": {},
   "source": [
    "# range"
   ]
  },
  {
   "cell_type": "code",
   "execution_count": 5,
   "id": "d925d3c6",
   "metadata": {},
   "outputs": [
    {
     "data": {
      "text/plain": [
       "range(0, 10)"
      ]
     },
     "execution_count": 5,
     "metadata": {},
     "output_type": "execute_result"
    }
   ],
   "source": [
    "range(0,10)  # 0 dan 10 a kadar olan sayilari verir.\n",
    "             # 0 dahil 10 dahil degil"
   ]
  },
  {
   "cell_type": "code",
   "execution_count": 6,
   "id": "9d94c248",
   "metadata": {},
   "outputs": [
    {
     "data": {
      "text/plain": [
       "range(3, 10, 2)"
      ]
     },
     "execution_count": 6,
     "metadata": {},
     "output_type": "execute_result"
    }
   ],
   "source": [
    " # start stop step\n",
    "    \n",
    "range(3,10,2)  # 3 ten 10 a kadar 2 ser yazdir\n",
    "    "
   ]
  },
  {
   "cell_type": "code",
   "execution_count": 7,
   "id": "bd156813",
   "metadata": {},
   "outputs": [
    {
     "data": {
      "text/plain": [
       "range(0, 10)"
      ]
     },
     "execution_count": 7,
     "metadata": {},
     "output_type": "execute_result"
    }
   ],
   "source": [
    "range(10)  # tek sayi yazarsak 0 dan baslatir range(0,10 ) gibi calisiyor"
   ]
  },
  {
   "cell_type": "code",
   "execution_count": 8,
   "id": "d362df76",
   "metadata": {},
   "outputs": [
    {
     "name": "stdout",
     "output_type": "stream",
     "text": [
      "0\n",
      "1\n",
      "2\n",
      "3\n",
      "4\n",
      "5\n",
      "6\n",
      "7\n",
      "8\n",
      "9\n"
     ]
    }
   ],
   "source": [
    "for i in range(0,10):\n",
    "    print(i)"
   ]
  },
  {
   "cell_type": "code",
   "execution_count": 9,
   "id": "77468893",
   "metadata": {},
   "outputs": [
    {
     "name": "stdout",
     "output_type": "stream",
     "text": [
      "1024\n"
     ]
    }
   ],
   "source": [
    "# range de 0-9 arasi her sayi da sonuc degerini 2 ile carpip yeni degeri sonuc degiskenine atayacak\n",
    "# yani sonuc degiskeni 10 defa 2 ile carpilacak (dongu 10 defa tekrarlayaak)\n",
    "sonuc = 1\n",
    "for i in range(0,10):\n",
    "    sonuc *= 2\n",
    "print(sonuc)    "
   ]
  },
  {
   "cell_type": "code",
   "execution_count": 10,
   "id": "5118d579",
   "metadata": {},
   "outputs": [
    {
     "name": "stdout",
     "output_type": "stream",
     "text": [
      "a 1\n",
      "a 2\n",
      "a 3\n",
      "b 1\n",
      "b 2\n",
      "b 3\n",
      "c 1\n",
      "c 2\n",
      "c 3\n"
     ]
    }
   ],
   "source": [
    "liste1 = [\"a\", \"b\", \"c\"]\n",
    "liste2 = [1,2,3]\n",
    "\n",
    "for harf in liste1:\n",
    "    for rakam in liste2:\n",
    "        print(harf, rakam)"
   ]
  },
  {
   "cell_type": "markdown",
   "id": "817aa129",
   "metadata": {},
   "source": [
    "# break - continue"
   ]
  },
  {
   "cell_type": "code",
   "execution_count": 11,
   "id": "816fcae8",
   "metadata": {},
   "outputs": [
    {
     "name": "stdout",
     "output_type": "stream",
     "text": [
      "1\n",
      "2\n",
      "3\n",
      "4\n",
      "5\n",
      "6\n",
      "7\n",
      "8\n",
      "9\n"
     ]
    }
   ],
   "source": [
    "liste = [1,2,3,4,5,6,7,8,9]\n",
    "\n",
    "for i in liste :\n",
    "    print(i)"
   ]
  },
  {
   "cell_type": "code",
   "execution_count": 12,
   "id": "d432b1c5",
   "metadata": {},
   "outputs": [
    {
     "name": "stdout",
     "output_type": "stream",
     "text": [
      "1\n",
      "2\n",
      "3 u atladik\n",
      "4\n",
      "5\n",
      "6\n",
      "7\n",
      "8\n",
      "9\n"
     ]
    }
   ],
   "source": [
    "# 3 degerini yazdirmak istemiyorum\n",
    "\n",
    "liste = [1,2,3,4,5,6,7,8,9]\n",
    "\n",
    "for i in liste :\n",
    "    if i == 3 :\n",
    "        print(\"3 u atladik\") \n",
    "        continue         # elemani atla dongude bu adimi atla anlaminda\n",
    "    print(i)"
   ]
  },
  {
   "cell_type": "code",
   "execution_count": 13,
   "id": "894ac8a7",
   "metadata": {},
   "outputs": [
    {
     "name": "stdout",
     "output_type": "stream",
     "text": [
      "1\n",
      "2\n",
      "3 u atladik\n"
     ]
    }
   ],
   "source": [
    "for i in liste :\n",
    "    if i == 3 :\n",
    "        print(\"3 u atladik\") \n",
    "        break            # elemana gelince donguyu kes(sonlandir)\n",
    "    print(i)"
   ]
  },
  {
   "cell_type": "code",
   "execution_count": 14,
   "id": "81b30e39",
   "metadata": {},
   "outputs": [
    {
     "name": "stdout",
     "output_type": "stream",
     "text": [
      "0\n",
      "3\n",
      "6\n",
      "9\n",
      "12\n",
      "15\n",
      "18\n",
      "21\n",
      "24\n",
      "27\n",
      "30\n",
      "33\n",
      "36\n",
      "39\n",
      "42\n",
      "45\n",
      "48\n",
      "51\n",
      "54\n",
      "57\n",
      "60\n",
      "63\n",
      "66\n",
      "69\n",
      "72\n",
      "75\n",
      "78\n"
     ]
    }
   ],
   "source": [
    "# 3 e tam bolunen sayilari yazdir\n",
    "\n",
    "liste = range(100)\n",
    "\n",
    "for i in liste:\n",
    "    if i%3 != 0 : # sayinin 3 e bolumunden kalan sifir degilse devam et\n",
    "        continue\n",
    "    if i == 81:  # i 81 oldugunda donguyu bitir\n",
    "        break\n",
    "    print(i)     # sayinin 3 e bolumunden kalan sifir ise yazdir"
   ]
  },
  {
   "cell_type": "markdown",
   "id": "1c14703d",
   "metadata": {},
   "source": [
    "# while dongusu\n",
    "belirli bir kosul saglandigi surece devam eden dongu"
   ]
  },
  {
   "cell_type": "code",
   "execution_count": 15,
   "id": "5203653d",
   "metadata": {},
   "outputs": [
    {
     "name": "stdout",
     "output_type": "stream",
     "text": [
      "2\n",
      "3\n",
      "4\n",
      "5\n",
      "6\n",
      "7\n",
      "8\n",
      "9\n",
      "x =  10\n"
     ]
    }
   ],
   "source": [
    "x = 2 \n",
    "while x <10 :  # x 10 dan kuucuk oldugu surece yazmaya devam et\n",
    "    print(x)\n",
    "    x += 1 # her dongude x i bir attir\n",
    "print(\"x = \", x)"
   ]
  },
  {
   "cell_type": "code",
   "execution_count": 1,
   "id": "a9c4d5af",
   "metadata": {},
   "outputs": [
    {
     "name": "stdout",
     "output_type": "stream",
     "text": [
      "2 3\n",
      "4 5\n",
      "6 7\n",
      "8 9\n",
      "10 11\n",
      "12 13\n",
      "14 15\n",
      "16 17\n",
      "18 19\n",
      "20 21\n",
      "22 23\n",
      "24 25\n",
      "26 27\n",
      "28 29\n",
      "30 31\n",
      "x * y =  > 1000\n"
     ]
    }
   ],
   "source": [
    "x = 2\n",
    "y = 3\n",
    "while x * y < 1000 :\n",
    "    print(x, y)\n",
    "    x += 2\n",
    "    y += 2\n",
    "print(\"x * y = \",  \"> 1000\") "
   ]
  },
  {
   "cell_type": "code",
   "execution_count": 2,
   "id": "13f855e1",
   "metadata": {},
   "outputs": [
    {
     "name": "stdout",
     "output_type": "stream",
     "text": [
      "1\n",
      "2\n",
      "3\n",
      "4\n",
      "5\n",
      "6\n",
      "7\n",
      "8\n",
      "9\n",
      "10\n",
      "11\n",
      "12\n",
      "13\n",
      "14\n",
      "15\n",
      "16\n",
      "17\n",
      "18\n",
      "19\n",
      "20\n",
      "21\n",
      "22\n",
      "23\n",
      "24\n",
      "25\n",
      "26\n",
      "27\n",
      "28\n",
      "29\n",
      "30\n",
      "31\n",
      "32\n",
      "33\n",
      "34\n",
      "35\n",
      "36\n",
      "37\n",
      "38\n",
      "39\n",
      "40\n",
      "41\n",
      "42\n",
      "43\n",
      "44\n",
      "45\n",
      "46\n",
      "47\n",
      "48\n",
      "49\n",
      "50\n",
      "51\n",
      "52\n",
      "53\n",
      "54\n",
      "55\n",
      "56\n",
      "57\n",
      "58\n",
      "59\n",
      "60\n",
      "61\n",
      "62\n",
      "63\n",
      "64\n",
      "65\n",
      "66\n",
      "67\n",
      "68\n",
      "69\n",
      "70\n",
      "71\n",
      "72\n",
      "73\n",
      "74\n",
      "75\n",
      "76\n",
      "77\n",
      "78\n",
      "79\n",
      "80\n",
      "81\n",
      "82\n",
      "83\n",
      "84\n",
      "85\n",
      "86\n",
      "87\n",
      "88\n",
      "89\n",
      "90\n",
      "91\n",
      "92\n",
      "93\n",
      "94\n",
      "95\n",
      "96\n",
      "97\n",
      "98\n",
      "99\n"
     ]
    }
   ],
   "source": [
    " i = 1\n",
    "    \n",
    "while True :\n",
    "    print(i)\n",
    "    i +=1\n",
    "    if i == 100:\n",
    "        break\n",
    "   "
   ]
  },
  {
   "cell_type": "code",
   "execution_count": 3,
   "id": "5aba5f61",
   "metadata": {},
   "outputs": [
    {
     "name": "stdout",
     "output_type": "stream",
     "text": [
      "1\n",
      "3\n",
      "5\n",
      "7\n",
      "9\n"
     ]
    }
   ],
   "source": [
    "i = 1\n",
    "    \n",
    "while True :\n",
    "    if i%2 == 0:\n",
    "        i += 1\n",
    "        continue\n",
    "    print(i)\n",
    "    i += 1\n",
    "    if i == 10:\n",
    "        break\n",
    "        "
   ]
  },
  {
   "cell_type": "code",
   "execution_count": null,
   "id": "464e1c85",
   "metadata": {},
   "outputs": [],
   "source": []
  }
 ],
 "metadata": {
  "kernelspec": {
   "display_name": "Python 3",
   "language": "python",
   "name": "python3"
  },
  "language_info": {
   "codemirror_mode": {
    "name": "ipython",
    "version": 3
   },
   "file_extension": ".py",
   "mimetype": "text/x-python",
   "name": "python",
   "nbconvert_exporter": "python",
   "pygments_lexer": "ipython3",
   "version": "3.8.8"
  }
 },
 "nbformat": 4,
 "nbformat_minor": 5
}
