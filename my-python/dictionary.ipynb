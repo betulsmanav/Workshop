{
 "cells": [
  {
   "cell_type": "markdown",
   "id": "c51ed19e",
   "metadata": {},
   "source": [
    "# dictionary (sozluk)\n"
   ]
  },
  {
   "cell_type": "code",
   "execution_count": 3,
   "id": "0265f2ca",
   "metadata": {},
   "outputs": [
    {
     "name": "stdout",
     "output_type": "stream",
     "text": [
      "m\n"
     ]
    }
   ],
   "source": [
    "# \"key\":\"value\"\n",
    "# key ler string veya integer olmak zorunda\n",
    "# value lar da sinirlama yok\n",
    "\n",
    "kisi = {\"isim\" : \"ali\" , \"yas\": 20, \"cinsiyet\" : \"m\", \"hobiler\" : [\"sinema\" , \"konser\", \"yazilim\"]}\n",
    "\n",
    "print(kisi[\"cinsiyet\"])  # verileri anahtarlar ile cagiriyoruz indexleme yok dict de"
   ]
  },
  {
   "cell_type": "code",
   "execution_count": 4,
   "id": "1b49f611",
   "metadata": {},
   "outputs": [
    {
     "name": "stdout",
     "output_type": "stream",
     "text": [
      "ali\n"
     ]
    }
   ],
   "source": [
    "#elemanlari degistirme\n",
    "\n",
    "print(kisi[\"isim\"])"
   ]
  },
  {
   "cell_type": "code",
   "execution_count": 5,
   "id": "b0646ad7",
   "metadata": {},
   "outputs": [
    {
     "name": "stdout",
     "output_type": "stream",
     "text": [
      "ahmet\n"
     ]
    }
   ],
   "source": [
    "kisi[\"isim\"] = \"ahmet\"\n",
    "print(kisi['isim'])"
   ]
  },
  {
   "cell_type": "markdown",
   "id": "0bdb0f1c",
   "metadata": {},
   "source": [
    "# update degistirme"
   ]
  },
  {
   "cell_type": "code",
   "execution_count": 6,
   "id": "8a0d4008",
   "metadata": {},
   "outputs": [
    {
     "name": "stdout",
     "output_type": "stream",
     "text": [
      "{'isim': 'ahmet', 'yas': 20, 'cinsiyet': 'm', 'hobiler': ['sinema', 'konser', 'yazilim']}\n"
     ]
    }
   ],
   "source": [
    "# ayni anda iki alani guncelemek icin kull.\n",
    "print(kisi)"
   ]
  },
  {
   "cell_type": "code",
   "execution_count": 7,
   "id": "7b65e978",
   "metadata": {},
   "outputs": [
    {
     "name": "stdout",
     "output_type": "stream",
     "text": [
      "{'isim': 'ahmet', 'yas': '30', 'cinsiyet': 'm', 'hobiler': ['sinema', 'konser', 'yazilim']}\n"
     ]
    }
   ],
   "source": [
    "\n",
    "\n",
    "kisi.update({\"isim\" : \"ahmet\", \"yas\" : \"30\"})\n",
    "print(kisi)"
   ]
  },
  {
   "cell_type": "markdown",
   "id": "1e60941a",
   "metadata": {},
   "source": [
    "# dell silme "
   ]
  },
  {
   "cell_type": "code",
   "execution_count": null,
   "id": "36e52edf",
   "metadata": {},
   "outputs": [],
   "source": []
  },
  {
   "cell_type": "code",
   "execution_count": null,
   "id": "eb981155",
   "metadata": {},
   "outputs": [],
   "source": [
    "# sozlukten alan silme"
   ]
  },
  {
   "cell_type": "code",
   "execution_count": 8,
   "id": "7cf1b270",
   "metadata": {},
   "outputs": [
    {
     "name": "stdout",
     "output_type": "stream",
     "text": [
      "{'isim': 'ahmet', 'yas': '30', 'cinsiyet': 'm', 'hobiler': ['sinema', 'konser', 'yazilim'], 'id': 12345}\n"
     ]
    }
   ],
   "source": [
    "kisi[\"id\"] = 12345  # id key ekledik\n",
    "print(kisi)"
   ]
  },
  {
   "cell_type": "code",
   "execution_count": 9,
   "id": "6478a409",
   "metadata": {},
   "outputs": [
    {
     "name": "stdout",
     "output_type": "stream",
     "text": [
      "{'isim': 'ahmet', 'yas': '30', 'cinsiyet': 'm', 'hobiler': ['sinema', 'konser', 'yazilim']}\n"
     ]
    }
   ],
   "source": [
    "del kisi[\"id\"]  # id alanini sildirdik\n",
    "print(kisi)"
   ]
  },
  {
   "cell_type": "code",
   "execution_count": 10,
   "id": "ee732d66",
   "metadata": {},
   "outputs": [
    {
     "name": "stdout",
     "output_type": "stream",
     "text": [
      "isim\n",
      "yas\n",
      "cinsiyet\n",
      "hobiler\n"
     ]
    }
   ],
   "source": [
    "# key leri yazdirir\n",
    "\n",
    "for i in kisi :  \n",
    "    print(i)"
   ]
  },
  {
   "cell_type": "code",
   "execution_count": 11,
   "id": "7af72727",
   "metadata": {},
   "outputs": [
    {
     "name": "stdout",
     "output_type": "stream",
     "text": [
      "ahmet\n",
      "30\n",
      "m\n",
      "['sinema', 'konser', 'yazilim']\n"
     ]
    }
   ],
   "source": [
    "# value leri  yazdirmak istersek\n",
    "\n",
    "for i in kisi :  \n",
    "    print(kisi[i])"
   ]
  },
  {
   "cell_type": "code",
   "execution_count": 12,
   "id": "72fb9bf5",
   "metadata": {},
   "outputs": [
    {
     "name": "stdout",
     "output_type": "stream",
     "text": [
      "dict_keys(['isim', 'yas', 'cinsiyet', 'hobiler'])\n"
     ]
    }
   ],
   "source": [
    "# sadece anahtarlari almak istersek \n",
    "\n",
    "print(kisi.keys())"
   ]
  },
  {
   "cell_type": "code",
   "execution_count": 14,
   "id": "963bf959",
   "metadata": {},
   "outputs": [
    {
     "name": "stdout",
     "output_type": "stream",
     "text": [
      "dict_values(['ahmet', '30', 'm', ['sinema', 'konser', 'yazilim']])\n"
     ]
    }
   ],
   "source": [
    "# sadece degerleri almak istersek\n",
    "\n",
    "print(kisi.values())"
   ]
  },
  {
   "cell_type": "code",
   "execution_count": 15,
   "id": "2bf21abf",
   "metadata": {},
   "outputs": [
    {
     "name": "stdout",
     "output_type": "stream",
     "text": [
      "dict_items([('isim', 'ahmet'), ('yas', '30'), ('cinsiyet', 'm'), ('hobiler', ['sinema', 'konser', 'yazilim'])])\n"
     ]
    }
   ],
   "source": [
    "# key ve value beraber almak istersem\n",
    "\n",
    "print(kisi.items())"
   ]
  },
  {
   "cell_type": "code",
   "execution_count": 18,
   "id": "bb0ce311",
   "metadata": {},
   "outputs": [
    {
     "name": "stdout",
     "output_type": "stream",
     "text": [
      "('isim', 'ahmet')\n",
      "('yas', '30')\n",
      "('cinsiyet', 'm')\n",
      "('hobiler', ['sinema', 'konser', 'yazilim'])\n"
     ]
    }
   ],
   "source": [
    "for i in kisi.items() :\n",
    "    print(i)"
   ]
  },
  {
   "cell_type": "code",
   "execution_count": 19,
   "id": "4eb58b03",
   "metadata": {},
   "outputs": [
    {
     "name": "stdout",
     "output_type": "stream",
     "text": [
      "isim ahmet\n",
      "yas 30\n",
      "cinsiyet m\n",
      "hobiler ['sinema', 'konser', 'yazilim']\n"
     ]
    }
   ],
   "source": [
    "for i,x in kisi.items() :\n",
    "    print(i,x)"
   ]
  },
  {
   "cell_type": "code",
   "execution_count": 20,
   "id": "edea1f30",
   "metadata": {},
   "outputs": [
    {
     "ename": "KeyError",
     "evalue": "'id'",
     "output_type": "error",
     "traceback": [
      "\u001b[1;31m---------------------------------------------------------------------------\u001b[0m",
      "\u001b[1;31mKeyError\u001b[0m                                  Traceback (most recent call last)",
      "\u001b[1;32m<ipython-input-20-801bdba9b693>\u001b[0m in \u001b[0;36m<module>\u001b[1;34m\u001b[0m\n\u001b[1;32m----> 1\u001b[1;33m \u001b[0mprint\u001b[0m\u001b[1;33m(\u001b[0m\u001b[0mkisi\u001b[0m\u001b[1;33m[\u001b[0m\u001b[1;34m\"id\"\u001b[0m\u001b[1;33m]\u001b[0m\u001b[1;33m)\u001b[0m\u001b[1;33m\u001b[0m\u001b[1;33m\u001b[0m\u001b[0m\n\u001b[0m",
      "\u001b[1;31mKeyError\u001b[0m: 'id'"
     ]
    }
   ],
   "source": [
    "#olmayan alana boyle ulasmaya calisirsan hata verir \n",
    "print(kisi[\"id\"])"
   ]
  },
  {
   "cell_type": "code",
   "execution_count": 21,
   "id": "4dbfa9d8",
   "metadata": {},
   "outputs": [
    {
     "name": "stdout",
     "output_type": "stream",
     "text": [
      "None\n"
     ]
    }
   ],
   "source": [
    "# hata alamadan sorgulamak icin\\\n",
    "\n",
    "print(kisi.get(\"id\"))  # aradugim key in karsiligi yoksa none donuyor"
   ]
  },
  {
   "cell_type": "code",
   "execution_count": 22,
   "id": "3e68c6db",
   "metadata": {},
   "outputs": [
    {
     "name": "stdout",
     "output_type": "stream",
     "text": [
      "ahmet\n"
     ]
    }
   ],
   "source": [
    "print(kisi.get(\"isim\")) #aradugim key in karsiligi varsa value veriyor donuyor"
   ]
  },
  {
   "cell_type": "code",
   "execution_count": 23,
   "id": "d768d09d",
   "metadata": {},
   "outputs": [
    {
     "name": "stdout",
     "output_type": "stream",
     "text": [
      "ahmet\n"
     ]
    }
   ],
   "source": [
    "print(kisi.get(\"isim\" , 'bulunamadi')) # isim alani var calisiti"
   ]
  },
  {
   "cell_type": "code",
   "execution_count": 24,
   "id": "8467c17e",
   "metadata": {},
   "outputs": [
    {
     "name": "stdout",
     "output_type": "stream",
     "text": [
      "bulunamadi\n"
     ]
    }
   ],
   "source": [
    "print(kisi.get(\"id\" , 'bulunamadi')) # eger aradigim key in karsiligi yoksa , den sonraki metni dondurur."
   ]
  },
  {
   "cell_type": "code",
   "execution_count": null,
   "id": "f8c80cb6",
   "metadata": {},
   "outputs": [],
   "source": []
  }
 ],
 "metadata": {
  "kernelspec": {
   "display_name": "Python 3",
   "language": "python",
   "name": "python3"
  },
  "language_info": {
   "codemirror_mode": {
    "name": "ipython",
    "version": 3
   },
   "file_extension": ".py",
   "mimetype": "text/x-python",
   "name": "python",
   "nbconvert_exporter": "python",
   "pygments_lexer": "ipython3",
   "version": "3.8.8"
  }
 },
 "nbformat": 4,
 "nbformat_minor": 5
}
