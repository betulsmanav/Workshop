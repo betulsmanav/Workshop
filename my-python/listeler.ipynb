{
 "cells": [
  {
   "cell_type": "code",
   "execution_count": null,
   "id": "0679dd48",
   "metadata": {},
   "outputs": [],
   "source": []
  },
  {
   "cell_type": "markdown",
   "id": "9abb3d89",
   "metadata": {},
   "source": [
    "# listeler\n"
   ]
  },
  {
   "cell_type": "code",
   "execution_count": 10,
   "id": "cdce44ec",
   "metadata": {},
   "outputs": [
    {
     "name": "stdout",
     "output_type": "stream",
     "text": [
      "['siyah', 'beyaz', 'sari', 'mavi', 'yesil']\n"
     ]
    }
   ],
   "source": [
    "renkler = [\"siyah\",\"beyaz\", \"sari\", \"mavi\", \"yesil\"]\n",
    "print(renkler)"
   ]
  },
  {
   "cell_type": "markdown",
   "id": "6b49da5f",
   "metadata": {},
   "source": [
    "# append"
   ]
  },
  {
   "cell_type": "code",
   "execution_count": 11,
   "id": "aabed46a",
   "metadata": {},
   "outputs": [
    {
     "name": "stdout",
     "output_type": "stream",
     "text": [
      "['siyah', 'beyaz', 'sari', 'mavi', 'yesil', 'gri']\n"
     ]
    }
   ],
   "source": [
    "renkler.append(\"gri\") # listenin \"sonuna\" istedigin elemani eklemek icin\n",
    "print(renkler)"
   ]
  },
  {
   "cell_type": "markdown",
   "id": "9c39d102",
   "metadata": {},
   "source": [
    "# insert"
   ]
  },
  {
   "cell_type": "code",
   "execution_count": 12,
   "id": "3499d799",
   "metadata": {},
   "outputs": [
    {
     "name": "stdout",
     "output_type": "stream",
     "text": [
      "['gri', 'siyah', 'beyaz', 'sari', 'mavi', 'yesil', 'gri']\n"
     ]
    }
   ],
   "source": [
    "renkler.insert(0, \"gri\") # listede istedigin indexe eleman eklemek icin\n",
    "print(renkler)"
   ]
  },
  {
   "cell_type": "markdown",
   "id": "a6edf587",
   "metadata": {},
   "source": [
    "# remove"
   ]
  },
  {
   "cell_type": "code",
   "execution_count": 13,
   "id": "6882b307",
   "metadata": {},
   "outputs": [
    {
     "name": "stdout",
     "output_type": "stream",
     "text": [
      "['gri', 'siyah', 'beyaz', 'mavi', 'yesil', 'gri']\n"
     ]
    }
   ],
   "source": [
    "renkler.remove(\"sari\")  # listeden eleman silmek icin\n",
    "print(renkler)\n"
   ]
  },
  {
   "cell_type": "markdown",
   "id": "3360ee80",
   "metadata": {},
   "source": [
    "# extend"
   ]
  },
  {
   "cell_type": "code",
   "execution_count": 14,
   "id": "f8d26e4e",
   "metadata": {},
   "outputs": [
    {
     "name": "stdout",
     "output_type": "stream",
     "text": [
      "['gri', 'siyah', 'beyaz', 'mavi', 'yesil', 'gri', ['turuncu', 'pembe']]\n"
     ]
    }
   ],
   "source": [
    "renkler2 = [\"turuncu\", \"pembe\"]  # listenin sonuna renkler2 listesini ekler bir liste ekler\n",
    "renkler.append(renkler2)        \n",
    "print(renkler)"
   ]
  },
  {
   "cell_type": "code",
   "execution_count": 15,
   "id": "32ccecdd",
   "metadata": {},
   "outputs": [
    {
     "name": "stdout",
     "output_type": "stream",
     "text": [
      "['gri', 'siyah', 'beyaz', 'mavi', 'yesil', 'gri']\n"
     ]
    }
   ],
   "source": [
    "renkler.remove(renkler2)\n",
    "print(renkler)"
   ]
  },
  {
   "cell_type": "code",
   "execution_count": 16,
   "id": "5f162fdb",
   "metadata": {},
   "outputs": [
    {
     "name": "stdout",
     "output_type": "stream",
     "text": [
      "['gri', 'siyah', 'beyaz', 'mavi', 'yesil', 'gri', 'turuncu', 'pembe']\n"
     ]
    }
   ],
   "source": [
    "renkler.extend(renkler2)   # listenin kendsini degilde elemanlarini ayri ayri eklemek istiyorsak extend kullanilir\n",
    "print(renkler)"
   ]
  },
  {
   "cell_type": "markdown",
   "id": "9e31604e",
   "metadata": {},
   "source": [
    "# pop"
   ]
  },
  {
   "cell_type": "code",
   "execution_count": 17,
   "id": "2a830449",
   "metadata": {},
   "outputs": [
    {
     "name": "stdout",
     "output_type": "stream",
     "text": [
      "['gri', 'siyah', 'beyaz', 'mavi', 'yesil', 'gri', 'turuncu']\n"
     ]
    }
   ],
   "source": [
    "renkler.pop()  #listenin enson elemanini siler ve size geri dondurur.\n",
    "print(renkler)\n",
    "\n"
   ]
  },
  {
   "cell_type": "code",
   "execution_count": 18,
   "id": "5b8264e8",
   "metadata": {},
   "outputs": [
    {
     "name": "stdout",
     "output_type": "stream",
     "text": [
      "turuncu\n"
     ]
    }
   ],
   "source": [
    "# silinen elemani bir degiskene atayab iliriz\n",
    "silinen = renkler.pop()\n",
    "print(silinen)   # burada ilk silmeyi kaydetti tekrar silme yapti."
   ]
  },
  {
   "cell_type": "markdown",
   "id": "2c693c41",
   "metadata": {},
   "source": [
    "# reverse"
   ]
  },
  {
   "cell_type": "code",
   "execution_count": 19,
   "id": "80bf200f",
   "metadata": {},
   "outputs": [
    {
     "name": "stdout",
     "output_type": "stream",
     "text": [
      "['gri', 'siyah', 'beyaz', 'mavi', 'yesil', 'gri']\n"
     ]
    }
   ],
   "source": [
    "print(renkler)"
   ]
  },
  {
   "cell_type": "code",
   "execution_count": 20,
   "id": "8179cfc1",
   "metadata": {},
   "outputs": [
    {
     "name": "stdout",
     "output_type": "stream",
     "text": [
      "['gri', 'yesil', 'mavi', 'beyaz', 'siyah', 'gri']\n"
     ]
    }
   ],
   "source": [
    "renkler.reverse()  #listeyi ters cevirir.\n",
    "print(renkler)"
   ]
  },
  {
   "cell_type": "markdown",
   "id": "418c8093",
   "metadata": {},
   "source": [
    "# sort"
   ]
  },
  {
   "cell_type": "code",
   "execution_count": 22,
   "id": "17a90f26",
   "metadata": {},
   "outputs": [
    {
     "name": "stdout",
     "output_type": "stream",
     "text": [
      "['beyaz', 'gri', 'gri', 'mavi', 'siyah', 'yesil']\n"
     ]
    }
   ],
   "source": [
    "renkler.sort()  # listeyi alfabetik veya kucukten buyuge siralar.\n",
    "print(renkler)"
   ]
  },
  {
   "cell_type": "code",
   "execution_count": 23,
   "id": "7d918762",
   "metadata": {},
   "outputs": [
    {
     "name": "stdout",
     "output_type": "stream",
     "text": [
      "['yesil', 'siyah', 'mavi', 'gri', 'gri', 'beyaz']\n"
     ]
    }
   ],
   "source": [
    "# tersten siralamak icin\n",
    "renkler.sort()\n",
    "renkler.reverse()\n",
    "print(renkler)"
   ]
  },
  {
   "cell_type": "code",
   "execution_count": 25,
   "id": "8dd950b1",
   "metadata": {},
   "outputs": [
    {
     "name": "stdout",
     "output_type": "stream",
     "text": [
      "['yesil', 'siyah', 'mavi', 'gri', 'gri', 'beyaz']\n"
     ]
    }
   ],
   "source": [
    "# tersten siralamak icin baska yontem\n",
    "renkler.sort(reverse=True)\n",
    "print(renkler)  # listeyi sortla siralarsak liste baska bir listeye donusur "
   ]
  },
  {
   "cell_type": "markdown",
   "id": "b5423f20",
   "metadata": {},
   "source": [
    "# sorted"
   ]
  },
  {
   "cell_type": "code",
   "execution_count": 26,
   "id": "d7787684",
   "metadata": {},
   "outputs": [
    {
     "name": "stdout",
     "output_type": "stream",
     "text": [
      "['yesil', 'siyah', 'mavi', 'gri', 'gri', 'beyaz']\n"
     ]
    }
   ],
   "source": [
    "print(renkler)"
   ]
  },
  {
   "cell_type": "code",
   "execution_count": 27,
   "id": "87d10736",
   "metadata": {},
   "outputs": [
    {
     "name": "stdout",
     "output_type": "stream",
     "text": [
      "['beyaz', 'gri', 'gri', 'mavi', 'siyah', 'yesil']\n"
     ]
    }
   ],
   "source": [
    "# listeyi siraladiktan sonra listenin orjinalini saklamak istiyorsam bunu kullaniyorum\n",
    "liste2 = sorted(renkler)\n",
    "print(liste2)"
   ]
  },
  {
   "cell_type": "markdown",
   "id": "a28d2cb8",
   "metadata": {},
   "source": [
    "# max min "
   ]
  },
  {
   "cell_type": "code",
   "execution_count": 28,
   "id": "bfe8953a",
   "metadata": {},
   "outputs": [
    {
     "name": "stdout",
     "output_type": "stream",
     "text": [
      "['yesil', 'siyah', 'mavi', 'gri', 'gri', 'beyaz']\n"
     ]
    }
   ],
   "source": [
    "print(renkler) # renklr listesi degismedi"
   ]
  },
  {
   "cell_type": "code",
   "execution_count": 30,
   "id": "5ebeba68",
   "metadata": {},
   "outputs": [],
   "source": [
    "renkler = [\"siyah\",\"beyaz\", \"sari\", \"mavi\", \"yesil\"]"
   ]
  },
  {
   "cell_type": "code",
   "execution_count": 31,
   "id": "b9699734",
   "metadata": {},
   "outputs": [],
   "source": [
    "sayilar = [1,2,39,4,3,7,8]"
   ]
  },
  {
   "cell_type": "code",
   "execution_count": 32,
   "id": "04f59146",
   "metadata": {},
   "outputs": [
    {
     "name": "stdout",
     "output_type": "stream",
     "text": [
      "beyaz\n"
     ]
    }
   ],
   "source": [
    "print(min(renkler)) # listedeki en kucuk harf"
   ]
  },
  {
   "cell_type": "code",
   "execution_count": 33,
   "id": "bf55c943",
   "metadata": {},
   "outputs": [
    {
     "name": "stdout",
     "output_type": "stream",
     "text": [
      "1\n"
     ]
    }
   ],
   "source": [
    "print(min(sayilar)) # listedeki en kucuk sayi"
   ]
  },
  {
   "cell_type": "code",
   "execution_count": 34,
   "id": "520f266a",
   "metadata": {},
   "outputs": [
    {
     "name": "stdout",
     "output_type": "stream",
     "text": [
      "yesil\n"
     ]
    }
   ],
   "source": [
    "print(max(renkler)) # listedeki en buyuk harf"
   ]
  },
  {
   "cell_type": "code",
   "execution_count": 36,
   "id": "13c1aa2c",
   "metadata": {},
   "outputs": [
    {
     "name": "stdout",
     "output_type": "stream",
     "text": [
      "39\n"
     ]
    }
   ],
   "source": [
    "print(max(sayilar)) # listedeki en buyuk sayi"
   ]
  },
  {
   "cell_type": "markdown",
   "id": "a9978e62",
   "metadata": {},
   "source": [
    "\n",
    "# sum"
   ]
  },
  {
   "cell_type": "code",
   "execution_count": 37,
   "id": "f09ef2c1",
   "metadata": {},
   "outputs": [
    {
     "name": "stdout",
     "output_type": "stream",
     "text": [
      "64\n"
     ]
    }
   ],
   "source": [
    "print(sum(sayilar)) # listedeki sayilari matematiksel olarak toplar"
   ]
  },
  {
   "cell_type": "code",
   "execution_count": 38,
   "id": "483172e4",
   "metadata": {},
   "outputs": [
    {
     "ename": "TypeError",
     "evalue": "unsupported operand type(s) for +: 'int' and 'str'",
     "output_type": "error",
     "traceback": [
      "\u001b[1;31m---------------------------------------------------------------------------\u001b[0m",
      "\u001b[1;31mTypeError\u001b[0m                                 Traceback (most recent call last)",
      "\u001b[1;32m<ipython-input-38-fb407a7d3ebc>\u001b[0m in \u001b[0;36m<module>\u001b[1;34m\u001b[0m\n\u001b[1;32m----> 1\u001b[1;33m \u001b[0mprint\u001b[0m\u001b[1;33m(\u001b[0m\u001b[0msum\u001b[0m\u001b[1;33m(\u001b[0m\u001b[0mrenkler\u001b[0m\u001b[1;33m)\u001b[0m\u001b[1;33m)\u001b[0m\u001b[1;33m\u001b[0m\u001b[1;33m\u001b[0m\u001b[0m\n\u001b[0m",
      "\u001b[1;31mTypeError\u001b[0m: unsupported operand type(s) for +: 'int' and 'str'"
     ]
    }
   ],
   "source": [
    " # print(sum(renkler))  desteklenmeyen cod integer ve string toplaanmaz"
   ]
  },
  {
   "cell_type": "markdown",
   "id": "0e25d0bd",
   "metadata": {},
   "source": [
    "# bir listenin elemanlarini teker teker yazdirma"
   ]
  },
  {
   "cell_type": "code",
   "execution_count": 40,
   "id": "9043f346",
   "metadata": {},
   "outputs": [
    {
     "name": "stdout",
     "output_type": "stream",
     "text": [
      "siyah\n",
      "beyaz\n",
      "sari\n",
      "mavi\n",
      "yesil\n"
     ]
    }
   ],
   "source": [
    "for i in renkler :  # i renkler listesinde dolasip tek tek tum elemanlari aliyor\n",
    "    print(i)"
   ]
  },
  {
   "cell_type": "markdown",
   "id": "abb1c3fa",
   "metadata": {},
   "source": [
    "# enumarate"
   ]
  },
  {
   "cell_type": "code",
   "execution_count": 41,
   "id": "5263233e",
   "metadata": {},
   "outputs": [
    {
     "name": "stdout",
     "output_type": "stream",
     "text": [
      "<enumerate object at 0x000001690360CE00>\n"
     ]
    }
   ],
   "source": [
    "print(enumerate(renkler)) # enumerate objesi"
   ]
  },
  {
   "cell_type": "code",
   "execution_count": 42,
   "id": "ffea35db",
   "metadata": {},
   "outputs": [
    {
     "name": "stdout",
     "output_type": "stream",
     "text": [
      "[(0, 'siyah'), (1, 'beyaz'), (2, 'sari'), (3, 'mavi'), (4, 'yesil')]\n"
     ]
    }
   ],
   "source": [
    "print(list(enumerate(renkler))) # renkler listesini s0 dan baslayarak indexler"
   ]
  },
  {
   "cell_type": "code",
   "execution_count": 43,
   "id": "7eed4f28",
   "metadata": {},
   "outputs": [
    {
     "name": "stdout",
     "output_type": "stream",
     "text": [
      "[(3, 'siyah'), (4, 'beyaz'), (5, 'sari'), (6, 'mavi'), (7, 'yesil')]\n"
     ]
    }
   ],
   "source": [
    "print(list(enumerate(renkler, start=3))) # renkler listesini istedigim sayidan baslayarak indexler"
   ]
  },
  {
   "cell_type": "markdown",
   "id": "9c4069bc",
   "metadata": {},
   "source": [
    "# bu eleman listede var mi kontrolu"
   ]
  },
  {
   "cell_type": "code",
   "execution_count": 44,
   "id": "86c79350",
   "metadata": {},
   "outputs": [
    {
     "name": "stdout",
     "output_type": "stream",
     "text": [
      "True\n"
     ]
    }
   ],
   "source": [
    "print(\"siyah\" in renkler)"
   ]
  },
  {
   "cell_type": "code",
   "execution_count": 45,
   "id": "b8e3a4d7",
   "metadata": {},
   "outputs": [
    {
     "name": "stdout",
     "output_type": "stream",
     "text": [
      "False\n"
     ]
    }
   ],
   "source": [
    "print(\"gri\" in renkler)"
   ]
  },
  {
   "cell_type": "markdown",
   "id": "4e49e4ea",
   "metadata": {},
   "source": [
    "# listeyi stringe cevirmek"
   ]
  },
  {
   "cell_type": "code",
   "execution_count": 47,
   "id": "6170bf1b",
   "metadata": {},
   "outputs": [
    {
     "name": "stdout",
     "output_type": "stream",
     "text": [
      "siyah beyaz sari mavi yesil\n"
     ]
    }
   ],
   "source": [
    "# .join --->> birlestirme\n",
    "stringrenkler = \" \".join(renkler)   # \" tirnak icine\" yazilan parametre ile listedeki elemanlari bolup metin olarak birlestirir.\n",
    "print(stringrenkler)                 # burada bosluk kullandik"
   ]
  },
  {
   "cell_type": "code",
   "execution_count": 48,
   "id": "0380d7c9",
   "metadata": {},
   "outputs": [
    {
     "name": "stdout",
     "output_type": "stream",
     "text": [
      "siyah,beyaz,sari,mavi,yesil\n"
     ]
    }
   ],
   "source": [
    "stringrenkler = \",\".join(renkler)   # \" tirnak icine\" yazilan parametre ile listedeki elemanlari bolup metin olarak birlestirir.\n",
    "print(stringrenkler)"
   ]
  },
  {
   "cell_type": "code",
   "execution_count": 49,
   "id": "19b2f951",
   "metadata": {},
   "outputs": [
    {
     "name": "stdout",
     "output_type": "stream",
     "text": [
      "<class 'str'>\n"
     ]
    }
   ],
   "source": [
    "print(type(stringrenkler)) # tipi string oldu"
   ]
  },
  {
   "cell_type": "markdown",
   "id": "5240cd6a",
   "metadata": {},
   "source": [
    "# stringi listeye cevirmek"
   ]
  },
  {
   "cell_type": "code",
   "execution_count": 50,
   "id": "09bfbe4b",
   "metadata": {},
   "outputs": [],
   "source": [
    "renkler = [\"siyah\",\"beyaz\", \"sari\", \"mavi\", \"yesil\"]"
   ]
  },
  {
   "cell_type": "code",
   "execution_count": 51,
   "id": "72d96a7c",
   "metadata": {},
   "outputs": [
    {
     "name": "stdout",
     "output_type": "stream",
     "text": [
      "siyah,beyaz,sari,mavi,yesil\n"
     ]
    }
   ],
   "source": [
    "print(stringrenkler) "
   ]
  },
  {
   "cell_type": "code",
   "execution_count": 53,
   "id": "ea830872",
   "metadata": {},
   "outputs": [
    {
     "name": "stdout",
     "output_type": "stream",
     "text": [
      "siyah-beyaz-sari-mavi-yesil\n"
     ]
    }
   ],
   "source": [
    "stringrenkler = \"-\".join(renkler)  # renkleri - ile bol metin olarak yaz\n",
    "print(stringrenkler)"
   ]
  },
  {
   "cell_type": "code",
   "execution_count": 55,
   "id": "b2ac3aff",
   "metadata": {},
   "outputs": [
    {
     "name": "stdout",
     "output_type": "stream",
     "text": [
      "['siyah', 'beyaz', 'sari', 'mavi', 'yesil']\n"
     ]
    }
   ],
   "source": [
    "renkler2 = stringrenkler.split(\"-\") stringrenkleri - den parcala listele \n",
    "print(renkler2)"
   ]
  },
  {
   "cell_type": "code",
   "execution_count": null,
   "id": "6a231a53",
   "metadata": {},
   "outputs": [],
   "source": []
  }
 ],
 "metadata": {
  "kernelspec": {
   "display_name": "Python 3",
   "language": "python",
   "name": "python3"
  },
  "language_info": {
   "codemirror_mode": {
    "name": "ipython",
    "version": 3
   },
   "file_extension": ".py",
   "mimetype": "text/x-python",
   "name": "python",
   "nbconvert_exporter": "python",
   "pygments_lexer": "ipython3",
   "version": "3.8.8"
  }
 },
 "nbformat": 4,
 "nbformat_minor": 5
}
