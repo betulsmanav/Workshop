{
 "cells": [
  {
   "cell_type": "markdown",
   "id": "6dc968cc",
   "metadata": {},
   "source": [
    "# moduller"
   ]
  },
  {
   "cell_type": "markdown",
   "id": "41f70f87",
   "metadata": {},
   "source": [
    "cok kullanilan fonksiyonlarin bir araya getirilmesiyle olusturulmus pakettir. paketi projeye dahil ettiginde yazmadan kullanabilirsin"
   ]
  },
  {
   "cell_type": "code",
   "execution_count": null,
   "id": "25119944",
   "metadata": {},
   "outputs": [],
   "source": [
    "import math"
   ]
  },
  {
   "cell_type": "code",
   "execution_count": null,
   "id": "7b8abb5d",
   "metadata": {},
   "outputs": [],
   "source": [
    "sonuc = math.factorial(6)\n",
    "print(sonuc)"
   ]
  },
  {
   "cell_type": "code",
   "execution_count": null,
   "id": "0f00d26a",
   "metadata": {},
   "outputs": [],
   "source": [
    "sonuc = math.sqrt(9) # karekok\n",
    "print(sonuc)"
   ]
  },
  {
   "cell_type": "code",
   "execution_count": null,
   "id": "d1e90ff4",
   "metadata": {},
   "outputs": [],
   "source": [
    "sonuc = math.fabs(-9) # mutlak deger\n",
    "print(sonuc)"
   ]
  },
  {
   "cell_type": "code",
   "execution_count": null,
   "id": "8380cb64",
   "metadata": {},
   "outputs": [],
   "source": [
    "print(int(sonuc))"
   ]
  },
  {
   "cell_type": "code",
   "execution_count": null,
   "id": "aed92bc7",
   "metadata": {},
   "outputs": [],
   "source": [
    "# tum math modulunu import etmeyebiliriz"
   ]
  },
  {
   "cell_type": "code",
   "execution_count": null,
   "id": "287d710e",
   "metadata": {},
   "outputs": [],
   "source": [
    "from math import factorial # sadece faktoriyel fonksiyonuu import ettik"
   ]
  },
  {
   "cell_type": "code",
   "execution_count": null,
   "id": "11371aef",
   "metadata": {},
   "outputs": [],
   "source": [
    "from math import factorial, sqrt # factoriel ve karekok fonk import ettik"
   ]
  },
  {
   "cell_type": "code",
   "execution_count": null,
   "id": "f9ba4bd4",
   "metadata": {},
   "outputs": [],
   "source": [
    "from math import * # tum math modulunu import etmedik ama icindeki tum fonksiyonlari kullanabiliriz."
   ]
  },
  {
   "cell_type": "markdown",
   "id": "275daa9a",
   "metadata": {},
   "source": [
    "kendi fonksiyonlarimi hazirlayip modul olarak kullanmak istersem"
   ]
  },
  {
   "cell_type": "code",
   "execution_count": 4,
   "id": "285128d7",
   "metadata": {},
   "outputs": [],
   "source": [
    "from upper_package import my_package1,my_package2\n"
   ]
  },
  {
   "cell_type": "code",
   "execution_count": 6,
   "id": "0bf75963",
   "metadata": {},
   "outputs": [],
   "source": [
    "from upper_package.my_package2 import my_module3"
   ]
  },
  {
   "cell_type": "code",
   "execution_count": 10,
   "id": "e205482f",
   "metadata": {},
   "outputs": [
    {
     "name": "stdout",
     "output_type": "stream",
     "text": [
      "25.12\n"
     ]
    }
   ],
   "source": [
    "sonuc = my_module3.cember_cevresi(4)\n",
    "print(sonuc)"
   ]
  },
  {
   "cell_type": "code",
   "execution_count": 13,
   "id": "28ac603a",
   "metadata": {},
   "outputs": [
    {
     "name": "stdout",
     "output_type": "stream",
     "text": [
      "78.5\n"
     ]
    }
   ],
   "source": [
    "import upper_package as bmm\n",
    "sonuc = bmm.my_package2.my_module3.daire_alani(5)\n",
    "print(sonuc)"
   ]
  },
  {
   "cell_type": "markdown",
   "id": "46f5837b",
   "metadata": {},
   "source": [
    "# RANDOM MODULU"
   ]
  },
  {
   "cell_type": "code",
   "execution_count": null,
   "id": "a4e424bb",
   "metadata": {},
   "outputs": [],
   "source": []
  }
 ],
 "metadata": {
  "kernelspec": {
   "display_name": "Python 3",
   "language": "python",
   "name": "python3"
  },
  "language_info": {
   "codemirror_mode": {
    "name": "ipython",
    "version": 3
   },
   "file_extension": ".py",
   "mimetype": "text/x-python",
   "name": "python",
   "nbconvert_exporter": "python",
   "pygments_lexer": "ipython3",
   "version": "3.8.8"
  }
 },
 "nbformat": 4,
 "nbformat_minor": 5
}
