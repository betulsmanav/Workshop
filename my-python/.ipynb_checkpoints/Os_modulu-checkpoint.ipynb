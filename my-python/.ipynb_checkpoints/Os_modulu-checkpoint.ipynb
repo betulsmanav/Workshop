{
 "cells": [
  {
   "cell_type": "code",
   "execution_count": 6,
   "id": "cbb4b792",
   "metadata": {},
   "outputs": [],
   "source": [
    "import os"
   ]
  },
  {
   "cell_type": "code",
   "execution_count": 7,
   "id": "1283b211",
   "metadata": {},
   "outputs": [
    {
     "name": "stdout",
     "output_type": "stream",
     "text": [
      "C:\\Users\\ASUS\\Desktop\\Workshop\\my-python\n"
     ]
    }
   ],
   "source": [
    "print(os.getcwd()) # bulundugum dizini calistirir.(current-working-directory)"
   ]
  },
  {
   "cell_type": "code",
   "execution_count": 8,
   "id": "08f8815d",
   "metadata": {},
   "outputs": [],
   "source": [
    "os.chdir(\"workingFolder/\") # beni istedigim dizine tasir."
   ]
  },
  {
   "cell_type": "code",
   "execution_count": 9,
   "id": "114014c0",
   "metadata": {},
   "outputs": [
    {
     "name": "stdout",
     "output_type": "stream",
     "text": [
      "C:\\Users\\ASUS\\Desktop\\Workshop\\my-python\\workingFolder\n"
     ]
    }
   ],
   "source": [
    "print(os.getcwd()) "
   ]
  },
  {
   "cell_type": "code",
   "execution_count": 10,
   "id": "945034ab",
   "metadata": {},
   "outputs": [
    {
     "name": "stdout",
     "output_type": "stream",
     "text": [
      "['file1.txt', 'file2.txt', 'file3.txt', 'file4.txt', 'file5.txt']\n"
     ]
    }
   ],
   "source": [
    "print(os.listdir()) # bulundugum kalasorun icerigini listeler"
   ]
  },
  {
   "cell_type": "code",
   "execution_count": 11,
   "id": "a0d1aa3c",
   "metadata": {},
   "outputs": [
    {
     "ename": "SyntaxError",
     "evalue": "EOL while scanning string literal (<ipython-input-11-c35be036f403>, line 1)",
     "output_type": "error",
     "traceback": [
      "\u001b[1;36m  File \u001b[1;32m\"<ipython-input-11-c35be036f403>\"\u001b[1;36m, line \u001b[1;32m1\u001b[0m\n\u001b[1;33m    print(os.listdir('C:\\\\Users\\ASUS\\Desktop\\Workshop\\'))\u001b[0m\n\u001b[1;37m                                                         ^\u001b[0m\n\u001b[1;31mSyntaxError\u001b[0m\u001b[1;31m:\u001b[0m EOL while scanning string literal\n"
     ]
    }
   ],
   "source": [
    "print(os.listdir('C:\\\\Users\\ASUS\\Desktop\\Workshop\\'))"
   ]
  },
  {
   "cell_type": "code",
   "execution_count": 12,
   "id": "8eae7dbd",
   "metadata": {},
   "outputs": [
    {
     "data": {
      "text/plain": [
       "'C:\\\\Users\\\\ASUS\\\\Desktop\\\\Workshop\\\\my-python\\\\workingFolder'"
      ]
     },
     "execution_count": 12,
     "metadata": {},
     "output_type": "execute_result"
    }
   ],
   "source": [
    "os.getcwd()"
   ]
  },
  {
   "cell_type": "code",
   "execution_count": 13,
   "id": "7ab43d9d",
   "metadata": {},
   "outputs": [],
   "source": [
    "os.chdir('C:\\\\Users\\\\ASUS\\\\Desktop\\\\Workshop\\\\my-python')"
   ]
  },
  {
   "cell_type": "markdown",
   "id": "4c1f505b",
   "metadata": {},
   "source": [
    "# onemli bir not\n",
    "jupiterde calisirken os.getcwd komutunu print le  yazdirirsan\n",
    "dosya yolunu daha sonra kullanirken unicode hatasi alirsin !!! \\\\ !!!"
   ]
  },
  {
   "cell_type": "code",
   "execution_count": 14,
   "id": "95f16760",
   "metadata": {},
   "outputs": [
    {
     "data": {
      "text/plain": [
       "'C:\\\\Users\\\\ASUS\\\\Desktop\\\\Workshop\\\\my-python'"
      ]
     },
     "execution_count": 14,
     "metadata": {},
     "output_type": "execute_result"
    }
   ],
   "source": [
    "os.getcwd()"
   ]
  },
  {
   "cell_type": "code",
   "execution_count": 15,
   "id": "1672984b",
   "metadata": {},
   "outputs": [
    {
     "data": {
      "text/plain": [
       "['.ipynb_checkpoints',\n",
       " 'deneme_klasoru',\n",
       " 'dictionary.ipynb',\n",
       " 'donguler ( for ve while).ipynb',\n",
       " 'for_dongulerı.ipynb',\n",
       " 'if_elif_else.ipynb',\n",
       " 'input.ipynb',\n",
       " 'listeler.ipynb',\n",
       " 'moduller.ipynb',\n",
       " 'moduller_2.ipynb',\n",
       " 'Os_modulu.ipynb',\n",
       " 'Regex_Modulu.ipynb',\n",
       " 'sorular.ipynb',\n",
       " 'tuples-sets.ipynb',\n",
       " 'upper_package',\n",
       " 'workingFolder']"
      ]
     },
     "execution_count": 15,
     "metadata": {},
     "output_type": "execute_result"
    }
   ],
   "source": [
    "os.listdir() # bulundugum konumun icerigini listeler"
   ]
  },
  {
   "cell_type": "code",
   "execution_count": 16,
   "id": "9fea3cad",
   "metadata": {},
   "outputs": [
    {
     "data": {
      "text/plain": [
       "['.git', 'my-python']"
      ]
     },
     "execution_count": 16,
     "metadata": {},
     "output_type": "execute_result"
    }
   ],
   "source": [
    "os.listdir('C:\\\\Users\\\\ASUS\\\\Desktop\\\\Workshop') \n",
    "# istedigim dosyanin icerini yazdirmak icin.."
   ]
  },
  {
   "cell_type": "code",
   "execution_count": 17,
   "id": "1d83de3b",
   "metadata": {},
   "outputs": [
    {
     "name": "stdout",
     "output_type": "stream",
     "text": [
      ".ipynb_checkpoints\n",
      "deneme_klasoru\n",
      "dictionary.ipynb\n",
      "donguler ( for ve while).ipynb\n",
      "for_dongulerı.ipynb\n",
      "if_elif_else.ipynb\n",
      "input.ipynb\n",
      "listeler.ipynb\n",
      "moduller.ipynb\n",
      "moduller_2.ipynb\n",
      "Os_modulu.ipynb\n",
      "Regex_Modulu.ipynb\n",
      "sorular.ipynb\n",
      "tuples-sets.ipynb\n",
      "upper_package\n",
      "workingFolder\n"
     ]
    }
   ],
   "source": [
    "for dosya in os.listdir():  \n",
    "    print(dosya)"
   ]
  },
  {
   "cell_type": "code",
   "execution_count": 18,
   "id": "7867db77",
   "metadata": {},
   "outputs": [
    {
     "ename": "FileExistsError",
     "evalue": "[WinError 183] Halen varolan bir dosya oluşturulamaz: 'deneme_klasoru'",
     "output_type": "error",
     "traceback": [
      "\u001b[1;31m---------------------------------------------------------------------------\u001b[0m",
      "\u001b[1;31mFileExistsError\u001b[0m                           Traceback (most recent call last)",
      "\u001b[1;32m<ipython-input-18-09748bbf6294>\u001b[0m in \u001b[0;36m<module>\u001b[1;34m\u001b[0m\n\u001b[1;32m----> 1\u001b[1;33m \u001b[0mos\u001b[0m\u001b[1;33m.\u001b[0m\u001b[0mmkdir\u001b[0m\u001b[1;33m(\u001b[0m\u001b[1;34m\"deneme_klasoru\"\u001b[0m\u001b[1;33m)\u001b[0m \u001b[1;31m# yeni dosya olusturur.\u001b[0m\u001b[1;33m\u001b[0m\u001b[1;33m\u001b[0m\u001b[0m\n\u001b[0m",
      "\u001b[1;31mFileExistsError\u001b[0m: [WinError 183] Halen varolan bir dosya oluşturulamaz: 'deneme_klasoru'"
     ]
    }
   ],
   "source": [
    "os.mkdir(\"deneme_klasoru\") # yeni dosya olusturur."
   ]
  },
  {
   "cell_type": "code",
   "execution_count": 19,
   "id": "02b22b5a",
   "metadata": {},
   "outputs": [
    {
     "data": {
      "text/plain": [
       "['.ipynb_checkpoints',\n",
       " 'deneme_klasoru',\n",
       " 'dictionary.ipynb',\n",
       " 'donguler ( for ve while).ipynb',\n",
       " 'for_dongulerı.ipynb',\n",
       " 'if_elif_else.ipynb',\n",
       " 'input.ipynb',\n",
       " 'listeler.ipynb',\n",
       " 'moduller.ipynb',\n",
       " 'moduller_2.ipynb',\n",
       " 'Os_modulu.ipynb',\n",
       " 'Regex_Modulu.ipynb',\n",
       " 'sorular.ipynb',\n",
       " 'tuples-sets.ipynb',\n",
       " 'upper_package',\n",
       " 'workingFolder']"
      ]
     },
     "execution_count": 19,
     "metadata": {},
     "output_type": "execute_result"
    }
   ],
   "source": [
    "os.listdir('C:\\\\Users\\\\ASUS\\\\Desktop\\\\Workshop\\\\my-python')"
   ]
  },
  {
   "cell_type": "code",
   "execution_count": 20,
   "id": "07e98576",
   "metadata": {},
   "outputs": [
    {
     "data": {
      "text/plain": [
       "'C:\\\\Users\\\\ASUS\\\\Desktop\\\\Workshop\\\\my-python'"
      ]
     },
     "execution_count": 20,
     "metadata": {},
     "output_type": "execute_result"
    }
   ],
   "source": [
    "os.getcwd()"
   ]
  },
  {
   "cell_type": "code",
   "execution_count": 21,
   "id": "30144a21",
   "metadata": {},
   "outputs": [],
   "source": [
    "os.chdir('C:\\\\Users\\\\ASUS\\\\Desktop\\\\Workshop\\\\my-python\\deneme_klasoru')"
   ]
  },
  {
   "cell_type": "code",
   "execution_count": 22,
   "id": "c02159a1",
   "metadata": {},
   "outputs": [],
   "source": [
    "os.makedirs(\"deneme1/deneme2/deneme3\") # icice birden fazla kalasor olusturma"
   ]
  },
  {
   "cell_type": "markdown",
   "id": "52401e86",
   "metadata": {},
   "source": [
    "# klasor silme"
   ]
  },
  {
   "cell_type": "code",
   "execution_count": 23,
   "id": "1cd18252",
   "metadata": {},
   "outputs": [
    {
     "ename": "FileNotFoundError",
     "evalue": "[WinError 2] Sistem belirtilen dosyayı bulamıyor: 'deneme3'",
     "output_type": "error",
     "traceback": [
      "\u001b[1;31m---------------------------------------------------------------------------\u001b[0m",
      "\u001b[1;31mFileNotFoundError\u001b[0m                         Traceback (most recent call last)",
      "\u001b[1;32m<ipython-input-23-e5b79d0da25b>\u001b[0m in \u001b[0;36m<module>\u001b[1;34m\u001b[0m\n\u001b[1;32m----> 1\u001b[1;33m \u001b[0mos\u001b[0m\u001b[1;33m.\u001b[0m\u001b[0mrmdir\u001b[0m\u001b[1;33m(\u001b[0m\u001b[1;34m\"deneme3\"\u001b[0m\u001b[1;33m)\u001b[0m \u001b[1;31m# dosya silmek istedigim konumda olmadigim icin hata verdi\u001b[0m\u001b[1;33m\u001b[0m\u001b[1;33m\u001b[0m\u001b[0m\n\u001b[0m",
      "\u001b[1;31mFileNotFoundError\u001b[0m: [WinError 2] Sistem belirtilen dosyayı bulamıyor: 'deneme3'"
     ]
    }
   ],
   "source": [
    "os.rmdir(\"deneme3\") # dosya silmek istedigim konumda olmadigim icin hata verdi"
   ]
  },
  {
   "cell_type": "code",
   "execution_count": 24,
   "id": "85ddc5d8",
   "metadata": {},
   "outputs": [],
   "source": [
    "os.chdir('C:\\\\Users\\\\ASUS\\\\Desktop\\\\Workshop\\\\my-python\\deneme_klasoru\\deneme1\\deneme2')"
   ]
  },
  {
   "cell_type": "code",
   "execution_count": 25,
   "id": "657f3c83",
   "metadata": {},
   "outputs": [
    {
     "data": {
      "text/plain": [
       "'C:\\\\Users\\\\ASUS\\\\Desktop\\\\Workshop\\\\my-python\\\\deneme_klasoru\\\\deneme1\\\\deneme2'"
      ]
     },
     "execution_count": 25,
     "metadata": {},
     "output_type": "execute_result"
    }
   ],
   "source": [
    "os.getcwd() "
   ]
  },
  {
   "cell_type": "code",
   "execution_count": 26,
   "id": "0270cb91",
   "metadata": {},
   "outputs": [
    {
     "data": {
      "text/plain": [
       "['deneme3', 'deneme_eski', 'deneme_klasoru', 'yeni_dosya.txt']"
      ]
     },
     "execution_count": 26,
     "metadata": {},
     "output_type": "execute_result"
    }
   ],
   "source": [
    "os.listdir() "
   ]
  },
  {
   "cell_type": "code",
   "execution_count": 27,
   "id": "55f07638",
   "metadata": {},
   "outputs": [],
   "source": [
    "os.rmdir(\"deneme3\") # dosyanin ici bossa silme islemi yapar."
   ]
  },
  {
   "cell_type": "code",
   "execution_count": 28,
   "id": "85e799d2",
   "metadata": {},
   "outputs": [
    {
     "data": {
      "text/plain": [
       "['deneme_eski', 'deneme_klasoru', 'yeni_dosya.txt']"
      ]
     },
     "execution_count": 28,
     "metadata": {},
     "output_type": "execute_result"
    }
   ],
   "source": [
    "os.listdir()"
   ]
  },
  {
   "cell_type": "markdown",
   "id": "e1ce5896",
   "metadata": {},
   "source": [
    "os.O_RDWR    read end write  oku ve yaz\n"
   ]
  },
  {
   "cell_type": "markdown",
   "id": "ad1dbeac",
   "metadata": {},
   "source": [
    "os.O_RDONLY  read only       sadece oku\n"
   ]
  },
  {
   "cell_type": "markdown",
   "id": "8e53c005",
   "metadata": {},
   "source": [
    "os.O_WONLY   write only      sadece yaz\n"
   ]
  },
  {
   "cell_type": "markdown",
   "id": "0a3b9197",
   "metadata": {},
   "source": [
    "os.O_CREAT   create          olustur"
   ]
  },
  {
   "cell_type": "code",
   "execution_count": 29,
   "id": "d784e731",
   "metadata": {},
   "outputs": [],
   "source": [
    "yeni_dosya = os.open('yeni_dosya.txt', os.O_RDWR|os.O_CREAT)\n",
    "os.write(yeni_dosya, \"merhaba dunya!\".encode())\n",
    "os.close(yeni_dosya)"
   ]
  },
  {
   "cell_type": "code",
   "execution_count": 30,
   "id": "cecbb99c",
   "metadata": {},
   "outputs": [
    {
     "name": "stdout",
     "output_type": "stream",
     "text": [
      "b'merha'\n"
     ]
    }
   ],
   "source": [
    "yeni_dosya = os.open('yeni_dosya.txt', os.O_RDONLY)\n",
    "icerik = os.read(yeni_dosya,5)\n",
    "print(icerik)\n",
    "os.close(yeni_dosya)"
   ]
  },
  {
   "cell_type": "code",
   "execution_count": 31,
   "id": "e586b1db",
   "metadata": {},
   "outputs": [
    {
     "name": "stdout",
     "output_type": "stream",
     "text": [
      "os.stat_result(st_mode=33206, st_ino=1688849860848843, st_dev=4271442399, st_nlink=1, st_uid=0, st_gid=0, st_size=14, st_atime=1640638665, st_mtime=1640638664, st_ctime=1640634131)\n"
     ]
    }
   ],
   "source": [
    "# butun hepsini dondur\n",
    "yeni_dosya = os.open('yeni_dosya.txt', os.O_RDONLY)\n",
    "icerik = os.read(yeni_dosya,5)\n",
    "istatistik = os.stat(yeni_dosya)\n",
    "print(istatistik)"
   ]
  },
  {
   "cell_type": "code",
   "execution_count": 32,
   "id": "197c0207",
   "metadata": {},
   "outputs": [
    {
     "name": "stdout",
     "output_type": "stream",
     "text": [
      "b'merhaba dunya!'\n"
     ]
    }
   ],
   "source": [
    "yeni_dosya = os.open('yeni_dosya.txt', os.O_RDONLY)\n",
    "\n",
    "uzunluk = os.stat(yeni_dosya).st_size\n",
    "icerik = os.read(yeni_dosya,uzunluk)\n",
    "print(icerik)"
   ]
  },
  {
   "cell_type": "markdown",
   "id": "ddf5af86",
   "metadata": {},
   "source": [
    "# dosya silme\n"
   ]
  },
  {
   "cell_type": "code",
   "execution_count": 33,
   "id": "3df5e876",
   "metadata": {},
   "outputs": [
    {
     "data": {
      "text/plain": [
       "'C:\\\\Users\\\\ASUS\\\\Desktop\\\\Workshop\\\\my-python\\\\deneme_klasoru\\\\deneme1\\\\deneme2'"
      ]
     },
     "execution_count": 33,
     "metadata": {},
     "output_type": "execute_result"
    }
   ],
   "source": [
    "os.getcwd()"
   ]
  },
  {
   "cell_type": "code",
   "execution_count": 34,
   "id": "d9d5ddc6",
   "metadata": {},
   "outputs": [
    {
     "data": {
      "text/plain": [
       "['deneme_eski', 'deneme_klasoru', 'yeni_dosya.txt']"
      ]
     },
     "execution_count": 34,
     "metadata": {},
     "output_type": "execute_result"
    }
   ],
   "source": [
    "os.listdir()"
   ]
  },
  {
   "cell_type": "code",
   "execution_count": 35,
   "id": "61403df4",
   "metadata": {},
   "outputs": [
    {
     "ename": "FileNotFoundError",
     "evalue": "[WinError 2] Sistem belirtilen dosyayı bulamıyor: 'silinecek_dosya.txt'",
     "output_type": "error",
     "traceback": [
      "\u001b[1;31m---------------------------------------------------------------------------\u001b[0m",
      "\u001b[1;31mFileNotFoundError\u001b[0m                         Traceback (most recent call last)",
      "\u001b[1;32m<ipython-input-35-1c3fc3bbefd8>\u001b[0m in \u001b[0;36m<module>\u001b[1;34m\u001b[0m\n\u001b[1;32m----> 1\u001b[1;33m \u001b[0mos\u001b[0m\u001b[1;33m.\u001b[0m\u001b[0munlink\u001b[0m\u001b[1;33m(\u001b[0m\u001b[1;34m'silinecek_dosya.txt'\u001b[0m\u001b[1;33m)\u001b[0m\u001b[1;33m\u001b[0m\u001b[1;33m\u001b[0m\u001b[0m\n\u001b[0m",
      "\u001b[1;31mFileNotFoundError\u001b[0m: [WinError 2] Sistem belirtilen dosyayı bulamıyor: 'silinecek_dosya.txt'"
     ]
    }
   ],
   "source": [
    "os.unlink('silinecek_dosya.txt') "
   ]
  },
  {
   "cell_type": "code",
   "execution_count": 36,
   "id": "eb7d0999",
   "metadata": {},
   "outputs": [
    {
     "data": {
      "text/plain": [
       "['deneme_eski', 'deneme_klasoru', 'yeni_dosya.txt']"
      ]
     },
     "execution_count": 36,
     "metadata": {},
     "output_type": "execute_result"
    }
   ],
   "source": [
    "os.listdir()"
   ]
  },
  {
   "cell_type": "code",
   "execution_count": 37,
   "id": "91b370a1",
   "metadata": {},
   "outputs": [],
   "source": [
    "os.mkdir(\"deneme_yeni\")"
   ]
  },
  {
   "cell_type": "code",
   "execution_count": 38,
   "id": "12e61c7d",
   "metadata": {},
   "outputs": [
    {
     "data": {
      "text/plain": [
       "['deneme_eski', 'deneme_klasoru', 'deneme_yeni', 'yeni_dosya.txt']"
      ]
     },
     "execution_count": 38,
     "metadata": {},
     "output_type": "execute_result"
    }
   ],
   "source": [
    "os.listdir()"
   ]
  },
  {
   "cell_type": "markdown",
   "id": "998a8e00",
   "metadata": {},
   "source": [
    "# yeniden adlandirma"
   ]
  },
  {
   "cell_type": "code",
   "execution_count": 39,
   "id": "982993b1",
   "metadata": {},
   "outputs": [
    {
     "ename": "FileExistsError",
     "evalue": "[WinError 183] Halen varolan bir dosya oluşturulamaz: 'deneme_yeni' -> 'deneme_eski'",
     "output_type": "error",
     "traceback": [
      "\u001b[1;31m---------------------------------------------------------------------------\u001b[0m",
      "\u001b[1;31mFileExistsError\u001b[0m                           Traceback (most recent call last)",
      "\u001b[1;32m<ipython-input-39-1c698c8dd50e>\u001b[0m in \u001b[0;36m<module>\u001b[1;34m\u001b[0m\n\u001b[1;32m----> 1\u001b[1;33m \u001b[0mos\u001b[0m\u001b[1;33m.\u001b[0m\u001b[0mrename\u001b[0m\u001b[1;33m(\u001b[0m\u001b[1;34m'deneme_yeni'\u001b[0m\u001b[1;33m,\u001b[0m\u001b[1;34m'deneme_eski'\u001b[0m\u001b[1;33m)\u001b[0m \u001b[1;31m# dosyanin ismini degistirme\u001b[0m\u001b[1;33m\u001b[0m\u001b[1;33m\u001b[0m\u001b[0m\n\u001b[0m",
      "\u001b[1;31mFileExistsError\u001b[0m: [WinError 183] Halen varolan bir dosya oluşturulamaz: 'deneme_yeni' -> 'deneme_eski'"
     ]
    }
   ],
   "source": [
    "os.rename('deneme_yeni','deneme_eski') # dosyanin ismini degistirme"
   ]
  },
  {
   "cell_type": "code",
   "execution_count": 40,
   "id": "c42002e3",
   "metadata": {},
   "outputs": [
    {
     "data": {
      "text/plain": [
       "['deneme_eski', 'deneme_klasoru', 'deneme_yeni', 'yeni_dosya.txt']"
      ]
     },
     "execution_count": 40,
     "metadata": {},
     "output_type": "execute_result"
    }
   ],
   "source": [
    "os.listdir()"
   ]
  },
  {
   "cell_type": "code",
   "execution_count": 41,
   "id": "bc9a6b00",
   "metadata": {},
   "outputs": [
    {
     "data": {
      "text/plain": [
       "os.stat_result(st_mode=33206, st_ino=1688849860848843, st_dev=4271442399, st_nlink=1, st_uid=0, st_gid=0, st_size=14, st_atime=1640638666, st_mtime=1640638664, st_ctime=1640634131)"
      ]
     },
     "execution_count": 41,
     "metadata": {},
     "output_type": "execute_result"
    }
   ],
   "source": [
    "os.stat(\"yeni_dosya.txt\")"
   ]
  },
  {
   "cell_type": "code",
   "execution_count": 43,
   "id": "65298de9",
   "metadata": {},
   "outputs": [
    {
     "data": {
      "text/plain": [
       "os.stat_result(st_mode=16895, st_ino=18577348462950517, st_dev=4271442399, st_nlink=1, st_uid=0, st_gid=0, st_size=4096, st_atime=1640638837, st_mtime=1640638776, st_ctime=1639914928)"
      ]
     },
     "execution_count": 43,
     "metadata": {},
     "output_type": "execute_result"
    }
   ],
   "source": [
    "os.stat(\"C:\\\\Users\\\\ASUS\\\\Desktop\\\\Workshop\\\\my-python\")"
   ]
  },
  {
   "cell_type": "code",
   "execution_count": 44,
   "id": "857a38c6",
   "metadata": {},
   "outputs": [
    {
     "data": {
      "text/plain": [
       "1640638837.858352"
      ]
     },
     "execution_count": 44,
     "metadata": {},
     "output_type": "execute_result"
    }
   ],
   "source": [
    "os.stat(\"C:\\\\Users\\\\ASUS\\\\Desktop\\\\Workshop\\\\my-python\").st_atime # son erisim"
   ]
  },
  {
   "cell_type": "code",
   "execution_count": 45,
   "id": "6dd2b336",
   "metadata": {},
   "outputs": [],
   "source": [
    "from datetime import datetime"
   ]
  },
  {
   "cell_type": "code",
   "execution_count": 48,
   "id": "1e7396e7",
   "metadata": {},
   "outputs": [
    {
     "name": "stdout",
     "output_type": "stream",
     "text": [
      "2021-12-28 00:03:33.040524\n"
     ]
    }
   ],
   "source": [
    "zaman = datetime.fromtimestamp(os.stat(\"C:\\\\Users\\\\ASUS\\\\Desktop\\\\Workshop\\\\my-python\").st_atime)\n",
    "print(zaman)\n"
   ]
  },
  {
   "cell_type": "code",
   "execution_count": 49,
   "id": "05c47ffa",
   "metadata": {},
   "outputs": [
    {
     "data": {
      "text/plain": [
       "4096"
      ]
     },
     "execution_count": 49,
     "metadata": {},
     "output_type": "execute_result"
    }
   ],
   "source": [
    "os.stat(\"C:\\\\Users\\\\ASUS\\\\Desktop\\\\Workshop\\\\my-python\").st_size # byte olarak boyutu"
   ]
  },
  {
   "cell_type": "code",
   "execution_count": 50,
   "id": "e1132212",
   "metadata": {},
   "outputs": [
    {
     "data": {
      "text/plain": [
       "1640639133.21803"
      ]
     },
     "execution_count": 50,
     "metadata": {},
     "output_type": "execute_result"
    }
   ],
   "source": [
    "os.stat(\"C:\\\\Users\\\\ASUS\\\\Desktop\\\\Workshop\\\\my-python\").st_mtime # son degisiklik"
   ]
  },
  {
   "cell_type": "code",
   "execution_count": 51,
   "id": "7e75d8c7",
   "metadata": {},
   "outputs": [
    {
     "data": {
      "text/plain": [
       "'C:\\\\Users\\\\ASUS\\\\Desktop\\\\Workshop\\\\my-python\\\\deneme_klasoru\\\\deneme1\\\\deneme2'"
      ]
     },
     "execution_count": 51,
     "metadata": {},
     "output_type": "execute_result"
    }
   ],
   "source": [
    "os.getcwd()"
   ]
  },
  {
   "cell_type": "code",
   "execution_count": 55,
   "id": "cc957106",
   "metadata": {},
   "outputs": [
    {
     "name": "stdout",
     "output_type": "stream",
     "text": [
      "gecerli klasor  C:\\Users\\ASUS\\Desktop\\Workshop\\my-python\n",
      "icindeki klasorler ['.ipynb_checkpoints', 'deneme_klasoru', 'upper_package', 'workingFolder']\n",
      "icindeki dosyalar ['dictionary.ipynb', 'donguler ( for ve while).ipynb', 'for_dongulerı.ipynb', 'if_elif_else.ipynb', 'input.ipynb', 'listeler.ipynb', 'moduller.ipynb', 'moduller_2.ipynb', 'Os_modulu.ipynb', 'sorular.ipynb', 'tuples-sets.ipynb']\n",
      "\n",
      "gecerli klasor  C:\\Users\\ASUS\\Desktop\\Workshop\\my-python\\.ipynb_checkpoints\n",
      "icindeki klasorler []\n",
      "icindeki dosyalar ['Os_modulu-checkpoint.ipynb']\n",
      "\n",
      "gecerli klasor  C:\\Users\\ASUS\\Desktop\\Workshop\\my-python\\deneme_klasoru\n",
      "icindeki klasorler ['deneme1']\n",
      "icindeki dosyalar []\n",
      "\n",
      "gecerli klasor  C:\\Users\\ASUS\\Desktop\\Workshop\\my-python\\deneme_klasoru\\deneme1\n",
      "icindeki klasorler ['deneme2']\n",
      "icindeki dosyalar []\n",
      "\n",
      "gecerli klasor  C:\\Users\\ASUS\\Desktop\\Workshop\\my-python\\deneme_klasoru\\deneme1\\deneme2\n",
      "icindeki klasorler ['deneme_eski', 'deneme_klasoru', 'deneme_yeni']\n",
      "icindeki dosyalar ['yeni_dosya.txt']\n",
      "\n",
      "gecerli klasor  C:\\Users\\ASUS\\Desktop\\Workshop\\my-python\\deneme_klasoru\\deneme1\\deneme2\\deneme_eski\n",
      "icindeki klasorler []\n",
      "icindeki dosyalar []\n",
      "\n",
      "gecerli klasor  C:\\Users\\ASUS\\Desktop\\Workshop\\my-python\\deneme_klasoru\\deneme1\\deneme2\\deneme_klasoru\n",
      "icindeki klasorler []\n",
      "icindeki dosyalar []\n",
      "\n",
      "gecerli klasor  C:\\Users\\ASUS\\Desktop\\Workshop\\my-python\\deneme_klasoru\\deneme1\\deneme2\\deneme_yeni\n",
      "icindeki klasorler []\n",
      "icindeki dosyalar []\n",
      "\n",
      "gecerli klasor  C:\\Users\\ASUS\\Desktop\\Workshop\\my-python\\upper_package\n",
      "icindeki klasorler ['my_package1', 'my_package2', '__pycache__']\n",
      "icindeki dosyalar ['fonksiyonlar.ipynb', '__init__.py']\n",
      "\n",
      "gecerli klasor  C:\\Users\\ASUS\\Desktop\\Workshop\\my-python\\upper_package\\my_package1\n",
      "icindeki klasorler ['__pycache__']\n",
      "icindeki dosyalar ['my_module1.py', 'my_module2.py', '__init__.py']\n",
      "\n",
      "gecerli klasor  C:\\Users\\ASUS\\Desktop\\Workshop\\my-python\\upper_package\\my_package1\\__pycache__\n",
      "icindeki klasorler []\n",
      "icindeki dosyalar ['my_module1.cpython-38.pyc', 'my_module2.cpython-38.pyc', '__init__.cpython-38.pyc']\n",
      "\n",
      "gecerli klasor  C:\\Users\\ASUS\\Desktop\\Workshop\\my-python\\upper_package\\my_package2\n",
      "icindeki klasorler ['__pycache__']\n",
      "icindeki dosyalar ['my_module3.py', 'my_module4.py', '__init__.py']\n",
      "\n",
      "gecerli klasor  C:\\Users\\ASUS\\Desktop\\Workshop\\my-python\\upper_package\\my_package2\\__pycache__\n",
      "icindeki klasorler []\n",
      "icindeki dosyalar ['my_module3.cpython-38.pyc', 'my_module4.cpython-38.pyc', '__init__.cpython-38.pyc']\n",
      "\n",
      "gecerli klasor  C:\\Users\\ASUS\\Desktop\\Workshop\\my-python\\upper_package\\__pycache__\n",
      "icindeki klasorler []\n",
      "icindeki dosyalar ['__init__.cpython-38.pyc']\n",
      "\n",
      "gecerli klasor  C:\\Users\\ASUS\\Desktop\\Workshop\\my-python\\workingFolder\n",
      "icindeki klasorler []\n",
      "icindeki dosyalar ['file1.txt', 'file2.txt', 'file3.txt', 'file4.txt', 'file5.txt']\n",
      "\n"
     ]
    }
   ],
   "source": [
    "for gecerli_klasor, icindeki_klasorler, icindeki_dosyalar in os.walk('C:\\\\Users\\\\ASUS\\\\Desktop\\\\Workshop\\\\my-python'):\n",
    "    print(\"gecerli klasor \", gecerli_klasor)\n",
    "    print(\"icindeki klasorler\", icindeki_klasorler)\n",
    "    print(\"icindeki dosyalar\", icindeki_dosyalar )\n",
    "    print(\"\")"
   ]
  },
  {
   "cell_type": "code",
   "execution_count": 59,
   "id": "bf95f231",
   "metadata": {},
   "outputs": [
    {
     "data": {
      "text/plain": [
       "'deneme1\\\\deneme2\\\\deneme3'"
      ]
     },
     "execution_count": 59,
     "metadata": {},
     "output_type": "execute_result"
    }
   ],
   "source": [
    "os.path.join(\"deneme1\", \"deneme2\", \"deneme3\")"
   ]
  },
  {
   "cell_type": "code",
   "execution_count": 60,
   "id": "0b2c5442",
   "metadata": {},
   "outputs": [
    {
     "data": {
      "text/plain": [
       "'/deneme2\\\\deneme3'"
      ]
     },
     "execution_count": 60,
     "metadata": {},
     "output_type": "execute_result"
    }
   ],
   "source": [
    "os.path.join(\"deneme1\", \"/deneme2\", \"deneme3\")"
   ]
  },
  {
   "cell_type": "code",
   "execution_count": 61,
   "id": "76c7ab36",
   "metadata": {},
   "outputs": [
    {
     "data": {
      "text/plain": [
       "'/deneme3'"
      ]
     },
     "execution_count": 61,
     "metadata": {},
     "output_type": "execute_result"
    }
   ],
   "source": [
    "os.path.join(\"deneme1\", \"deneme2\", \"/deneme3\")"
   ]
  },
  {
   "cell_type": "code",
   "execution_count": 62,
   "id": "cf5f44a0",
   "metadata": {},
   "outputs": [
    {
     "data": {
      "text/plain": [
       "False"
      ]
     },
     "execution_count": 62,
     "metadata": {},
     "output_type": "execute_result"
    }
   ],
   "source": [
    "os.path.isfile('C:\\\\Users\\\\ASUS\\\\Desktop\\\\Workshop\\\\my-python') # bu adres dosya mi?"
   ]
  },
  {
   "cell_type": "code",
   "execution_count": 63,
   "id": "86baedb3",
   "metadata": {},
   "outputs": [
    {
     "data": {
      "text/plain": [
       "True"
      ]
     },
     "execution_count": 63,
     "metadata": {},
     "output_type": "execute_result"
    }
   ],
   "source": [
    "os.path.isfile('C:\\\\Users\\\\ASUS\\\\Desktop\\\\Workshop\\\\my-python\\\\tuples-sets.ipynb') # dosyz uzantilarini bulmak icin"
   ]
  },
  {
   "cell_type": "code",
   "execution_count": 65,
   "id": "b3aa706e",
   "metadata": {},
   "outputs": [
    {
     "data": {
      "text/plain": [
       "('C:\\\\Users\\\\ASUS\\\\Desktop\\\\Workshop\\\\my-python\\\\tuples-sets', '.ipynb')"
      ]
     },
     "execution_count": 65,
     "metadata": {},
     "output_type": "execute_result"
    }
   ],
   "source": [
    "os.path.splitext(\"C:\\\\Users\\\\ASUS\\\\Desktop\\\\Workshop\\\\my-python\\\\tuples-sets.ipynb\")"
   ]
  },
  {
   "cell_type": "code",
   "execution_count": null,
   "id": "cf1bd947",
   "metadata": {},
   "outputs": [],
   "source": []
  }
 ],
 "metadata": {
  "kernelspec": {
   "display_name": "Python 3",
   "language": "python",
   "name": "python3"
  },
  "language_info": {
   "codemirror_mode": {
    "name": "ipython",
    "version": 3
   },
   "file_extension": ".py",
   "mimetype": "text/x-python",
   "name": "python",
   "nbconvert_exporter": "python",
   "pygments_lexer": "ipython3",
   "version": "3.8.8"
  }
 },
 "nbformat": 4,
 "nbformat_minor": 5
}
