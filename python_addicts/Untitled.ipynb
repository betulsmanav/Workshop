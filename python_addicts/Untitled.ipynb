{
 "cells": [
  {
   "cell_type": "markdown",
   "id": "0874924c",
   "metadata": {},
   "source": [
    "\n",
    "1-\n",
    "Try to find out if a number you get from the user is perfect.\n",
    "A number is called a \"perfect number\" if the sum of its divisors is equal to itself.\n",
    "For example, 6 is a perfect number. (1 + 2 + 3 = 6)\n",
    "\n",
    "Kullanıcıdan aldığınız bir sayının mükemmel olup olmadığını bulmaya çalışın.\n",
    "Bölenlerinin toplamı kendisine eşit olan bir sayıya \"mükemmel sayı\" denir. Örneğin 6 mükemmel bir sayıdır. (1 + 2 + 3 = 6)"
   ]
  },
  {
   "cell_type": "code",
   "execution_count": null,
   "id": "4c5337e8",
   "metadata": {},
   "outputs": [],
   "source": [
    "num = int(input(\"please enter your number : \"))\n",
    "sum_num = 0\n",
    "\n",
    "for i in range(1,num):\n",
    "    if num%i == 0:\n",
    "        sum_num += i \n",
    "    \n",
    "if sum_num == num:\n",
    "    print(\"girdiğiniz sayı 'mukemmel sayıdır'.\")\n",
    "else:\n",
    "    print(\"lütfen tekrar deneyiniz\")"
   ]
  },
  {
   "cell_type": "markdown",
   "id": "dcdf1358",
   "metadata": {},
   "source": [
    "mail = \"mailto: Clarusway admission@clarusway.com, 6 Haz 2021 Paz, 21:08 tarihinde şunu yazdı:\"\n",
    "\n",
    "Write python code that outputs \"clarusway.com\" from the string in the \"mail\" variable.\n",
    "\n",
    "Expected Output: clarusway.com"
   ]
  },
  {
   "cell_type": "code",
   "execution_count": null,
   "id": "c2fab9fa",
   "metadata": {},
   "outputs": [],
   "source": [
    "mail = \"mailto: Clarusway admission@clarusway.com, 6 Haz 2021 Paz, 21:08 tarihinde şunu yazdı:\"\n",
    "\n",
    "liste = mail[mail.index('@')+1 : mail.index(',')]\n",
    "\n",
    "liste"
   ]
  },
  {
   "cell_type": "markdown",
   "id": "e60671be",
   "metadata": {},
   "source": [
    "1 ve 10 arasında sayıları azalana doğru sıralayan bir program yazınız"
   ]
  },
  {
   "cell_type": "code",
   "execution_count": null,
   "id": "a6dbddb6",
   "metadata": {},
   "outputs": [],
   "source": [
    "liste = []\n",
    "for i in range(1,11):\n",
    "    liste.append(i)\n",
    "liste.reverse()\n",
    "print(liste)"
   ]
  },
  {
   "cell_type": "code",
   "execution_count": null,
   "id": "1568072d",
   "metadata": {},
   "outputs": [],
   "source": []
  },
  {
   "cell_type": "code",
   "execution_count": null,
   "id": "d74349f4",
   "metadata": {},
   "outputs": [],
   "source": [
    "a = [*range(11)]\n",
    "a.reverse()\n",
    "print(a)"
   ]
  },
  {
   "cell_type": "markdown",
   "id": "9bcaa4ba",
   "metadata": {},
   "source": [
    "Write a Python program to compute the greatest common divisor (GCD) of two positive integers\n",
    "İki pozitif tamsayının en büyük ortak bölenini (GCD) hesaplayan bir Python programı yazın"
   ]
  },
  {
   "cell_type": "code",
   "execution_count": 2,
   "id": "af8561f8",
   "metadata": {},
   "outputs": [
    {
     "name": "stdout",
     "output_type": "stream",
     "text": [
      "enter your number : 4 5\n",
      "en buyu ortak bolen :  1\n"
     ]
    }
   ],
   "source": [
    "sayı1, sayı2 = map(int, input(\"enter your number : \").split())\n",
    "\n",
    "liste = []\n",
    "\n",
    "if sayı1 > sayı2 :\n",
    "    a = sayı1\n",
    "else :\n",
    "    a = sayı2\n",
    "    \n",
    "for i in range(1,a):\n",
    "    if sayı1 % i == 0 and sayı2 % i == 0 :\n",
    "        liste.append(i)\n",
    "        \n",
    "# print(liste)\n",
    "print(\"en buyu ortak bolen : \" , max(liste))"
   ]
  },
  {
   "cell_type": "code",
   "execution_count": 3,
   "id": "5c90e6fa",
   "metadata": {},
   "outputs": [
    {
     "name": "stdout",
     "output_type": "stream",
     "text": [
      "Emma appeared 2 times\n"
     ]
    }
   ],
   "source": [
    "str_x =\"Emma is a good developer. Emma is writer.\"\n",
    "b = str_x.count('Emma')\n",
    "print(f\"Emma appeared {b} times\")\n"
   ]
  },
  {
   "cell_type": "markdown",
   "id": "65b0de5c",
   "metadata": {},
   "source": [
    "integer formatında verilen sayının döngü kullanmadan aralarında birer boşuk bırakarak tersini yazdıran program"
   ]
  },
  {
   "cell_type": "code",
   "execution_count": 1,
   "id": "086816f2",
   "metadata": {},
   "outputs": [
    {
     "name": "stdout",
     "output_type": "stream",
     "text": [
      "enter your number : 5\n",
      "5 0 0 0\n"
     ]
    }
   ],
   "source": [
    "sayi = int(input(\"enter your number : \"))\n",
    "\n",
    "print(sayi%10, (sayi%100-sayi%10)//10, (sayi%1000-sayi%100)//100, (sayi%10000-sayi%1000)//1000)\n",
    "     \n",
    "    \n",
    "    "
   ]
  },
  {
   "cell_type": "markdown",
   "id": "1ebdbba6",
   "metadata": {},
   "source": [
    "kullanıcıdan alınan iki sayının ortak bölenlerini yazdıran bir program yazınız"
   ]
  },
  {
   "cell_type": "code",
   "execution_count": null,
   "id": "eac1efe0",
   "metadata": {},
   "outputs": [],
   "source": [
    "sayi1 = int(input(\"enter your number : \"))\n",
    "sayi2 = int(input(\"enter your number : \"))\n",
    "\n",
    "liste = []\n",
    "\n",
    "if sayi1> sayi2:\n",
    "    sayim = sayi1\n",
    "else:\n",
    "    sayim = sayi2\n",
    "    \n",
    "for i in range(1,sayim):\n",
    "    if sayi1% i ==0 and sayi2% i ==0:\n",
    "        \n",
    "        liste.append(i)\n",
    "\n",
    "print(liste)\n",
    "        "
   ]
  },
  {
   "cell_type": "markdown",
   "id": "c25bd71a",
   "metadata": {},
   "source": [
    "Write a Python program to sum of three given integers. However, if two values are equal sum will be zero."
   ]
  },
  {
   "cell_type": "code",
   "execution_count": 1,
   "id": "980b9141",
   "metadata": {},
   "outputs": [
    {
     "name": "stdout",
     "output_type": "stream",
     "text": [
      "enter your number : 7\n",
      "enter your number : 8\n",
      "enter your number : 9\n",
      "24\n"
     ]
    }
   ],
   "source": [
    "num1 = int(input(\"enter your number : \"))\n",
    "num2 = int(input(\"enter your number : \"))\n",
    "num3 = int(input(\"enter your number : \"))\n",
    "\n",
    "toplam = 0\n",
    "\n",
    "if num1 == num2 or num1 == num3 or num2 == num3:\n",
    "    print(0)\n",
    "else:\n",
    "    print(num1 + num2 + num3)\n",
    "        \n",
    "  "
   ]
  },
  {
   "cell_type": "markdown",
   "id": "99bb6a08",
   "metadata": {},
   "source": [
    "Write a Python program to sum of two given integers. However, if the sum is between 15 to 20 it will return"
   ]
  },
  {
   "cell_type": "markdown",
   "id": "5d498e88",
   "metadata": {},
   "source": [
    "Verilen iki tamsayıyı toplayan bir Python programı yazın. Ancak, toplam 15 ila 20 arasındaysa, geri dönecektir."
   ]
  },
  {
   "cell_type": "code",
   "execution_count": 26,
   "id": "7d2e6d40",
   "metadata": {},
   "outputs": [
    {
     "name": "stdout",
     "output_type": "stream",
     "text": [
      "enter your number : 10\n",
      "enter your number : 6\n",
      "16\n"
     ]
    }
   ],
   "source": [
    "sayi1 = int(input(\"enter your number : \"))\n",
    "sayi2 = int(input(\"enter your number : \"))\n",
    "\n",
    "toplam = 0\n",
    "\n",
    "for i in [sayi1, sayi2]:\n",
    "    toplam +=i\n",
    "if  20 < toplam < 15:\n",
    "    print(\"Please enter different nums :\")\n",
    "else :\n",
    "    print(toplam)\n",
    "    "
   ]
  },
  {
   "cell_type": "markdown",
   "id": "99889382",
   "metadata": {},
   "source": [
    "If the entered side lengths do not form a triangle, write the code that determines the type of triangle according to the three side information entered by the user. ( In absolute value, the difference of two sides is taken, if the difference is greater than the other side, the entered values ​​do not form a triangle. This is done for all sides."
   ]
  },
  {
   "cell_type": "markdown",
   "id": "e46871f8",
   "metadata": {},
   "source": [
    "Girilen kenar uzunlukları üçgen oluşturuyorsa kullanıcının girdiği üç kenar bilgisine göre üçgenin türünü belirleyen kodu yazınız. ( Mutlak değerde iki kenarın farkı alınır, eğer fark diğer kenardan büyük ise girilen değerler üçgen oluşturmaz. Bu tüm kenarlar için yapılır."
   ]
  },
  {
   "cell_type": "code",
   "execution_count": 29,
   "id": "cf537423",
   "metadata": {},
   "outputs": [
    {
     "name": "stdout",
     "output_type": "stream",
     "text": [
      "enter your sides : 3\n",
      "enter your sides : 4\n",
      "enter your sides : 5\n",
      "ucgeniniz hayirli olsun :)\n"
     ]
    }
   ],
   "source": [
    "kenar1 = int(input(\"enter your sides : \"))\n",
    "kenar2 = int(input(\"enter your sides : \"))\n",
    "kenar3 = int(input(\"enter your sides : \"))\n",
    "\n",
    "\n",
    "if (abs(kenar1 - kenar2) > kenar3) and (abs(kenar1 - kenar3) > kenar2) and (abs(kenar2 - kenar3) > kenar1):\n",
    "    print(\"girilen degerler ucgen olusturmaz.\")\n",
    "else:\n",
    "    print(\"ucgeniniz hayirli olsun :)\")"
   ]
  },
  {
   "cell_type": "code",
   "execution_count": 38,
   "id": "b02cc3e4",
   "metadata": {},
   "outputs": [
    {
     "name": "stdout",
     "output_type": "stream",
     "text": [
      "enter your sides : 5\n",
      "enter your sides : 5\n",
      "enter your sides : 5\n",
      "ucgeniniz eskenar ucgen\n"
     ]
    }
   ],
   "source": [
    "kenar1 = int(input(\"enter your sides : \"))\n",
    "kenar2 = int(input(\"enter your sides : \"))\n",
    "kenar3 = int(input(\"enter your sides : \"))\n",
    "\n",
    "\n",
    "if (abs(kenar1 - kenar2) < kenar3) and (abs(kenar1 - kenar3) < kenar2) and (abs(kenar2 - kenar3) < kenar1):\n",
    "    if kenar1 == kenar2 == kenar3:\n",
    "        print(\"ucgeniniz eskenar ucgen\")\n",
    "    elif kenar1 == kenar2 or kenar1 == kenar3 or kenar2 == kenar3: \n",
    "        print(\"ucgeniniz ikiz kenar ucgen\")\n",
    "    else:\n",
    "        print(\"ucgeniniz hayirli olsun :)\")\n",
    "else :\n",
    "    print(\"girilen degerler ucgen olusturmaz.\")"
   ]
  },
  {
   "cell_type": "markdown",
   "id": "ad240de9",
   "metadata": {},
   "source": [
    "****** ıkı for dongusu ıle calısmadı neden?"
   ]
  },
  {
   "cell_type": "markdown",
   "id": "052be0cc",
   "metadata": {},
   "source": [
    "\n",
    "kullanıcının girdiği hatalı karakterleri kalın metin(rakam veya özel karakterleri) temizleyen ve sonuçta \"Ali Demir\" gibi çıktı veren bir kod yazalım"
   ]
  },
  {
   "cell_type": "code",
   "execution_count": 6,
   "id": "2e3b41ab",
   "metadata": {},
   "outputs": [
    {
     "name": "stdout",
     "output_type": "stream",
     "text": [
      "lütfen bır metın gırınızbet4444ul son33mez111\n",
      "Betul Sonmez\n"
     ]
    }
   ],
   "source": [
    "metin = input(\"lütfen bır metın gırınız\")\n",
    "\n",
    "yeni_metin = \"\"\n",
    "\n",
    "for i in metin:\n",
    "    if i.isalpha() or i== \" \":\n",
    "        yeni_metin += i\n",
    "        \n",
    "capitalize_metin = \" \".join([j.capitalize() for j in yeni_metin.split()])\n",
    "print(capitalize_metin)\n",
    "    \n"
   ]
  },
  {
   "cell_type": "code",
   "execution_count": 9,
   "id": "e4cb0dd2",
   "metadata": {},
   "outputs": [
    {
     "name": "stdout",
     "output_type": "stream",
     "text": [
      "\n",
      "*\n",
      "**\n",
      "***\n",
      "****\n"
     ]
    }
   ],
   "source": [
    "for i in range(0,5):\n",
    "    print(i* '*')"
   ]
  },
  {
   "cell_type": "code",
   "execution_count": 12,
   "id": "4e1e6da0",
   "metadata": {},
   "outputs": [
    {
     "name": "stdout",
     "output_type": "stream",
     "text": [
      "*****\n",
      "****\n",
      "***\n",
      "**\n",
      "*\n"
     ]
    }
   ],
   "source": [
    "for i in range(5,0,-1):\n",
    "    print(i * '*')"
   ]
  },
  {
   "cell_type": "code",
   "execution_count": 18,
   "id": "371440e2",
   "metadata": {},
   "outputs": [
    {
     "name": "stdout",
     "output_type": "stream",
     "text": [
      "1\n",
      "22\n",
      "333\n",
      "4444\n",
      "55555\n"
     ]
    }
   ],
   "source": [
    "for i in range(1,6):\n",
    "        print(i*str(int(i)))"
   ]
  },
  {
   "cell_type": "code",
   "execution_count": 42,
   "id": "22867afe",
   "metadata": {},
   "outputs": [
    {
     "name": "stdout",
     "output_type": "stream",
     "text": [
      "\n",
      "1 \n",
      "1 2 \n",
      "1 2 3 \n",
      "1 2 3 4 \n",
      "1 2 3 4 5 \n"
     ]
    }
   ],
   "source": [
    "for i in range(6):\n",
    "    for j in range(1,i+1):\n",
    "        print(j, end=\" \")\n",
    "    print()\n",
    "   "
   ]
  },
  {
   "cell_type": "code",
   "execution_count": 39,
   "id": "5ef64830",
   "metadata": {},
   "outputs": [
    {
     "name": "stdout",
     "output_type": "stream",
     "text": [
      "lutfen bır sayı gırınız :5\n",
      "    * \n",
      "   * * \n",
      "  * * * \n",
      " * * * * \n",
      "* * * * * \n"
     ]
    }
   ],
   "source": [
    "satır = int(input(\"lutfen bır sayı gırınız :\"))\n",
    "\n",
    "for i in range(1, satır+1):\n",
    "    print(\" \" * ((satır)-i) + (i * '* '))\n",
    "    "
   ]
  },
  {
   "cell_type": "code",
   "execution_count": 22,
   "id": "1275a426",
   "metadata": {},
   "outputs": [
    {
     "name": "stdout",
     "output_type": "stream",
     "text": [
      "5\n",
      "          * \n",
      "        * * \n",
      "      * * * \n",
      "    * * * * \n"
     ]
    }
   ],
   "source": [
    "satır = int(input(\"\"))\n",
    "\n",
    "bosluk = (satır * 2) # yıldızlar arasında bırer bosluk bırakmak ıcın \"* \" toplamda * carpı 2 karakter var\n",
    "                     # her satırda bosluk 2 azalıyor\n",
    "\n",
    "for i in range(1,satır):\n",
    "    print(bosluk*\" \" + i * '* ')\n",
    "    bosluk -= 2"
   ]
  },
  {
   "cell_type": "code",
   "execution_count": null,
   "id": "a4017c11",
   "metadata": {},
   "outputs": [],
   "source": []
  }
 ],
 "metadata": {
  "kernelspec": {
   "display_name": "Python 3",
   "language": "python",
   "name": "python3"
  },
  "language_info": {
   "codemirror_mode": {
    "name": "ipython",
    "version": 3
   },
   "file_extension": ".py",
   "mimetype": "text/x-python",
   "name": "python",
   "nbconvert_exporter": "python",
   "pygments_lexer": "ipython3",
   "version": "3.8.8"
  }
 },
 "nbformat": 4,
 "nbformat_minor": 5
}
