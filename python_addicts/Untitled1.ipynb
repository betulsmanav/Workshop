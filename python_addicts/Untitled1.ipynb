{
 "cells": [
  {
   "cell_type": "markdown",
   "id": "d1bb59f8",
   "metadata": {},
   "source": [
    "Write a Python program which iterates the integers from 1 to 50. For multiples of three print \"Fizz\" instead of the number and for the multiples of five print \"Buzz\". For numbers which are multiples of both three and five print \"FizzBuzz\". Sample Output : fizzbuzz 1 2 fizz 4 buzz"
   ]
  },
  {
   "cell_type": "markdown",
   "id": "765f3025",
   "metadata": {},
   "source": [
    "1'den 50'ye kadar tamsayıları yineleyen bir Python programı yazın. Üçün katları için sayı yerine 'Fizz', beşin katları için 'Buzz' yazın. Hem üç hem de beşin katı olan sayılar için 'FizzBuzz' yazdırın. Örnek Çıktı : fizzbuzz 1 2 fizz 4 buzz"
   ]
  },
  {
   "cell_type": "code",
   "execution_count": 12,
   "id": "b21ef96a",
   "metadata": {},
   "outputs": [
    {
     "name": "stdout",
     "output_type": "stream",
     "text": [
      "1 2 Fizz 4 Buzz Fizz 7 8 Fizz Buzz 11 Fizz 13 14 FizzBuzz 16 17 Fizz 19 Buzz Fizz 22 23 Fizz Buzz 26 Fizz 28 29 FizzBuzz 31 32 Fizz 34 Buzz Fizz 37 38 Fizz Buzz 41 Fizz 43 44 FizzBuzz 46 47 Fizz 49 Buzz "
     ]
    }
   ],
   "source": [
    "for i in range(1,51):\n",
    "    \n",
    "    if i%3 == 0 and i%5 == 0:\n",
    "        i= \"FizzBuzz\"\n",
    "    elif i%5 == 0:\n",
    "        i = \"Buzz\"\n",
    "    elif i%3 == 0:\n",
    "        i = \"Fizz\"\n",
    "    print(i, end=\" \")"
   ]
  },
  {
   "cell_type": "code",
   "execution_count": 1,
   "id": "b5e1a480",
   "metadata": {},
   "outputs": [
    {
     "name": "stdout",
     "output_type": "stream",
     "text": [
      "1 2 Fizz 4 Buzz Fizz 7 8 Fizz Buzz 11 Fizz 13 14 FizzBuzz 16 17 Fizz 19 Buzz Fizz 22 23 Fizz Buzz 26 Fizz 28 29 FizzBuzz 31 32 Fizz 34 Buzz Fizz 37 38 Fizz Buzz 41 Fizz 43 44 FizzBuzz 46 47 Fizz 49 Buzz "
     ]
    }
   ],
   "source": [
    "\n",
    "for i in range(1,51):\n",
    "    \n",
    "    if not i%15:  # i%15 == 0 ====> 0 False degeri alir not False True degeri alir ve if dongusu calisir.\n",
    "                  # i%15 != 0 ====> True degeri alir ve if dongusu calismaz elif e devam eder.\n",
    "        i= \"FizzBuzz\"\n",
    "    elif not i%5:\n",
    "        i = \"Buzz\"\n",
    "    elif not i%3:\n",
    "        i = \"Fizz\"\n",
    "    print(i, end=\" \")"
   ]
  },
  {
   "cell_type": "markdown",
   "id": "7291a6a0",
   "metadata": {},
   "source": [
    "Her while döngüsünde, kullanıcıdan bir sayı alın ve kullanıcı tarafından girilen sayıları 'sum' adlı bir değişkene ekleyin. Kullanıcı 'q' tuşuna bastığında döngüyü sonlandırın ve ekrana 'toplam değişkeni' yazdırın.\n"
   ]
  },
  {
   "cell_type": "code",
   "execution_count": 3,
   "id": "8a8b23b0",
   "metadata": {},
   "outputs": [
    {
     "name": "stdout",
     "output_type": "stream",
     "text": [
      "lutfen toplamak icin bir sayi giriniz:  5\n",
      "lutfen toplamak icin bir sayi giriniz:  5\n",
      "lutfen toplamak icin bir sayi giriniz:  5\n",
      "lutfen toplamak icin bir sayi giriniz:  q\n",
      "girdigiz sayilarin toplami 15 \n"
     ]
    }
   ],
   "source": [
    "toplam = 0\n",
    "while True:\n",
    "    sayi = input(\"lutfen toplamak icin bir sayi giriniz:  \")\n",
    "    \n",
    "    if not sayi == 'q':\n",
    "        toplam += int(sayi)\n",
    "    else:\n",
    "        break\n",
    "print(\"girdigiz sayilarin toplami {} \".format(toplam))\n",
    "\n",
    "    "
   ]
  },
  {
   "cell_type": "markdown",
   "id": "44d14c99",
   "metadata": {},
   "source": [
    "Elemanları ardışık sayılar olan karışık bir liste verilir. Listenin en küçük öğesi ile en büyük öğesi arasında bulunan ancak listede gösterilmeyen çift sayıdaki eksik sayıların çıktısını veren bir python kodu yazın"
   ]
  },
  {
   "cell_type": "markdown",
   "id": "052fd93e",
   "metadata": {},
   "source": [
    "Input\n",
    "\n",
    "liste = [48, 10, 11, 21, 36, 5, 6, 52, 28, 29, 53, 54, 45, 19, 20, 47, 55, 39, 41, 7, 9, 17, 26, 27, 42, 22, 37, 51, 46, 18, 44, 30, 34, 13, 15, 35, 33, 16, 50, 24]\n",
    "\n",
    "Expected Output: 8 12 14 32 38 40"
   ]
  },
  {
   "cell_type": "code",
   "execution_count": 26,
   "id": "e0731bbe",
   "metadata": {},
   "outputs": [
    {
     "name": "stdout",
     "output_type": "stream",
     "text": [
      "Ardisik sayilar listenizde eksik olan cift  sayilar [8, 12, 14, 32, 38, 40]\n"
     ]
    }
   ],
   "source": [
    "liste = [48,10,11,21,36,5,6,52,28,29,53,54,45,19,20,47,55,39,41,7,9,17,26,27,42,22,37,51,46,18,44,30,34,13,15,35,33,16,50,24]\n",
    "\n",
    "eksik_eleman = []\n",
    "\n",
    "for i in range(min(liste) , max(liste)+1):\n",
    "    if (not i in liste) and (i%2 == 0):\n",
    "        eksik_eleman.append(i)\n",
    "        \n",
    "print(\"Ardisik sayilar listenizde eksik olan cift  sayilar {}\".format(eksik_eleman))\n",
    "\n"
   ]
  },
  {
   "cell_type": "markdown",
   "id": "20158545",
   "metadata": {},
   "source": [
    "Kullanıcıdan bir string alan ve stringdeki her karakteri index numarasıyla eşleştiren bir Python dictionary yazın.\n",
    "\n",
    "Örneğin:\n",
    "\n",
    "Girdi:'clarusway'\n",
    "\n",
    "çıktı: {0: 'c', 1: 'l', 2: 'a', 3: 'r', 4: 'u', 5: 's', 6: 'w', 7: 'a' , 8: 'y'}"
   ]
  },
  {
   "cell_type": "code",
   "execution_count": 39,
   "id": "1b85d6bc",
   "metadata": {},
   "outputs": [
    {
     "name": "stdout",
     "output_type": "stream",
     "text": [
      " clarusway\n",
      "{0: 'c', 1: 'l', 2: 'a', 3: 'r', 4: 'u', 5: 's', 6: 'w', 7: 'a', 8: 'y'}\n"
     ]
    }
   ],
   "source": [
    "text = input(\" \")\n",
    "sozluk = {}\n",
    "for i in range(len(text)):\n",
    "    sozluk[i] = text[i]\n",
    "print(sozluk)\n",
    "    "
   ]
  },
  {
   "cell_type": "markdown",
   "id": "70e64ee0",
   "metadata": {},
   "source": [
    "\n",
    "Pozitif bir tam sayı alan ve belirtilen sayıdan küçük tüm pozitif tam sayıların küpünün toplamını döndüren bir Python işlevi yazın."
   ]
  },
  {
   "cell_type": "code",
   "execution_count": 43,
   "id": "899d8c75",
   "metadata": {},
   "outputs": [
    {
     "name": "stdout",
     "output_type": "stream",
     "text": [
      "sayi giriniz : 5\n",
      "100\n"
     ]
    }
   ],
   "source": [
    "sayi = int(input(\"sayi giriniz : \"))\n",
    "toplam = 0\n",
    "for i in range(1,sayi):\n",
    "    kup = i **3\n",
    "    toplam += kup\n",
    "print(toplam)"
   ]
  },
  {
   "cell_type": "code",
   "execution_count": 44,
   "id": "c5fdcac8",
   "metadata": {},
   "outputs": [
    {
     "name": "stdout",
     "output_type": "stream",
     "text": [
      "100\n"
     ]
    }
   ],
   "source": [
    "sayi = int(input(\"sayi giriniz : \"))\n",
    "print(sum([i**3 for i in range(1,sayi)]))"
   ]
  },
  {
   "cell_type": "markdown",
   "id": "5be545d8",
   "metadata": {},
   "source": [
    "\n",
    "Liste boşalana kadar bir sayı listesinden her üç sayıyı çıkarmak ve yazdırmak için bir Python programı yazın."
   ]
  },
  {
   "cell_type": "markdown",
   "id": "4a327c3c",
   "metadata": {},
   "source": [
    "# !!!!!!!!!!!!Write a Python program to remove and print every third number from a list of numbers until the list becomes empty."
   ]
  },
  {
   "cell_type": "code",
   "execution_count": null,
   "id": "54d9f5b6",
   "metadata": {},
   "outputs": [],
   "source": [
    "def remove_nums(int_list):\n",
    "  #list starts with 0 index\n",
    "  position = 3 - 1 \n",
    "  idx = 0\n",
    "  len_list = (len(int_list))\n",
    "  while len_list>0:\n",
    "    idx = (position+idx)%len_list\n",
    "    print(int_list.pop(idx))\n",
    "    len_list -= 1\n",
    "nums = [10,20,30,40,50,60,70,80,90]\n",
    "remove_nums(nums)"
   ]
  },
  {
   "cell_type": "markdown",
   "id": "63de9e81",
   "metadata": {},
   "source": [
    "Bir liste verildiğinde, listeyi n konumuna göre sağa döndürün. Bir listenin her öğesini dairesel olarak sağa kaydıran bir program yazın."
   ]
  },
  {
   "cell_type": "code",
   "execution_count": 8,
   "id": "46b62469",
   "metadata": {},
   "outputs": [
    {
     "name": "stdout",
     "output_type": "stream",
     "text": [
      "listeyi kac birim kaydirmak istersiniz : 5\n",
      "[2, 3, 4, 5, 6, 1]\n"
     ]
    }
   ],
   "source": [
    "kaydirma = int(input(\"listeyi kac birim kaydirmak istersiniz : \"))\n",
    "\n",
    "liste = [1,2,3,4,5,6]\n",
    "\n",
    "new_liste = liste[len(liste)-kaydirma:] + liste[0:len(liste)-kaydirma]\n",
    "print(new_liste)"
   ]
  },
  {
   "cell_type": "markdown",
   "id": "8916b499",
   "metadata": {},
   "source": [
    "Tam adınızı girdi olarak alan ve görüntülenen soyadı dışındaki ad ve ikinci adların kısaltmalarını görüntüleyen bir program yazın. Örneğin, adınız Robert Brett Roser ise çıktı R.B.Roser olmalıdır."
   ]
  },
  {
   "cell_type": "code",
   "execution_count": null,
   "id": "0a1cc62d",
   "metadata": {},
   "outputs": [],
   "source": []
  },
  {
   "cell_type": "code",
   "execution_count": null,
   "id": "01ebabc1",
   "metadata": {},
   "outputs": [],
   "source": []
  },
  {
   "cell_type": "code",
   "execution_count": null,
   "id": "d9ebb6f0",
   "metadata": {},
   "outputs": [],
   "source": []
  },
  {
   "cell_type": "code",
   "execution_count": null,
   "id": "a331f274",
   "metadata": {},
   "outputs": [],
   "source": []
  },
  {
   "cell_type": "code",
   "execution_count": null,
   "id": "cfc0f53f",
   "metadata": {},
   "outputs": [],
   "source": []
  }
 ],
 "metadata": {
  "kernelspec": {
   "display_name": "Python 3",
   "language": "python",
   "name": "python3"
  },
  "language_info": {
   "codemirror_mode": {
    "name": "ipython",
    "version": 3
   },
   "file_extension": ".py",
   "mimetype": "text/x-python",
   "name": "python",
   "nbconvert_exporter": "python",
   "pygments_lexer": "ipython3",
   "version": "3.8.8"
  }
 },
 "nbformat": 4,
 "nbformat_minor": 5
}
