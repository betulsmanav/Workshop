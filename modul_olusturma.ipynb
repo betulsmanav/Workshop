{
 "cells": [
  {
   "cell_type": "code",
   "execution_count": 1,
   "id": "be2e03a3",
   "metadata": {},
   "outputs": [
    {
     "data": {
      "text/plain": [
       "'C:\\\\Users\\\\ASUS\\\\Desktop\\\\phyton class\\\\my-python'"
      ]
     },
     "execution_count": 1,
     "metadata": {},
     "output_type": "execute_result"
    }
   ],
   "source": [
    "pwd\n"
   ]
  },
  {
   "cell_type": "code",
   "execution_count": 3,
   "id": "473e32cb",
   "metadata": {},
   "outputs": [],
   "source": [
    "from upper_package import my_package1,my_package2"
   ]
  },
  {
   "cell_type": "code",
   "execution_count": 4,
   "id": "608d31d3",
   "metadata": {},
   "outputs": [],
   "source": [
    "from upper_package.my_package1 import my_module1,my_module2"
   ]
  },
  {
   "cell_type": "code",
   "execution_count": 5,
   "id": "a47454ef",
   "metadata": {},
   "outputs": [
    {
     "data": {
      "text/plain": [
       "['__builtins__',\n",
       " '__cached__',\n",
       " '__doc__',\n",
       " '__file__',\n",
       " '__loader__',\n",
       " '__name__',\n",
       " '__package__',\n",
       " '__path__',\n",
       " '__spec__',\n",
       " 'my_module1',\n",
       " 'my_module2']"
      ]
     },
     "execution_count": 5,
     "metadata": {},
     "output_type": "execute_result"
    }
   ],
   "source": [
    "dir(my_package1)"
   ]
  },
  {
   "cell_type": "code",
   "execution_count": 7,
   "id": "1e0d2d7b",
   "metadata": {},
   "outputs": [],
   "source": [
    "from upper_package.my_package2 import my_module3,my_module4"
   ]
  },
  {
   "cell_type": "code",
   "execution_count": 8,
   "id": "5ab4d315",
   "metadata": {},
   "outputs": [
    {
     "data": {
      "text/plain": [
       "['__builtins__',\n",
       " '__cached__',\n",
       " '__doc__',\n",
       " '__file__',\n",
       " '__loader__',\n",
       " '__name__',\n",
       " '__package__',\n",
       " '__path__',\n",
       " '__spec__',\n",
       " 'my_module3',\n",
       " 'my_module4']"
      ]
     },
     "execution_count": 8,
     "metadata": {},
     "output_type": "execute_result"
    }
   ],
   "source": [
    "dir(my_package2)"
   ]
  },
  {
   "cell_type": "code",
   "execution_count": 9,
   "id": "1d9c056e",
   "metadata": {},
   "outputs": [
    {
     "data": {
      "text/plain": [
       "2.0"
      ]
     },
     "execution_count": 9,
     "metadata": {},
     "output_type": "execute_result"
    }
   ],
   "source": [
    "my_module2.divide(10,5)"
   ]
  },
  {
   "cell_type": "code",
   "execution_count": 10,
   "id": "5a642ebd",
   "metadata": {},
   "outputs": [
    {
     "data": {
      "text/plain": [
       "9"
      ]
     },
     "execution_count": 10,
     "metadata": {},
     "output_type": "execute_result"
    }
   ],
   "source": [
    "my_module1.addition(4,5)"
   ]
  },
  {
   "cell_type": "code",
   "execution_count": 11,
   "id": "ec480461",
   "metadata": {},
   "outputs": [
    {
     "data": {
      "text/plain": [
       "18.84"
      ]
     },
     "execution_count": 11,
     "metadata": {},
     "output_type": "execute_result"
    }
   ],
   "source": [
    "my_module3.cember_cevresi(3)"
   ]
  },
  {
   "cell_type": "code",
   "execution_count": null,
   "id": "5a4929e7",
   "metadata": {},
   "outputs": [],
   "source": []
  }
 ],
 "metadata": {
  "kernelspec": {
   "display_name": "Python 3",
   "language": "python",
   "name": "python3"
  },
  "language_info": {
   "codemirror_mode": {
    "name": "ipython",
    "version": 3
   },
   "file_extension": ".py",
   "mimetype": "text/x-python",
   "name": "python",
   "nbconvert_exporter": "python",
   "pygments_lexer": "ipython3",
   "version": "3.8.8"
  }
 },
 "nbformat": 4,
 "nbformat_minor": 5
}
