{
 "cells": [
  {
   "cell_type": "markdown",
   "id": "dd7cb10f",
   "metadata": {},
   "source": [
    "# tuple"
   ]
  },
  {
   "cell_type": "code",
   "execution_count": 1,
   "id": "dff9db6a",
   "metadata": {},
   "outputs": [],
   "source": [
    "demet = (\"sari\", \"mavi\", \"yesil\",\"kirmizi\",\"siyah\" )"
   ]
  },
  {
   "cell_type": "code",
   "execution_count": 2,
   "id": "48964f73",
   "metadata": {},
   "outputs": [
    {
     "name": "stdout",
     "output_type": "stream",
     "text": [
      "('sari', 'mavi', 'yesil', 'kirmizi', 'siyah')\n"
     ]
    }
   ],
   "source": [
    "print(demet)"
   ]
  },
  {
   "cell_type": "code",
   "execution_count": 3,
   "id": "d360f18a",
   "metadata": {},
   "outputs": [
    {
     "name": "stdout",
     "output_type": "stream",
     "text": [
      "5\n"
     ]
    }
   ],
   "source": [
    "print(len(demet))"
   ]
  },
  {
   "cell_type": "code",
   "execution_count": 4,
   "id": "39bb1d25",
   "metadata": {},
   "outputs": [
    {
     "name": "stdout",
     "output_type": "stream",
     "text": [
      "<class 'tuple'>\n"
     ]
    }
   ],
   "source": [
    "print(type(demet))"
   ]
  },
  {
   "cell_type": "code",
   "execution_count": 5,
   "id": "dbc4110a",
   "metadata": {},
   "outputs": [
    {
     "name": "stdout",
     "output_type": "stream",
     "text": [
      "sari\n",
      "mavi\n",
      "yesil\n",
      "kirmizi\n",
      "siyah\n"
     ]
    }
   ],
   "source": [
    "for i in demet :\n",
    "    print(i)"
   ]
  },
  {
   "cell_type": "markdown",
   "id": "2bce017a",
   "metadata": {},
   "source": [
    "# listelerden farki nedir"
   ]
  },
  {
   "cell_type": "code",
   "execution_count": 6,
   "id": "5c8dbe82",
   "metadata": {},
   "outputs": [
    {
     "ename": "TypeError",
     "evalue": "'tuple' object does not support item assignment",
     "output_type": "error",
     "traceback": [
      "\u001b[1;31m---------------------------------------------------------------------------\u001b[0m",
      "\u001b[1;31mTypeError\u001b[0m                                 Traceback (most recent call last)",
      "\u001b[1;32m<ipython-input-6-4f63eb0840b7>\u001b[0m in \u001b[0;36m<module>\u001b[1;34m\u001b[0m\n\u001b[1;32m----> 1\u001b[1;33m \u001b[0mdemet\u001b[0m\u001b[1;33m[\u001b[0m\u001b[1;36m2\u001b[0m\u001b[1;33m]\u001b[0m \u001b[1;33m=\u001b[0m \u001b[1;34m\"pembe\"\u001b[0m\u001b[1;33m\u001b[0m\u001b[1;33m\u001b[0m\u001b[0m\n\u001b[0m",
      "\u001b[1;31mTypeError\u001b[0m: 'tuple' object does not support item assignment"
     ]
    }
   ],
   "source": [
    "demet[2] = \"pembe\" # demete eleman ekleme cikarma degistirme yapilamaz "
   ]
  },
  {
   "cell_type": "markdown",
   "id": "3995de8a",
   "metadata": {},
   "source": [
    "# set(kume)"
   ]
  },
  {
   "cell_type": "code",
   "execution_count": 7,
   "id": "557a4663",
   "metadata": {},
   "outputs": [],
   "source": [
    "# listeler gibi indexli degil sirasiz bir eleman grubu"
   ]
  },
  {
   "cell_type": "code",
   "execution_count": 8,
   "id": "756617f8",
   "metadata": {},
   "outputs": [],
   "source": [
    "kume = {\"sari\", \"mavi\", \"yesil\",\"kirmizi\",\"siyah\"}"
   ]
  },
  {
   "cell_type": "code",
   "execution_count": 9,
   "id": "d3c7afee",
   "metadata": {},
   "outputs": [
    {
     "name": "stdout",
     "output_type": "stream",
     "text": [
      "<class 'set'>\n"
     ]
    }
   ],
   "source": [
    "print(type(kume))"
   ]
  },
  {
   "cell_type": "code",
   "execution_count": 10,
   "id": "57d32619",
   "metadata": {},
   "outputs": [
    {
     "name": "stdout",
     "output_type": "stream",
     "text": [
      "5\n"
     ]
    }
   ],
   "source": [
    "print(len(kume))"
   ]
  },
  {
   "cell_type": "code",
   "execution_count": 12,
   "id": "97af1210",
   "metadata": {},
   "outputs": [
    {
     "name": "stdout",
     "output_type": "stream",
     "text": [
      "sari\n",
      "mavi\n",
      "yesil\n",
      "siyah\n",
      "kirmizi\n"
     ]
    }
   ],
   "source": [
    "for i in kume :\n",
    "    print(i)    # yazdirmayi sirasiz yapar "
   ]
  },
  {
   "cell_type": "code",
   "execution_count": 13,
   "id": "dd6c42fe",
   "metadata": {},
   "outputs": [
    {
     "name": "stdout",
     "output_type": "stream",
     "text": [
      "{'sari', 'mavi', 'yesil', 'siyah', 'kirmizi'}\n"
     ]
    }
   ],
   "source": [
    "print(kume)"
   ]
  },
  {
   "cell_type": "code",
   "execution_count": 14,
   "id": "39590e01",
   "metadata": {},
   "outputs": [],
   "source": [
    "kume.add(\"pembe\")  # kumeye eleman ekleme"
   ]
  },
  {
   "cell_type": "code",
   "execution_count": 15,
   "id": "d2774b6d",
   "metadata": {},
   "outputs": [
    {
     "name": "stdout",
     "output_type": "stream",
     "text": [
      "{'sari', 'mavi', 'yesil', 'pembe', 'siyah', 'kirmizi'}\n"
     ]
    }
   ],
   "source": [
    "print(kume)  # rasgele bir yer ekledi"
   ]
  },
  {
   "cell_type": "code",
   "execution_count": 16,
   "id": "6c0d4653",
   "metadata": {},
   "outputs": [],
   "source": [
    "kume.remove(\"sari\") # kumeden eleman silme"
   ]
  },
  {
   "cell_type": "code",
   "execution_count": 17,
   "id": "d5ea2540",
   "metadata": {},
   "outputs": [
    {
     "name": "stdout",
     "output_type": "stream",
     "text": [
      "{'mavi', 'yesil', 'pembe', 'siyah', 'kirmizi'}\n"
     ]
    }
   ],
   "source": [
    "print(kume)"
   ]
  },
  {
   "cell_type": "code",
   "execution_count": 18,
   "id": "94a6df58",
   "metadata": {},
   "outputs": [
    {
     "ename": "KeyError",
     "evalue": "'gri'",
     "output_type": "error",
     "traceback": [
      "\u001b[1;31m---------------------------------------------------------------------------\u001b[0m",
      "\u001b[1;31mKeyError\u001b[0m                                  Traceback (most recent call last)",
      "\u001b[1;32m<ipython-input-18-47d8eec9e47c>\u001b[0m in \u001b[0;36m<module>\u001b[1;34m\u001b[0m\n\u001b[1;32m----> 1\u001b[1;33m \u001b[0mkume\u001b[0m\u001b[1;33m.\u001b[0m\u001b[0mremove\u001b[0m\u001b[1;33m(\u001b[0m\u001b[1;34m\"gri\"\u001b[0m\u001b[1;33m)\u001b[0m\u001b[1;33m\u001b[0m\u001b[1;33m\u001b[0m\u001b[0m\n\u001b[0m\u001b[0;32m      2\u001b[0m \u001b[0mprint\u001b[0m\u001b[1;33m(\u001b[0m\u001b[0mkume\u001b[0m\u001b[1;33m)\u001b[0m\u001b[1;33m\u001b[0m\u001b[1;33m\u001b[0m\u001b[0m\n",
      "\u001b[1;31mKeyError\u001b[0m: 'gri'"
     ]
    }
   ],
   "source": [
    "kume.remove(\"gri\")  # kumede olmayan elemani silemedi hata verdi \n",
    "print(kume)"
   ]
  },
  {
   "cell_type": "code",
   "execution_count": 19,
   "id": "510f983b",
   "metadata": {},
   "outputs": [],
   "source": [
    " #kumede olmaya elemani silmeye calistigimda hata almadan calismaya devam etmek istiyorsam remove kullanamam"
   ]
  },
  {
   "cell_type": "code",
   "execution_count": 20,
   "id": "8370a640",
   "metadata": {},
   "outputs": [],
   "source": [
    "kume.discard(\"gri\")"
   ]
  },
  {
   "cell_type": "code",
   "execution_count": 21,
   "id": "2def42f8",
   "metadata": {},
   "outputs": [
    {
     "name": "stdout",
     "output_type": "stream",
     "text": [
      "{'mavi', 'yesil', 'pembe', 'siyah', 'kirmizi'}\n"
     ]
    }
   ],
   "source": [
    "print(kume)  # eleman olmadigi icin silmedi ama hata da verm,edi calismaya deva, etti"
   ]
  },
  {
   "cell_type": "code",
   "execution_count": 22,
   "id": "1f220c37",
   "metadata": {},
   "outputs": [
    {
     "name": "stdout",
     "output_type": "stream",
     "text": [
      "{'mavi', 'pembe', 'siyah', 'kirmizi'}\n"
     ]
    }
   ],
   "source": [
    "kume.discard(\"yesil\")\n",
    "print(kume)"
   ]
  },
  {
   "cell_type": "markdown",
   "id": "dd744acb",
   "metadata": {},
   "source": [
    "# kumelerde kesisim ve birlesim"
   ]
  },
  {
   "cell_type": "code",
   "execution_count": 23,
   "id": "1555b976",
   "metadata": {},
   "outputs": [],
   "source": [
    "kume1 = {\"sari\", \"mavi\", \"yesil\",\"kirmizi\",\"siyah\"}\n",
    "kume2 = {\"sari\", \"mavi\", \"yesil\",\"beyaz\", \"gri\"}\n"
   ]
  },
  {
   "cell_type": "markdown",
   "id": "fe14aec8",
   "metadata": {},
   "source": [
    "# kesisim intersection"
   ]
  },
  {
   "cell_type": "code",
   "execution_count": 24,
   "id": "94e52c3a",
   "metadata": {},
   "outputs": [
    {
     "name": "stdout",
     "output_type": "stream",
     "text": [
      "{'yesil', 'mavi', 'sari'}\n"
     ]
    }
   ],
   "source": [
    "print(kume1.intersection(kume2))"
   ]
  },
  {
   "cell_type": "markdown",
   "id": "cfceb10c",
   "metadata": {},
   "source": [
    "# birlesim union"
   ]
  },
  {
   "cell_type": "code",
   "execution_count": 25,
   "id": "5c35f3f2",
   "metadata": {},
   "outputs": [
    {
     "name": "stdout",
     "output_type": "stream",
     "text": [
      "{'sari', 'beyaz', 'mavi', 'yesil', 'gri', 'siyah', 'kirmizi'}\n"
     ]
    }
   ],
   "source": [
    "print(kume1.union(kume2))"
   ]
  },
  {
   "cell_type": "markdown",
   "id": "c6d110ea",
   "metadata": {},
   "source": [
    "# fark difference"
   ]
  },
  {
   "cell_type": "code",
   "execution_count": 26,
   "id": "8a2fb520",
   "metadata": {},
   "outputs": [
    {
     "name": "stdout",
     "output_type": "stream",
     "text": [
      "{'siyah', 'kirmizi'}\n"
     ]
    }
   ],
   "source": [
    "print(kume1.difference(kume2)) #kume1 fark kume2"
   ]
  },
  {
   "cell_type": "code",
   "execution_count": 27,
   "id": "92f6cd09",
   "metadata": {},
   "outputs": [
    {
     "name": "stdout",
     "output_type": "stream",
     "text": [
      "{'gri', 'beyaz'}\n"
     ]
    }
   ],
   "source": [
    "print(kume2.difference(kume1)) # kume2 fark kume1"
   ]
  },
  {
   "cell_type": "markdown",
   "id": "04e73f81",
   "metadata": {},
   "source": [
    "# in anahtar kelimesi (burada varmi )"
   ]
  },
  {
   "cell_type": "code",
   "execution_count": 28,
   "id": "f09c84ab",
   "metadata": {},
   "outputs": [
    {
     "name": "stdout",
     "output_type": "stream",
     "text": [
      "True\n"
     ]
    }
   ],
   "source": [
    "print(\"sari\" in kume1)"
   ]
  },
  {
   "cell_type": "code",
   "execution_count": 29,
   "id": "f5e6a9b2",
   "metadata": {},
   "outputs": [
    {
     "name": "stdout",
     "output_type": "stream",
     "text": [
      "False\n"
     ]
    }
   ],
   "source": [
    "print(\"beyaz\" in kume1)"
   ]
  },
  {
   "cell_type": "code",
   "execution_count": 30,
   "id": "9d19527b",
   "metadata": {},
   "outputs": [
    {
     "name": "stdout",
     "output_type": "stream",
     "text": [
      "True\n"
     ]
    }
   ],
   "source": [
    "print(\"sari\" in kume1.union(kume2)) kumelerin kesisiminde var mi"
   ]
  },
  {
   "cell_type": "markdown",
   "id": "716215e6",
   "metadata": {},
   "source": [
    "# bos liste olusturma"
   ]
  },
  {
   "cell_type": "code",
   "execution_count": 32,
   "id": "14c7b76c",
   "metadata": {},
   "outputs": [],
   "source": [
    "bosListe1 = []\n",
    "bosListe2 = list()"
   ]
  },
  {
   "cell_type": "code",
   "execution_count": 34,
   "id": "0798cbbb",
   "metadata": {},
   "outputs": [],
   "source": [
    "bosdemet1 = ()\n",
    "bosDemet2 = tuple()"
   ]
  },
  {
   "cell_type": "code",
   "execution_count": 36,
   "id": "2f7499ed",
   "metadata": {},
   "outputs": [
    {
     "name": "stdout",
     "output_type": "stream",
     "text": [
      "<class 'dict'>\n"
     ]
    }
   ],
   "source": [
    "bosKume1 = set()\n",
    "bosKume2 = {}   # bu sekilde bos kume olusturulmaz bu dictionary-sozluk olusturma yontemidir.\n",
    "print(type(bosKume2))\n"
   ]
  },
  {
   "cell_type": "code",
   "execution_count": 38,
   "id": "dbac60b5",
   "metadata": {},
   "outputs": [
    {
     "name": "stdout",
     "output_type": "stream",
     "text": [
      "{'T', 'P', 'O', 'Y', 'N', 'H'}\n"
     ]
    }
   ],
   "source": [
    "python = set(\"PYTHON\")   # elemanlarina bolup kume olusturur\n",
    "print(python)"
   ]
  },
  {
   "cell_type": "code",
   "execution_count": 39,
   "id": "28afe8aa",
   "metadata": {},
   "outputs": [
    {
     "name": "stdout",
     "output_type": "stream",
     "text": [
      "{1, 2, 3, 4, 5}\n"
     ]
    }
   ],
   "source": [
    "python2 = set([1,2,3,4,5]) # listenin elemanlarini alip kumeye ayri ayri eleman olarak kullanair\n",
    "print(python2)"
   ]
  },
  {
   "cell_type": "code",
   "execution_count": null,
   "id": "ee96f689",
   "metadata": {},
   "outputs": [],
   "source": []
  },
  {
   "cell_type": "code",
   "execution_count": null,
   "id": "9110fd66",
   "metadata": {},
   "outputs": [],
   "source": []
  }
 ],
 "metadata": {
  "kernelspec": {
   "display_name": "Python 3",
   "language": "python",
   "name": "python3"
  },
  "language_info": {
   "codemirror_mode": {
    "name": "ipython",
    "version": 3
   },
   "file_extension": ".py",
   "mimetype": "text/x-python",
   "name": "python",
   "nbconvert_exporter": "python",
   "pygments_lexer": "ipython3",
   "version": "3.8.8"
  }
 },
 "nbformat": 4,
 "nbformat_minor": 5
}
