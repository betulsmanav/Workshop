{
 "cells": [
  {
   "cell_type": "markdown",
   "id": "dc84433d",
   "metadata": {},
   "source": [
    "# RANDOM MODULU"
   ]
  },
  {
   "cell_type": "code",
   "execution_count": null,
   "id": "6a1ffe85",
   "metadata": {},
   "outputs": [],
   "source": [
    "import random # rasgele sayi uretme modulu"
   ]
  },
  {
   "cell_type": "code",
   "execution_count": null,
   "id": "2ecfe96b",
   "metadata": {},
   "outputs": [],
   "source": [
    "for i in range(1,10):\n",
    "    print(random.random()) # 0-1 arasi rasgele sayilar"
   ]
  },
  {
   "cell_type": "code",
   "execution_count": null,
   "id": "99442b7a",
   "metadata": {},
   "outputs": [],
   "source": [
    "for i in range(1,10):\n",
    "    print(random.uniform(10,30)) # iki sinir arasi rasgele odalik sayilar"
   ]
  },
  {
   "cell_type": "code",
   "execution_count": null,
   "id": "e30396a6",
   "metadata": {},
   "outputs": [],
   "source": [
    "for i in range(1,10):\n",
    "    print(random.randint(1,5)) # her iki sinir da DAHIL rasgele 10 tamsayi"
   ]
  },
  {
   "cell_type": "code",
   "execution_count": null,
   "id": "6320e37f",
   "metadata": {},
   "outputs": [],
   "source": [
    "for i in range(1,10):\n",
    "    print(random.randrange(1,10,2)) # ust sinir DAHIL DEGIL 2 ser atlayan sayilar uretir."
   ]
  },
  {
   "cell_type": "code",
   "execution_count": null,
   "id": "01d84677",
   "metadata": {},
   "outputs": [],
   "source": [
    "liste = [\"siyah\", \"beyaz\", \"mavi\", \"yesil\",\"gri\", \"turuncu\"]"
   ]
  },
  {
   "cell_type": "code",
   "execution_count": null,
   "id": "5e239196",
   "metadata": {},
   "outputs": [],
   "source": [
    "print(random.choice(liste)) # listeden rasgele eleman secer"
   ]
  },
  {
   "cell_type": "code",
   "execution_count": null,
   "id": "7cdd5ae3",
   "metadata": {},
   "outputs": [],
   "source": [
    "random.shuffle(liste) # listedeki elemanlarin yerini karistirir.\n",
    "print(liste)"
   ]
  },
  {
   "cell_type": "code",
   "execution_count": null,
   "id": "42c0301c",
   "metadata": {},
   "outputs": [],
   "source": [
    "print(random.sample(liste,3)) # listeden 3 tane eleman secer"
   ]
  },
  {
   "cell_type": "code",
   "execution_count": null,
   "id": "5c693040",
   "metadata": {},
   "outputs": [],
   "source": [
    "zarlar = {1:0, 2:0, 3:0, 4:0, 5:0, 6:0}\n",
    "\n",
    "for i in range(100):  # zar atma sayisi arttikca her yuzun gelme olasiligi birbirine daha yakin olur\n",
    "    zar_numarasi = random.randint(1,6)\n",
    "    zarlar[zar_numarasi] += 1  # zarlar sozlugundeki keylerin herbiri bir zar yuzunu temzil eder\n",
    "    \n",
    "for zar_numarasi in zarlar:\n",
    "    print(f\"{zar_numarasi} gelme olasiligi : {zarlar[zar_numarasi]/100}\") \n",
    "    \n",
    "    #zarlar[zar_numarasi] ==> bu noitasyonun anlami zarlar sozlugundeki zar_numarassi key inin degerini verir."
   ]
  },
  {
   "cell_type": "code",
   "execution_count": null,
   "id": "3fdc65ef",
   "metadata": {},
   "outputs": [],
   "source": []
  },
  {
   "cell_type": "markdown",
   "id": "9b26cbf9",
   "metadata": {},
   "source": [
    "10 defa 6-6 gelmesi icin iki zar kac defa atilmalidir "
   ]
  },
  {
   "cell_type": "code",
   "execution_count": null,
   "id": "ffbefc19",
   "metadata": {},
   "outputs": [],
   "source": [
    "import random"
   ]
  },
  {
   "cell_type": "code",
   "execution_count": null,
   "id": "fb67a31f",
   "metadata": {},
   "outputs": [],
   "source": [
    "altili = 0\n",
    "deneme = 0\n",
    "\n",
    "while True:\n",
    "    deneme += 1\n",
    "    zar1 = random.randint(1,6)\n",
    "    zar2 = random.randint(1,6)\n",
    "    \n",
    "    if zar1 == 6 and zar2 == 6:\n",
    "        altili +=1\n",
    "    if altili == 10:\n",
    "        print(f\"10 defa altili gelmesi icin zarlar {deneme} kere atildi\")\n",
    "        break"
   ]
  },
  {
   "cell_type": "markdown",
   "id": "0dfa973a",
   "metadata": {},
   "source": [
    "# TIME MODULU"
   ]
  },
  {
   "cell_type": "code",
   "execution_count": 1,
   "id": "2bb4c90f",
   "metadata": {},
   "outputs": [],
   "source": [
    "import time"
   ]
  },
  {
   "cell_type": "code",
   "execution_count": 2,
   "id": "20baf612",
   "metadata": {},
   "outputs": [
    {
     "name": "stdout",
     "output_type": "stream",
     "text": [
      "1639906115.357778\n"
     ]
    }
   ],
   "source": [
    "zaman = time.time()\n",
    "print(zaman)"
   ]
  },
  {
   "cell_type": "markdown",
   "id": "35748395",
   "metadata": {},
   "source": [
    "bir dongunu islem suresini hesaplama"
   ]
  },
  {
   "cell_type": "code",
   "execution_count": 11,
   "id": "b922d794",
   "metadata": {},
   "outputs": [
    {
     "name": "stdout",
     "output_type": "stream",
     "text": [
      "baslangic saati :  1639906239.8007982\n",
      "bitis saati     :  1639906239.8017995\n",
      "0.0010013580322265625\n"
     ]
    }
   ],
   "source": [
    "baslangic = time.time()\n",
    "print(\"baslangic saati : \", baslangic)\n",
    "liste = []\n",
    "\n",
    "for i in range(1000):\n",
    "    liste.append(i)\n",
    "bitis = time.time()\n",
    "print(\"bitis saati     : \" , bitis)\n",
    "print(bitis - baslangic)"
   ]
  },
  {
   "cell_type": "code",
   "execution_count": 12,
   "id": "8d974f68",
   "metadata": {},
   "outputs": [
    {
     "name": "stdout",
     "output_type": "stream",
     "text": [
      "Sun Dec 19 12:32:08 2021\n"
     ]
    }
   ],
   "source": [
    "# simdiki zaman\n",
    "\n",
    "zaman = time.ctime()\n",
    "print(zaman)"
   ]
  },
  {
   "cell_type": "code",
   "execution_count": 13,
   "id": "75ee884e",
   "metadata": {},
   "outputs": [
    {
     "name": "stdout",
     "output_type": "stream",
     "text": [
      "Fri Jan  2 06:46:40 1970\n"
     ]
    }
   ],
   "source": [
    "# saniye cinsinden baslangictan itibaren kac saniye gecmis\n",
    "# baslangic 1970 kabul ediliyor\n",
    "zaman = time.ctime(100000)\n",
    "print(zaman)"
   ]
  },
  {
   "cell_type": "code",
   "execution_count": 14,
   "id": "0b3043e3",
   "metadata": {},
   "outputs": [
    {
     "name": "stdout",
     "output_type": "stream",
     "text": [
      "<class 'str'>\n"
     ]
    }
   ],
   "source": [
    "print(type(zaman))"
   ]
  },
  {
   "cell_type": "code",
   "execution_count": 15,
   "id": "4a722938",
   "metadata": {},
   "outputs": [
    {
     "name": "stdout",
     "output_type": "stream",
     "text": [
      "time.struct_time(tm_year=2021, tm_mon=12, tm_mday=19, tm_hour=12, tm_min=35, tm_sec=4, tm_wday=6, tm_yday=353, tm_isdst=0)\n"
     ]
    }
   ],
   "source": [
    "date = time.localtime() # time tuple olusturur.\n",
    "print(date)"
   ]
  },
  {
   "cell_type": "code",
   "execution_count": 16,
   "id": "588479d3",
   "metadata": {},
   "outputs": [
    {
     "name": "stdout",
     "output_type": "stream",
     "text": [
      "time.struct_time(tm_year=1970, tm_mon=1, tm_mday=1, tm_hour=5, tm_min=46, tm_sec=40, tm_wday=3, tm_yday=1, tm_isdst=0)\n"
     ]
    }
   ],
   "source": [
    "date = time.localtime(10000)\n",
    "print(date)"
   ]
  },
  {
   "cell_type": "code",
   "execution_count": 18,
   "id": "330e013c",
   "metadata": {},
   "outputs": [
    {
     "name": "stdout",
     "output_type": "stream",
     "text": [
      "Thu Jan  1 05:46:40 1970\n"
     ]
    }
   ],
   "source": [
    "zaman = time.asctime(date) #local time i daha kullanisli formatta yazdirir.\n",
    "print(zaman)"
   ]
  },
  {
   "cell_type": "code",
   "execution_count": 23,
   "id": "53d706ab",
   "metadata": {},
   "outputs": [
    {
     "name": "stdout",
     "output_type": "stream",
     "text": [
      "19:12:2021 12:42:30\n"
     ]
    }
   ],
   "source": [
    "zaman1 = time.strftime(\"%d:%m:%Y %H:%M:%S\")\n",
    "print(zaman1)"
   ]
  },
  {
   "cell_type": "code",
   "execution_count": 24,
   "id": "f99b58db",
   "metadata": {},
   "outputs": [
    {
     "name": "stdout",
     "output_type": "stream",
     "text": [
      "19:12:2021 12:43:31 PM\n"
     ]
    }
   ],
   "source": [
    "zaman1 = time.strftime(\"%d:%m:%Y %I:%M:%S %p\") # 12 saatlik dilim\n",
    "print(zaman1)"
   ]
  },
  {
   "cell_type": "code",
   "execution_count": 27,
   "id": "e4656148",
   "metadata": {},
   "outputs": [
    {
     "name": "stdout",
     "output_type": "stream",
     "text": [
      "program baslatildi\n",
      "program sonlandi\n"
     ]
    }
   ],
   "source": [
    "print(\"program baslatildi\")\n",
    "time.sleep(3)               # kodun calismasini 3 saniye geciktiri\n",
    "print(\"program sonlandi\")"
   ]
  },
  {
   "cell_type": "markdown",
   "id": "ad126119",
   "metadata": {},
   "source": [
    "# DATETIME MODULU"
   ]
  },
  {
   "cell_type": "code",
   "execution_count": 28,
   "id": "a536bee5",
   "metadata": {},
   "outputs": [],
   "source": [
    "from datetime import date"
   ]
  },
  {
   "cell_type": "code",
   "execution_count": 31,
   "id": "326ccf7c",
   "metadata": {},
   "outputs": [
    {
     "name": "stdout",
     "output_type": "stream",
     "text": [
      "2021-12-19\n",
      "<class 'datetime.date'>\n"
     ]
    }
   ],
   "source": [
    "bugun = date.today()\n",
    "print(bugun)\n",
    "print(type(bugun))"
   ]
  },
  {
   "cell_type": "code",
   "execution_count": 32,
   "id": "890fd64a",
   "metadata": {},
   "outputs": [
    {
     "name": "stdout",
     "output_type": "stream",
     "text": [
      "19\n"
     ]
    }
   ],
   "source": [
    "print(bugun.day)"
   ]
  },
  {
   "cell_type": "code",
   "execution_count": 34,
   "id": "cb0a5baf",
   "metadata": {},
   "outputs": [
    {
     "name": "stdout",
     "output_type": "stream",
     "text": [
      "2021\n"
     ]
    }
   ],
   "source": [
    "print(bugun.year)"
   ]
  },
  {
   "cell_type": "code",
   "execution_count": 35,
   "id": "4115cdf5",
   "metadata": {},
   "outputs": [
    {
     "name": "stdout",
     "output_type": "stream",
     "text": [
      "6\n"
     ]
    }
   ],
   "source": [
    "# bugun haftanin kacinci gunu sorgudsu\n",
    "# paztartesiyi 0 aliyor\n",
    "print(bugun.weekday()) "
   ]
  },
  {
   "cell_type": "code",
   "execution_count": 36,
   "id": "1c99f941",
   "metadata": {},
   "outputs": [
    {
     "name": "stdout",
     "output_type": "stream",
     "text": [
      "7\n"
     ]
    }
   ],
   "source": [
    "print(bugun.isoweekday()) # pzt yi 1. kabuleder"
   ]
  },
  {
   "cell_type": "code",
   "execution_count": 39,
   "id": "1277dfd9",
   "metadata": {},
   "outputs": [
    {
     "name": "stdout",
     "output_type": "stream",
     "text": [
      "2015-08-13\n"
     ]
    }
   ],
   "source": [
    "gecmis_tarih = date(2015,8,13)\n",
    "print(gecmis_tarih)"
   ]
  },
  {
   "cell_type": "code",
   "execution_count": 42,
   "id": "7b985e7f",
   "metadata": {},
   "outputs": [
    {
     "name": "stdout",
     "output_type": "stream",
     "text": [
      "3\n"
     ]
    }
   ],
   "source": [
    "print(gecmis_tarih.weekday()) # gecmis tarih haftanin kacinci gunu"
   ]
  },
  {
   "cell_type": "code",
   "execution_count": 46,
   "id": "c513be74",
   "metadata": {},
   "outputs": [
    {
     "name": "stdout",
     "output_type": "stream",
     "text": [
      "2320 days, 0:00:00\n",
      "<class 'datetime.timedelta'>\n"
     ]
    }
   ],
   "source": [
    "gecen_zaman = bugun - gecmis_tarih\n",
    "print(gecen_zaman)\n",
    "print(type(gecen_zaman))  #!!!! class!!!"
   ]
  },
  {
   "cell_type": "code",
   "execution_count": 47,
   "id": "23d6661a",
   "metadata": {},
   "outputs": [],
   "source": [
    "from datetime import datetime"
   ]
  },
  {
   "cell_type": "code",
   "execution_count": 51,
   "id": "ec12ef4c",
   "metadata": {},
   "outputs": [
    {
     "name": "stdout",
     "output_type": "stream",
     "text": [
      "2021-12-19 13:03:16.552921\n",
      "<class 'datetime.datetime'>\n"
     ]
    }
   ],
   "source": [
    "suan = datetime.now()\n",
    "print(suan)\n",
    "print(type(suan))"
   ]
  },
  {
   "cell_type": "code",
   "execution_count": 56,
   "id": "0107337c",
   "metadata": {},
   "outputs": [
    {
     "name": "stdout",
     "output_type": "stream",
     "text": [
      "2021\n",
      "12\n",
      "19\n",
      "13\n",
      "16\n"
     ]
    }
   ],
   "source": [
    "print(suan.year)\n",
    "print(suan.month)\n",
    "print(suan.day)\n",
    "print(suan.hour)\n",
    "print(suan.second)"
   ]
  },
  {
   "cell_type": "code",
   "execution_count": 58,
   "id": "5e89b3e4",
   "metadata": {},
   "outputs": [
    {
     "name": "stdout",
     "output_type": "stream",
     "text": [
      "Sun Dec 19 13:03:16 2021\n"
     ]
    }
   ],
   "source": [
    "print(suan.ctime())"
   ]
  },
  {
   "cell_type": "code",
   "execution_count": null,
   "id": "2407ae59",
   "metadata": {},
   "outputs": [],
   "source": [
    "#detayli bilgi icin bakabilirisn\n",
    "#https://www.youtube.com/watch?v=pDaYHtC2GTQ&list=PL3kMAPso9YQ1Ls-5uTTIWWMkJoF_vyj5J&index=14"
   ]
  },
  {
   "cell_type": "code",
   "execution_count": 60,
   "id": "c321be18",
   "metadata": {},
   "outputs": [],
   "source": [
    "from datetime import datetime\n",
    "from datetime import timedelta # zamandakı degısım"
   ]
  },
  {
   "cell_type": "code",
   "execution_count": 67,
   "id": "1d9b7128",
   "metadata": {},
   "outputs": [
    {
     "name": "stdout",
     "output_type": "stream",
     "text": [
      "2021-12-28 18:26:31.189723\n",
      "2021-12-10 08:24:13.189723\n"
     ]
    }
   ],
   "source": [
    "suan = datetime.now()\n",
    "tdelta = timedelta(days = 9, hours = 5, seconds = 69)\n",
    "print(suan + tdelta) # sımdıkı zamnadan bu kadar sonra\n",
    "print(suan - tdelta) # once"
   ]
  },
  {
   "cell_type": "code",
   "execution_count": 72,
   "id": "efa62ffb",
   "metadata": {},
   "outputs": [
    {
     "name": "stdout",
     "output_type": "stream",
     "text": [
      "2021-12-19\n"
     ]
    }
   ],
   "source": [
    "print(suan.date())\n",
    "\n"
   ]
  },
  {
   "cell_type": "markdown",
   "id": "ebe440a3",
   "metadata": {},
   "source": [
    "# euler sorusu"
   ]
  },
  {
   "cell_type": "markdown",
   "id": "9f8fbd75",
   "metadata": {},
   "source": [
    "20.yuzyılda (1.1.1901-31.12.2000) kac defa bır ayın ılk gunu pazar olur."
   ]
  },
  {
   "cell_type": "code",
   "execution_count": 76,
   "id": "7a53f9d0",
   "metadata": {},
   "outputs": [
    {
     "name": "stdout",
     "output_type": "stream",
     "text": [
      "171\n"
     ]
    }
   ],
   "source": [
    "pazar_sayısı = 0\n",
    "\n",
    "for yıl in range(1901, 2001):\n",
    "    for ay in range(1,13):\n",
    "        if datetime(yıl,ay,1).weekday() == 6:\n",
    "            pazar_sayısı +=1\n",
    "print(pazar_sayısı)\n",
    "            "
   ]
  },
  {
   "cell_type": "code",
   "execution_count": null,
   "id": "86bf41f2",
   "metadata": {},
   "outputs": [],
   "source": []
  }
 ],
 "metadata": {
  "kernelspec": {
   "display_name": "Python 3",
   "language": "python",
   "name": "python3"
  },
  "language_info": {
   "codemirror_mode": {
    "name": "ipython",
    "version": 3
   },
   "file_extension": ".py",
   "mimetype": "text/x-python",
   "name": "python",
   "nbconvert_exporter": "python",
   "pygments_lexer": "ipython3",
   "version": "3.8.8"
  }
 },
 "nbformat": 4,
 "nbformat_minor": 5
}
