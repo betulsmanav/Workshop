{
 "cells": [
  {
   "cell_type": "markdown",
   "id": "ebedbe35",
   "metadata": {},
   "source": [
    "# if"
   ]
  },
  {
   "cell_type": "code",
   "execution_count": null,
   "id": "4d8113f2",
   "metadata": {},
   "outputs": [],
   "source": [
    "# belirli bir kosula bagli olarak kod bloklarini calistirmaya calisiyoruz"
   ]
  },
  {
   "cell_type": "code",
   "execution_count": 6,
   "id": "22f462f1",
   "metadata": {},
   "outputs": [
    {
     "name": "stdout",
     "output_type": "stream",
     "text": [
      "kosul dogru\n",
      "halen if bologunun icindeyiz\n"
     ]
    }
   ],
   "source": [
    "if True :\n",
    "    print('kosul dogru')\n",
    "    print(\"halen if bologunun icindeyiz\")"
   ]
  },
  {
   "cell_type": "code",
   "execution_count": 7,
   "id": "0c4b54db",
   "metadata": {},
   "outputs": [
    {
     "name": "stdout",
     "output_type": "stream",
     "text": [
      " if bologu  calismiyor\n"
     ]
    }
   ],
   "source": [
    "if False :\n",
    "    print('kosul dogru')\n",
    "print(\" if bologu  calismiyor\")"
   ]
  },
  {
   "cell_type": "code",
   "execution_count": 9,
   "id": "e26ae7f4",
   "metadata": {},
   "outputs": [
    {
     "name": "stdout",
     "output_type": "stream",
     "text": [
      " if bologu  calismiyor\n"
     ]
    }
   ],
   "source": [
    "a = 5\n",
    "b = 7\n",
    "if a == b :\n",
    "    print('a =b')\n",
    "print(\" if bologu  calismiyor\") "
   ]
  },
  {
   "cell_type": "code",
   "execution_count": 12,
   "id": "67a52e6a",
   "metadata": {},
   "outputs": [
    {
     "name": "stdout",
     "output_type": "stream",
     "text": [
      "a > b\n"
     ]
    }
   ],
   "source": [
    "if b > a :\n",
    "    print(\"a > b\")"
   ]
  },
  {
   "cell_type": "code",
   "execution_count": 14,
   "id": "5b47a337",
   "metadata": {},
   "outputs": [
    {
     "name": "stdout",
     "output_type": "stream",
     "text": [
      "a esit degil b\n"
     ]
    }
   ],
   "source": [
    "if a != b :\n",
    "    print('a esit degil b')"
   ]
  },
  {
   "cell_type": "code",
   "execution_count": 15,
   "id": "638ebcda",
   "metadata": {},
   "outputs": [
    {
     "name": "stdout",
     "output_type": "stream",
     "text": [
      "a != b|\n"
     ]
    }
   ],
   "source": [
    "a = 6 \n",
    "b = 8\n",
    "\n",
    "if a == b :\n",
    "    print(\"a = b\")\n",
    "else :\n",
    "    print(\"a != b|\")"
   ]
  },
  {
   "cell_type": "code",
   "execution_count": 16,
   "id": "0f4e067f",
   "metadata": {},
   "outputs": [
    {
     "name": "stdout",
     "output_type": "stream",
     "text": [
      "hic biri\n"
     ]
    }
   ],
   "source": [
    "renk = \"siyah\"\n",
    "\n",
    "if renk == \"beyaz\":\n",
    "    print(\"beyaz\")\n",
    "elif renk == \"sari\":\n",
    "    print(\"sari\")\n",
    "elif renk == \"mavi\": \n",
    "    print('mavi')\n",
    "else :\n",
    "    print(\"hicbiri\")"
   ]
  },
  {
   "cell_type": "code",
   "execution_count": 18,
   "id": "08e98c1b",
   "metadata": {},
   "outputs": [
    {
     "name": "stdout",
     "output_type": "stream",
     "text": [
      "kosul dogru\n"
     ]
    }
   ],
   "source": [
    "a = 5 \n",
    "b = 8\n",
    "c = 10\n",
    "if a < b or c > a :    # or baglaci kosullardan en az dogru olursa calisir\n",
    "        print('kosul dogru')\n",
    "else:\n",
    "    print(\"kosul yanlis\")"
   ]
  },
  {
   "cell_type": "code",
   "execution_count": 19,
   "id": "4855f0f6",
   "metadata": {},
   "outputs": [
    {
     "name": "stdout",
     "output_type": "stream",
     "text": [
      "kosul yanlis\n"
     ]
    }
   ],
   "source": [
    "a = 5 \n",
    "b = 8\n",
    "c = 10\n",
    "if a > b or c == a :  # kosullardan her ikisi de yenlis ise calismaz\n",
    "        print('kosul dogru')\n",
    "else:\n",
    "    print(\"kosul yanlis\")"
   ]
  },
  {
   "cell_type": "code",
   "execution_count": 20,
   "id": "fdf9e1cb",
   "metadata": {},
   "outputs": [
    {
     "name": "stdout",
     "output_type": "stream",
     "text": [
      "kosul yanlis\n"
     ]
    }
   ],
   "source": [
    "if a < b and b == c :  # and baglacinin calisabilmesi icin kosullarin ikisi de dogru olmali\n",
    "     print('kosul dogru')\n",
    "else :\n",
    "    \n",
    "    print(\"kosul yanlis\")"
   ]
  },
  {
   "cell_type": "code",
   "execution_count": 21,
   "id": "25de7b21",
   "metadata": {},
   "outputs": [
    {
     "name": "stdout",
     "output_type": "stream",
     "text": [
      "kosul dogru\n"
     ]
    }
   ],
   "source": [
    "if a < b and c > a :    \n",
    "        print('kosul dogru')\n",
    "else:\n",
    "    print(\"kosul yanlis\")"
   ]
  },
  {
   "cell_type": "markdown",
   "id": "c53cde37",
   "metadata": {},
   "source": [
    "# in anahtar kelimesi"
   ]
  },
  {
   "cell_type": "code",
   "execution_count": 22,
   "id": "eec0924c",
   "metadata": {},
   "outputs": [
    {
     "name": "stdout",
     "output_type": "stream",
     "text": [
      "listede var\n"
     ]
    }
   ],
   "source": [
    "liste = [1,2,3,4,5,6,78,9]\n",
    "a = 4 \n",
    "\n",
    "if a in liste :   # a listede var mi\n",
    "    print(\"listede var\")\n",
    "else :\n",
    "    print(\"listede yok\")"
   ]
  },
  {
   "cell_type": "code",
   "execution_count": 24,
   "id": "5a175258",
   "metadata": {},
   "outputs": [
    {
     "name": "stdout",
     "output_type": "stream",
     "text": [
      "listede yok\n"
     ]
    }
   ],
   "source": [
    "b= 7\n",
    "\n",
    "if b in liste :   \n",
    "    print(\"listede var\")\n",
    "else :\n",
    "    print(\"listede yok\")\n",
    "    "
   ]
  },
  {
   "cell_type": "code",
   "execution_count": 25,
   "id": "713644c8",
   "metadata": {},
   "outputs": [
    {
     "name": "stdout",
     "output_type": "stream",
     "text": [
      "listede yok\n"
     ]
    }
   ],
   "source": [
    "isim = \"Python\"\n",
    "a = 'p'\n",
    "\n",
    "if a in isim :    # casesensetive \n",
    "     print(\"listede var\")\n",
    "else :\n",
    "    print(\"listede yok\")\n"
   ]
  },
  {
   "cell_type": "markdown",
   "id": "6ba2bb05",
   "metadata": {},
   "source": [
    "# not"
   ]
  },
  {
   "cell_type": "code",
   "execution_count": 26,
   "id": "a1611fc6",
   "metadata": {},
   "outputs": [
    {
     "name": "stdout",
     "output_type": "stream",
     "text": [
      " kosul dogru\n"
     ]
    }
   ],
   "source": [
    "a = 8\n",
    "b =10\n",
    "\n",
    "if not a == b :  # a b ye esit degil ise \n",
    "    print(\" kosul dogru\")\n",
    "else:\n",
    "    print(\"kosul yanlis\")"
   ]
  },
  {
   "cell_type": "markdown",
   "id": "b079d033",
   "metadata": {},
   "source": [
    "# is anahtar kelimesi ( hafizada ayni yerde olmali)\n"
   ]
  },
  {
   "cell_type": "code",
   "execution_count": 27,
   "id": "5c25b9ef",
   "metadata": {},
   "outputs": [
    {
     "name": "stdout",
     "output_type": "stream",
     "text": [
      "a == b\n"
     ]
    }
   ],
   "source": [
    "a = \"Python\"\n",
    "b = \"Pytho\"\n",
    "b += \"n\"\n",
    "\n",
    "if a == b :\n",
    "    print(\"a == b\")  # a ve b nin degeri birbirine esittir\n",
    "else :\n",
    "    print(\"a != b\")"
   ]
  },
  {
   "cell_type": "code",
   "execution_count": 28,
   "id": "12291c44",
   "metadata": {},
   "outputs": [
    {
     "name": "stdout",
     "output_type": "stream",
     "text": [
      "a != b\n"
     ]
    }
   ],
   "source": [
    "if a is b :  # a ve b deger olarak birbirine esit ama hafizadaki id keri ayni degil ayni isimde farkli insanlar gibi\n",
    "     print(\"a == b\")\n",
    "else :\n",
    "    print(\"a != b\")"
   ]
  },
  {
   "cell_type": "code",
   "execution_count": 29,
   "id": "889054ed",
   "metadata": {},
   "outputs": [
    {
     "name": "stdout",
     "output_type": "stream",
     "text": [
      "2189951790128\n"
     ]
    }
   ],
   "source": [
    "print(id(a))"
   ]
  },
  {
   "cell_type": "code",
   "execution_count": 30,
   "id": "f61cb690",
   "metadata": {},
   "outputs": [
    {
     "name": "stdout",
     "output_type": "stream",
     "text": [
      "2190020041584\n"
     ]
    }
   ],
   "source": [
    "print(id(b))"
   ]
  },
  {
   "cell_type": "code",
   "execution_count": null,
   "id": "733df8f0",
   "metadata": {},
   "outputs": [],
   "source": []
  }
 ],
 "metadata": {
  "kernelspec": {
   "display_name": "Python 3",
   "language": "python",
   "name": "python3"
  },
  "language_info": {
   "codemirror_mode": {
    "name": "ipython",
    "version": 3
   },
   "file_extension": ".py",
   "mimetype": "text/x-python",
   "name": "python",
   "nbconvert_exporter": "python",
   "pygments_lexer": "ipython3",
   "version": "3.8.8"
  }
 },
 "nbformat": 4,
 "nbformat_minor": 5
}
