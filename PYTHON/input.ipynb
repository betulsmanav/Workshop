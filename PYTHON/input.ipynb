{
 "cells": [
  {
   "cell_type": "markdown",
   "id": "a9558e1e",
   "metadata": {},
   "source": [
    "# input"
   ]
  },
  {
   "cell_type": "code",
   "execution_count": null,
   "id": "395513ee",
   "metadata": {},
   "outputs": [],
   "source": [
    "sayi = input(\"bir sayi giriniz : \")\n",
    "print(sayi)"
   ]
  },
  {
   "cell_type": "code",
   "execution_count": null,
   "id": "f94d6e02",
   "metadata": {},
   "outputs": [],
   "source": [
    "print(type(sayi))  # kullanicidan aldigimiz tum degerler str olur mat islem yapacaksam int cevirmeliyim"
   ]
  },
  {
   "cell_type": "code",
   "execution_count": null,
   "id": "a8ffd756",
   "metadata": {},
   "outputs": [],
   "source": [
    "sayi  = int(sayi) # bus ekilde yapabilirsin veya"
   ]
  },
  {
   "cell_type": "code",
   "execution_count": null,
   "id": "6b55ef1a",
   "metadata": {},
   "outputs": [],
   "source": [
    " sayi1 = int(input(\"bir sayi giriniz : \")) # drek inputu int olarak calistirabilirim"
   ]
  },
  {
   "cell_type": "code",
   "execution_count": null,
   "id": "707546a1",
   "metadata": {},
   "outputs": [],
   "source": [
    "print(type(sayi1))\n"
   ]
  },
  {
   "cell_type": "markdown",
   "id": "f9b038fa",
   "metadata": {},
   "source": [
    "# ekrandan alinan sayinin faktoryelini hesaplayalim"
   ]
  },
  {
   "cell_type": "code",
   "execution_count": null,
   "id": "0b2e4514",
   "metadata": {},
   "outputs": [],
   "source": [
    "sayi2 = int(input(\"bir sayi giriniz : \"))\n",
    "\n",
    "faktoriyel = 1\n",
    "\n",
    "for i in range(1, sayi2 +1) :   # range fon son sayiyi dahil etmez bundan sayi+1 dedik\n",
    "    faktoriyel *=i\n",
    "print(f\"{sayi2}! = {faktoriyel}\")\n"
   ]
  },
  {
   "cell_type": "code",
   "execution_count": null,
   "id": "e61eebef",
   "metadata": {},
   "outputs": [],
   "source": [
    "\n",
    "sayi3 = int(input(\"bir sayi giriniz : \"))\n",
    "\n",
    "faktoriyel = 1\n",
    "i=2\n",
    "\n",
    "while  i<= sayi3 :   # range fon son sayiyi dahil etmez bundan sayi+1 dedik\n",
    "    faktoriyel *= i\n",
    "    i += 1\n",
    "print(f\"{sayi3}! = {faktoriyel}\")"
   ]
  },
  {
   "cell_type": "markdown",
   "id": "d289d420",
   "metadata": {},
   "source": [
    "# ekrandan alina sayinin asal olup olmadigini kontrol etme"
   ]
  },
  {
   "cell_type": "code",
   "execution_count": null,
   "id": "5efc2dc3",
   "metadata": {},
   "outputs": [],
   "source": [
    "sayi4 = int(input(\"lutfen bir sayi giriniz : \"))\n",
    "\n",
    "prime = True \n",
    "                             #butun sayilar kendine tam bolundugu icin sayi4 e kadar dedik\n",
    "for i in range(2,sayi4) :  # butun sayilar 1 e bolundugu icin 2 den basladik \n",
    "    if sayi4 % i == 0 :\n",
    "        prime = False\n",
    "        break\n",
    "if prime == True :\n",
    "    print(f\"{sayi4} sayisi asaldir\")\n",
    "else : \n",
    "    print(f\"{sayi4} sayisi asal degildir\")"
   ]
  },
  {
   "cell_type": "markdown",
   "id": "f81025f7",
   "metadata": {},
   "source": [
    "# ekrandan alinan sayinin pozitif kac tane boleni var kontrol edelim"
   ]
  },
  {
   "cell_type": "code",
   "execution_count": null,
   "id": "1ad57e32",
   "metadata": {},
   "outputs": [],
   "source": [
    "sayi5 = int(input(\"lutfen bir sayi giriniz : \"))\n",
    "\n",
    "bolen_sayisi = 0\n",
    "\n",
    "for i in range(1,sayi5+1):  # her sayi 1 e ve kendisine bolunur bunlari da dahil ettik\n",
    "    if sayi5 % i == 0:\n",
    "        bolen_sayisi += 1\n",
    "\n",
    "print(f\"{bolen_sayisi} boleni vardir\")\n",
    "    \n",
    "    \n",
    "\n",
    "\n"
   ]
  },
  {
   "cell_type": "markdown",
   "id": "c27a6d4b",
   "metadata": {},
   "source": [
    "# ekrandan alinan sayinin rakamlari toplamini yazdirma"
   ]
  },
  {
   "cell_type": "code",
   "execution_count": null,
   "id": "b88b28ea",
   "metadata": {},
   "outputs": [],
   "source": [
    "sayi6 = int(input(\"lutfen bir sayi giriniz : \"))\n",
    "\n",
    "toplami = 0\n",
    "gecici = sayi6 # gecici sayi kullanmanin sebebi sayi6 nin degerini kalici iolarak degistirmemek icin\n",
    "\n",
    "while gecici != 0:\n",
    "    basamak = gecici % 10\n",
    "    toplami += basamak\n",
    "    gecici //= 10 \n",
    "    \n",
    "print(toplami)\n",
    "    \n",
    "    "
   ]
  },
  {
   "cell_type": "code",
   "execution_count": null,
   "id": "7be923e7",
   "metadata": {},
   "outputs": [],
   "source": [
    "# sayiyi stringe cevisip elemanlati uzerinde gezindim\n",
    "\n",
    "sayi6 = int(input(\"lutfen bir sayi giriniz : \"))\n",
    "\n",
    "str_sayi = str(sayi6)\n",
    "toplam = 0\n",
    "for rakam in str_sayi :\n",
    "    toplam += int(rakam)\n",
    "print(toplam)"
   ]
  },
  {
   "cell_type": "markdown",
   "id": "023ee077",
   "metadata": {},
   "source": [
    "# ekranda pes pese okunan sayinin en buyugunu ve en kucugunu  yazdir"
   ]
  },
  {
   "cell_type": "code",
   "execution_count": null,
   "id": "d1d13d5c",
   "metadata": {},
   "outputs": [],
   "source": [
    "say1 = int(input(\"lutfen bir sayi giriniz : \"))\n",
    "say2 = int(input(\"lutfen bir sayi giriniz : \"))\n",
    "say3 = int(input(\"lutfen bir sayi giriniz : \"))\n",
    "say4 = int(input(\"lutfen bir sayi giriniz : \"))\n",
    "say5 = int(input(\"lutfen bir sayi giriniz : \"))\n",
    "\n",
    "liste = [say1, say2, say3, say4, say5]\n",
    "print(f\" en buyuk sayi : {max(liste)}\")\n",
    "print(f\" en kucuk sayi : {min(liste)}\")"
   ]
  },
  {
   "cell_type": "markdown",
   "id": "5bf078ad",
   "metadata": {},
   "source": [
    "# kullanicidan ardardasayi istemenin kolay yolu\n",
    "\n"
   ]
  },
  {
   "cell_type": "code",
   "execution_count": null,
   "id": "fd73a680",
   "metadata": {},
   "outputs": [],
   "source": [
    "liste = []\n",
    "\n",
    "for i in range(5):\n",
    "    say = int(input(\"lutfen bir sayi giriniz : \"))\n",
    "    liste.append(say)\n",
    "print(liste)\n",
    "print(f\" en buyuk sayi : {max(liste)}\")\n",
    "print(f\" en kucuk sayi : {min(liste)}\")"
   ]
  },
  {
   "cell_type": "markdown",
   "id": "7e0c3857",
   "metadata": {},
   "source": [
    "# ekrandan okunan bir sayinin herhangi bir sayinin karesi olup ilmadigini kotrol edelim"
   ]
  },
  {
   "cell_type": "code",
   "execution_count": null,
   "id": "e11aaa53",
   "metadata": {},
   "outputs": [],
   "source": [
    "sayi_kare = int(input(\"lutfen bir sayi giriniz : \"))\n",
    "karekok = sayi_kare ** 0.5\n",
    "\n",
    "if karekok == int(karekok):\n",
    "    print(\"tam kare\")\n",
    "else :\n",
    "    print(\"tam kare degil\")"
   ]
  },
  {
   "cell_type": "markdown",
   "id": "576e3408",
   "metadata": {},
   "source": [
    "# ekran da okunan bir metinde hangi harfin kac kere kullanildigini gosteren bir program yaziniz"
   ]
  },
  {
   "cell_type": "code",
   "execution_count": 9,
   "id": "90147a40",
   "metadata": {},
   "outputs": [
    {
     "name": "stdout",
     "output_type": "stream",
     "text": [
      "lutfen bir metin giriniz : betulkkkkk\n",
      "{'b': 1, 'e': 1, 't': 1, 'u': 1, 'l': 1, 'k': 5}\n",
      "b 1\n",
      "e 1\n",
      "t 1\n",
      "u 1\n",
      "l 1\n",
      "k 5\n"
     ]
    }
   ],
   "source": [
    "metin = input(\"lutfen bir metin giriniz : \")\n",
    "\n",
    "sozluk  = dict()\n",
    "\n",
    "for i in metin:\n",
    "    if i in sozluk:\n",
    "        sozluk[i] += 1\n",
    "    else:\n",
    "        sozluk[i] = 1\n",
    "print(sozluk)\n",
    "\n",
    "for i,adet in sozluk.items(): \n",
    "    print(i,adet)\n",
    "    \n",
    "    \n",
    "\n"
   ]
  },
  {
   "cell_type": "markdown",
   "id": "5ec39e67",
   "metadata": {},
   "source": [
    "# ekrandan okunan bir metinde a harflerini buyuk yapan bir rogram yaziniz"
   ]
  },
  {
   "cell_type": "code",
   "execution_count": 12,
   "id": "5c3ef2ce",
   "metadata": {},
   "outputs": [
    {
     "name": "stdout",
     "output_type": "stream",
     "text": [
      "lutfen bir metin giriniz : banabae\n",
      "bAnAbAe\n",
      "banabae\n"
     ]
    }
   ],
   "source": [
    "metin2 = input(\"lutfen bir metin giriniz : \")\n",
    "\n",
    "metin_yeni = \"\"\n",
    "\n",
    "for i in metin2:\n",
    "    if i == 'a':\n",
    "        metin_yeni += \"A\"\n",
    "    else:\n",
    "        metin_yeni += i\n",
    "print(metin_yeni) \n",
    "        \n",
    "        \n",
    "print(metin2)"
   ]
  },
  {
   "cell_type": "code",
   "execution_count": null,
   "id": "8e22c484",
   "metadata": {},
   "outputs": [],
   "source": []
  }
 ],
 "metadata": {
  "kernelspec": {
   "display_name": "Python 3",
   "language": "python",
   "name": "python3"
  },
  "language_info": {
   "codemirror_mode": {
    "name": "ipython",
    "version": 3
   },
   "file_extension": ".py",
   "mimetype": "text/x-python",
   "name": "python",
   "nbconvert_exporter": "python",
   "pygments_lexer": "ipython3",
   "version": "3.8.8"
  }
 },
 "nbformat": 4,
 "nbformat_minor": 5
}
