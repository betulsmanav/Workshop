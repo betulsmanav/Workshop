{
 "cells": [
  {
   "cell_type": "code",
   "execution_count": null,
   "id": "68664ade",
   "metadata": {},
   "outputs": [],
   "source": [
    "#tekrar tekrar kullanacagimiz kodlar icin kullaniyoruz\n",
    "# def fonksiyon cagirmak icin anahtar kelime"
   ]
  },
  {
   "cell_type": "code",
   "execution_count": 1,
   "id": "3525a03d",
   "metadata": {},
   "outputs": [],
   "source": [
    "def bilgi_ver():\n",
    "    print(\"islem basarili!\")"
   ]
  },
  {
   "cell_type": "code",
   "execution_count": 2,
   "id": "f5a19ccb",
   "metadata": {},
   "outputs": [
    {
     "name": "stdout",
     "output_type": "stream",
     "text": [
      "islem basarili!\n"
     ]
    }
   ],
   "source": [
    "bilgi_ver() # fonksiyonu cagirma () mutlaka yazilmali"
   ]
  },
  {
   "cell_type": "code",
   "execution_count": 13,
   "id": "c2b14f92",
   "metadata": {},
   "outputs": [],
   "source": [
    "def selamla(isim): # parametre ekleyip caistirma\n",
    "    print(\"merhaba \" + isim)"
   ]
  },
  {
   "cell_type": "code",
   "execution_count": 14,
   "id": "3534f4a2",
   "metadata": {},
   "outputs": [
    {
     "name": "stdout",
     "output_type": "stream",
     "text": [
      "merhaba Ali\n"
     ]
    }
   ],
   "source": [
    "selamla(\"Ali\")"
   ]
  },
  {
   "cell_type": "code",
   "execution_count": 15,
   "id": "eb0c877d",
   "metadata": {},
   "outputs": [],
   "source": [
    "def topla(x,y):\n",
    "    print(f\"x+y = {x + y}\")"
   ]
  },
  {
   "cell_type": "code",
   "execution_count": 16,
   "id": "4ffc3a42",
   "metadata": {},
   "outputs": [
    {
     "name": "stdout",
     "output_type": "stream",
     "text": [
      "x+y = 9\n"
     ]
    }
   ],
   "source": [
    "topla(3,6)"
   ]
  },
  {
   "cell_type": "code",
   "execution_count": 21,
   "id": "21f08c84",
   "metadata": {},
   "outputs": [],
   "source": [
    "def carpma(x,y):\n",
    "    print(f\"x * y = {x * y}\")"
   ]
  },
  {
   "cell_type": "code",
   "execution_count": 22,
   "id": "8b678f3d",
   "metadata": {},
   "outputs": [
    {
     "name": "stdout",
     "output_type": "stream",
     "text": [
      "x * y = 18\n"
     ]
    }
   ],
   "source": [
    "carpma(3,6) # tanimli parametre sayisiyla uymlu olmali"
   ]
  },
  {
   "cell_type": "code",
   "execution_count": 23,
   "id": "37082c45",
   "metadata": {},
   "outputs": [],
   "source": [
    "def ortalama(liste):\n",
    "    toplam = sum(liste)\n",
    "    adet = len(liste)\n",
    "    ortalama = toplam / adet\n",
    "    print(f\"girilen sayilarin ortalamasi: {ortalama}\")"
   ]
  },
  {
   "cell_type": "code",
   "execution_count": 27,
   "id": "dc580e21",
   "metadata": {},
   "outputs": [
    {
     "name": "stdout",
     "output_type": "stream",
     "text": [
      "girilen sayilarin ortalamasi: 3.0\n"
     ]
    }
   ],
   "source": [
    "ortalama([1,2,3,4,4,4])"
   ]
  },
  {
   "cell_type": "code",
   "execution_count": 28,
   "id": "212815e4",
   "metadata": {},
   "outputs": [],
   "source": [
    "def buyuk_harfe_cevir(metin):\n",
    "    metin = metin.upper()\n",
    "    print(metin)"
   ]
  },
  {
   "cell_type": "code",
   "execution_count": 33,
   "id": "a6ad1d21",
   "metadata": {},
   "outputs": [
    {
     "name": "stdout",
     "output_type": "stream",
     "text": [
      "BETUL SONMEZ MANAV\n"
     ]
    }
   ],
   "source": [
    "buyuk_harfe_cevir(\"betul sonmez manav\")"
   ]
  },
  {
   "cell_type": "code",
   "execution_count": 34,
   "id": "4b7bab33",
   "metadata": {},
   "outputs": [],
   "source": [
    "def selamla(mesaj,isim):\n",
    "    print(f\"{mesaj} {isim}.\")\n",
    "    "
   ]
  },
  {
   "cell_type": "code",
   "execution_count": 39,
   "id": "bf256671",
   "metadata": {},
   "outputs": [
    {
     "name": "stdout",
     "output_type": "stream",
     "text": [
      "merhaba ahmet.\n"
     ]
    }
   ],
   "source": [
    "selamla(\"merhaba\",\"ahmet\")"
   ]
  },
  {
   "cell_type": "code",
   "execution_count": 36,
   "id": "0990c8db",
   "metadata": {},
   "outputs": [],
   "source": [
    "def selamla(mesaj,isim = \"anonim\"):        # isim parametresine deger verilmediginde buraya atadigimiz default u calistirir \n",
    "    print(f\"{mesaj} {isim}.\")   # default atamazsak eksik parametre girildiginde hata verir\n",
    "    "
   ]
  },
  {
   "cell_type": "code",
   "execution_count": 41,
   "id": "03bfd75f",
   "metadata": {},
   "outputs": [
    {
     "name": "stdout",
     "output_type": "stream",
     "text": [
      "merhaba anonim.\n"
     ]
    }
   ],
   "source": [
    "selamla(\"merhaba\")"
   ]
  },
  {
   "cell_type": "code",
   "execution_count": 47,
   "id": "e48a3137",
   "metadata": {},
   "outputs": [],
   "source": [
    "def indirim_yap(fiyat, yuzde = 20):\n",
    "    indirim_miktari = fiyat * (yuzde / 100)\n",
    "    indirimli_fiyat = fiyat - indirim_miktari\n",
    "    print(f\"indirimli tutar: {indirimli_fiyat}\" )"
   ]
  },
  {
   "cell_type": "code",
   "execution_count": 48,
   "id": "551c7df9",
   "metadata": {},
   "outputs": [
    {
     "name": "stdout",
     "output_type": "stream",
     "text": [
      "indirimli tutar: 90.0\n"
     ]
    }
   ],
   "source": [
    "indirim_yap(100,10)"
   ]
  },
  {
   "cell_type": "code",
   "execution_count": 49,
   "id": "6c7f6a45",
   "metadata": {},
   "outputs": [
    {
     "name": "stdout",
     "output_type": "stream",
     "text": [
      "indirimli tutar: 80.0\n"
     ]
    }
   ],
   "source": [
    "indirim_yap(100) # yuzde parametresini girmedigim icin varsayilan olan 20 yi atadi"
   ]
  },
  {
   "cell_type": "markdown",
   "id": "4a341764",
   "metadata": {},
   "source": [
    "# return anahtar kelimesi"
   ]
  },
  {
   "cell_type": "code",
   "execution_count": 50,
   "id": "402c2cab",
   "metadata": {},
   "outputs": [],
   "source": [
    "def topla(x,y):\n",
    "    print(x + y)"
   ]
  },
  {
   "cell_type": "code",
   "execution_count": 51,
   "id": "979d9d3a",
   "metadata": {},
   "outputs": [
    {
     "name": "stdout",
     "output_type": "stream",
     "text": [
      "11\n"
     ]
    }
   ],
   "source": [
    "topla(3,8)"
   ]
  },
  {
   "cell_type": "code",
   "execution_count": 52,
   "id": "9bb80302",
   "metadata": {},
   "outputs": [
    {
     "name": "stdout",
     "output_type": "stream",
     "text": [
      "8\n"
     ]
    }
   ],
   "source": [
    "sonuc = topla(2,6)"
   ]
  },
  {
   "cell_type": "code",
   "execution_count": 54,
   "id": "7e3f6f46",
   "metadata": {},
   "outputs": [
    {
     "name": "stdout",
     "output_type": "stream",
     "text": [
      "None\n"
     ]
    }
   ],
   "source": [
    "print(sonuc) # sonuc u cagirdigimda fonksiyon calismaz "
   ]
  },
  {
   "cell_type": "markdown",
   "id": "860c65f0",
   "metadata": {},
   "source": [
    "# fonksiyondan elde ettigimiz sonucu tekrar kullanmak istiyorsak return kull."
   ]
  },
  {
   "cell_type": "code",
   "execution_count": 55,
   "id": "c59eeaa8",
   "metadata": {},
   "outputs": [],
   "source": [
    "#sonuca atayip calistirabilmek icin return kullaniyoruz\n",
    "\n",
    "def topla(x,y):\n",
    "    print(x + y) \n",
    "    return x + y"
   ]
  },
  {
   "cell_type": "code",
   "execution_count": 57,
   "id": "b303b162",
   "metadata": {},
   "outputs": [
    {
     "name": "stdout",
     "output_type": "stream",
     "text": [
      "10\n"
     ]
    }
   ],
   "source": [
    "sonuc = topla(2,8)"
   ]
  },
  {
   "cell_type": "code",
   "execution_count": 58,
   "id": "371fb861",
   "metadata": {},
   "outputs": [
    {
     "name": "stdout",
     "output_type": "stream",
     "text": [
      "10\n"
     ]
    }
   ],
   "source": [
    "print(sonuc)"
   ]
  },
  {
   "cell_type": "code",
   "execution_count": 59,
   "id": "4cdaa255",
   "metadata": {},
   "outputs": [],
   "source": [
    "def ortalama_hesap(x,y):\n",
    "    return (x +y) / 2"
   ]
  },
  {
   "cell_type": "code",
   "execution_count": 60,
   "id": "98bae0fc",
   "metadata": {},
   "outputs": [
    {
     "data": {
      "text/plain": [
       "5.0"
      ]
     },
     "execution_count": 60,
     "metadata": {},
     "output_type": "execute_result"
    }
   ],
   "source": [
    "ortalama_hesap(3,7) # print fonk yazmadigimiz icin consol da yazdirmadi fakat islemi yazip hafizaya aldi\n",
    "                    "
   ]
  },
  {
   "cell_type": "code",
   "execution_count": 61,
   "id": "50440043",
   "metadata": {},
   "outputs": [
    {
     "name": "stdout",
     "output_type": "stream",
     "text": [
      "<class 'function'>\n"
     ]
    }
   ],
   "source": [
    "print(type(ortalama_hesap))"
   ]
  },
  {
   "cell_type": "code",
   "execution_count": 62,
   "id": "eff8cf31",
   "metadata": {},
   "outputs": [
    {
     "name": "stdout",
     "output_type": "stream",
     "text": [
      "12.0\n"
     ]
    }
   ],
   "source": [
    "a = ortalama_hesap(2,6)\n",
    "b = ortalama_hesap(6,10)\n",
    "print(a + b)"
   ]
  },
  {
   "cell_type": "code",
   "execution_count": 63,
   "id": "6784e2aa",
   "metadata": {},
   "outputs": [],
   "source": [
    "def buyuk_harf(metin):\n",
    "    return metin.upper()\n",
    "\n",
    "a = buyuk_harf(\"betul sonmez manav\")"
   ]
  },
  {
   "cell_type": "code",
   "execution_count": 64,
   "id": "6e9e1503",
   "metadata": {},
   "outputs": [
    {
     "name": "stdout",
     "output_type": "stream",
     "text": [
      "BETUL SONMEZ MANAV\n"
     ]
    }
   ],
   "source": [
    "print(a)"
   ]
  },
  {
   "cell_type": "code",
   "execution_count": 65,
   "id": "9f9892fe",
   "metadata": {},
   "outputs": [],
   "source": [
    "fonk = buyuk_harf # atama islemi yaptik farklari kalmadi "
   ]
  },
  {
   "cell_type": "code",
   "execution_count": 66,
   "id": "51a5b61b",
   "metadata": {},
   "outputs": [
    {
     "name": "stdout",
     "output_type": "stream",
     "text": [
      "BETUL\n"
     ]
    }
   ],
   "source": [
    "sonuc = fonk(\"betul\")\n",
    "print(sonuc)"
   ]
  },
  {
   "cell_type": "code",
   "execution_count": null,
   "id": "0486b323",
   "metadata": {},
   "outputs": [],
   "source": []
  }
 ],
 "metadata": {
  "kernelspec": {
   "display_name": "Python 3",
   "language": "python",
   "name": "python3"
  },
  "language_info": {
   "codemirror_mode": {
    "name": "ipython",
    "version": 3
   },
   "file_extension": ".py",
   "mimetype": "text/x-python",
   "name": "python",
   "nbconvert_exporter": "python",
   "pygments_lexer": "ipython3",
   "version": "3.8.8"
  }
 },
 "nbformat": 4,
 "nbformat_minor": 5
}
