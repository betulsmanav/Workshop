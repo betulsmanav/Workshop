{
 "cells": [
  {
   "cell_type": "markdown",
   "id": "b58dd7ff-2411-417f-ae14-e72e72bb192d",
   "metadata": {},
   "source": [
    "# For Dongulerı (For Looops)"
   ]
  },
  {
   "cell_type": "code",
   "execution_count": 1,
   "id": "9adccdb7-f4ab-457a-906b-5c4edb9e4db2",
   "metadata": {},
   "outputs": [
    {
     "name": "stdout",
     "output_type": "stream",
     "text": [
      "calisiyor\n"
     ]
    }
   ],
   "source": [
    "while 3>2:\n",
    "    print(\"calisiyor\")\n",
    "    break\n",
    "    "
   ]
  },
  {
   "cell_type": "code",
   "execution_count": 2,
   "id": "5373a9be-eaf4-4583-a259-468e4297fba2",
   "metadata": {},
   "outputs": [
    {
     "name": "stdout",
     "output_type": "stream",
     "text": [
      "4\n",
      "3\n",
      "2\n",
      "1\n",
      "0\n"
     ]
    }
   ],
   "source": [
    "condition = 5\n",
    "while condition >0:\n",
    "    condition -= 1\n",
    "    print(condition)"
   ]
  },
  {
   "cell_type": "code",
   "execution_count": 16,
   "id": "c01dded1-84d9-4e6c-aece-816693dd68f4",
   "metadata": {},
   "outputs": [
    {
     "name": "stdout",
     "output_type": "stream",
     "text": [
      "a k\n",
      "s b\n",
      "d b\n",
      "f de\n",
      "g ede\n",
      "h ww\n",
      "j ww\n",
      "k yyy\n"
     ]
    }
   ],
   "source": [
    "liste = ['a k', 's b','d b','f de','g ede', 'h ww', 'j ww','k yyy']\n",
    "for i in liste:\n",
    "    print(i)"
   ]
  },
  {
   "cell_type": "code",
   "execution_count": 17,
   "id": "46e5f509-3aa4-4e95-998a-aba1cdb1323d",
   "metadata": {},
   "outputs": [
    {
     "name": "stdout",
     "output_type": "stream",
     "text": [
      "1 a k\n",
      "2 s b\n",
      "3 d b\n",
      "4 f de\n",
      "5 g ede\n",
      "6 h ww\n",
      "7 j ww\n",
      "8 k yyy\n"
     ]
    }
   ],
   "source": [
    "sayi = 0\n",
    "\n",
    "for i in liste:\n",
    "    sayi += 1    # once sayiyi artirdi sonra yazdi\n",
    "    print(sayi, i)"
   ]
  },
  {
   "cell_type": "code",
   "execution_count": 18,
   "id": "8fe8581c-0585-4821-8e61-2d2d2017c944",
   "metadata": {},
   "outputs": [
    {
     "name": "stdout",
     "output_type": "stream",
     "text": [
      "0 a k\n",
      "1 s b\n",
      "2 d b\n",
      "3 f de\n",
      "4 g ede\n",
      "5 h ww\n",
      "6 j ww\n",
      "7 k yyy\n"
     ]
    }
   ],
   "source": [
    "sayi = 0\n",
    "\n",
    "for i in liste:\n",
    "    \n",
    "    print(sayi, i)\n",
    "    sayi += 1    # yukardan asagi sirayla okuyor  once yazdi sonra sayiyi arttirdi"
   ]
  },
  {
   "cell_type": "code",
   "execution_count": 19,
   "id": "53d1ecf2-8eca-448e-9f9a-0d78a763df71",
   "metadata": {},
   "outputs": [
    {
     "data": {
      "text/plain": [
       "['a', 'k']"
      ]
     },
     "execution_count": 19,
     "metadata": {},
     "output_type": "execute_result"
    }
   ],
   "source": [
    "liste[0].split() # split() metodu listedeki herhangibir elemeani istedigim yerdn bolmeye yariyorparantex icine birdey yazmazsam bosluktan itibaren boluyor"
   ]
  },
  {
   "cell_type": "code",
   "execution_count": 31,
   "id": "4744c9a1-3262-4430-911a-3f477262a36a",
   "metadata": {},
   "outputs": [
    {
     "name": "stdout",
     "output_type": "stream",
     "text": [
      "1. kullanicinin adi k ve soyadi yyy\n",
      "2. kullanicinin adi k ve soyadi yyy\n",
      "3. kullanicinin adi k ve soyadi yyy\n",
      "4. kullanicinin adi k ve soyadi yyy\n",
      "5. kullanicinin adi k ve soyadi yyy\n",
      "6. kullanicinin adi k ve soyadi yyy\n",
      "7. kullanicinin adi k ve soyadi yyy\n",
      "8. kullanicinin adi k ve soyadi yyy\n"
     ]
    }
   ],
   "source": [
    "ad, soyad = i.split()[0], i.split()[1]\n",
    "sayi = 0\n",
    "\n",
    "for i in liste:\n",
    "    sayi += 1\n",
    "    print('{0}. kullanicinin adi {1} ve soyadi {2}'.format(sayi, ad, soyad))\n",
    "     "
   ]
  },
  {
   "cell_type": "code",
   "execution_count": null,
   "id": "2408d0aa-5a35-4f6c-b3de-35e8aed00db8",
   "metadata": {},
   "outputs": [],
   "source": []
  }
 ],
 "metadata": {
  "kernelspec": {
   "display_name": "Python 3",
   "language": "python",
   "name": "python3"
  },
  "language_info": {
   "codemirror_mode": {
    "name": "ipython",
    "version": 3
   },
   "file_extension": ".py",
   "mimetype": "text/x-python",
   "name": "python",
   "nbconvert_exporter": "python",
   "pygments_lexer": "ipython3",
   "version": "3.8.8"
  }
 },
 "nbformat": 4,
 "nbformat_minor": 5
}
