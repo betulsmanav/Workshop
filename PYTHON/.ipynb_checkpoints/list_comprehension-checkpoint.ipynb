{
 "cells": [
  {
   "cell_type": "markdown",
   "id": "26781b4a",
   "metadata": {},
   "source": [
    "verilen listedeki rakamlardan olusan bir liste olusturalim"
   ]
  },
  {
   "cell_type": "code",
   "execution_count": 1,
   "id": "a0f00e52",
   "metadata": {},
   "outputs": [
    {
     "name": "stdout",
     "output_type": "stream",
     "text": [
      "[1, 2, 3, 4, 5, 6, 7, 8, 9]\n"
     ]
    }
   ],
   "source": [
    "liste = [1,2,3,4,5,6,7,8,9]\n",
    "\n",
    "liste1 =  []\n",
    "\n",
    "for i in liste:\n",
    "    liste1.append(i)\n",
    "print(liste1)\n",
    "\n"
   ]
  },
  {
   "cell_type": "code",
   "execution_count": 2,
   "id": "7693d9b5",
   "metadata": {},
   "outputs": [
    {
     "name": "stdout",
     "output_type": "stream",
     "text": [
      "[1, 2, 3, 4, 5, 6, 7, 8, 9]\n"
     ]
    }
   ],
   "source": [
    "liste3 = [i for i in liste]\n",
    "print(liste3)"
   ]
  },
  {
   "cell_type": "markdown",
   "id": "74e7fe4b",
   "metadata": {},
   "source": [
    "verilen listedeki rakamlarin karelerinden bir liste olusturalim\n"
   ]
  },
  {
   "cell_type": "code",
   "execution_count": 5,
   "id": "f75cc7ab",
   "metadata": {},
   "outputs": [
    {
     "data": {
      "text/plain": [
       "[1, 4, 9, 16, 25, 36, 49, 64, 81]"
      ]
     },
     "execution_count": 5,
     "metadata": {},
     "output_type": "execute_result"
    }
   ],
   "source": [
    "liste3 = [i**2 for i in liste]\n",
    "liste3"
   ]
  },
  {
   "cell_type": "markdown",
   "id": "39effd27",
   "metadata": {},
   "source": [
    "verilen listedeki cif rakamlarin listesini bulalim"
   ]
  },
  {
   "cell_type": "code",
   "execution_count": 6,
   "id": "0a01faa1",
   "metadata": {},
   "outputs": [
    {
     "data": {
      "text/plain": [
       "[2, 4, 6, 8]"
      ]
     },
     "execution_count": 6,
     "metadata": {},
     "output_type": "execute_result"
    }
   ],
   "source": [
    "liste4 = [i for i in liste if i%2 == 0]\n",
    "liste4"
   ]
  },
  {
   "cell_type": "markdown",
   "id": "79866969",
   "metadata": {},
   "source": [
    " verilen listedeki 4 ten buyuk cift sayilarin karelerinden olusan lisyeti yazdiralim"
   ]
  },
  {
   "cell_type": "code",
   "execution_count": 7,
   "id": "55c65ddb",
   "metadata": {},
   "outputs": [
    {
     "data": {
      "text/plain": [
       "[36, 64]"
      ]
     },
     "execution_count": 7,
     "metadata": {},
     "output_type": "execute_result"
    }
   ],
   "source": [
    "liste5 = [i**2 for i in liste if i > 4 and i%2==0 ]\n",
    "liste5"
   ]
  },
  {
   "cell_type": "code",
   "execution_count": 14,
   "id": "61470bc2",
   "metadata": {},
   "outputs": [
    {
     "name": "stdout",
     "output_type": "stream",
     "text": [
      "[(1, 'a'), (1, 'b'), (1, 'c'), (1, 'd'), (2, 'a'), (2, 'b'), (2, 'c'), (2, 'd'), (3, 'a'), (3, 'b'), (3, 'c'), (3, 'd'), (4, 'a'), (4, 'b'), (4, 'c'), (4, 'd')]\n"
     ]
    }
   ],
   "source": [
    "liste = [1,2,3,4]\n",
    "letters = \"abcd\"\n",
    "\n",
    "liste6 = [(i,j) for i in liste for j in letters]\n",
    "print(liste6)"
   ]
  },
  {
   "cell_type": "markdown",
   "id": "78fcb902",
   "metadata": {},
   "source": [
    "birinci listede bulunup ikinci listede bulunmayan rakamlarin karesinden olusan bir liste yazdir"
   ]
  },
  {
   "cell_type": "code",
   "execution_count": 16,
   "id": "c5fd89e4",
   "metadata": {},
   "outputs": [
    {
     "data": {
      "text/plain": [
       "[1, 16, 49, 64]"
      ]
     },
     "execution_count": 16,
     "metadata": {},
     "output_type": "execute_result"
    }
   ],
   "source": [
    "list1 = [1,2,3,4,5,6,7,8,9]\n",
    "list2 = [2,3,6,5,9]\n",
    "\n",
    "karesi = [i**2 for i in list1 if not i in list2 ]\n",
    "karesi"
   ]
  },
  {
   "cell_type": "code",
   "execution_count": 19,
   "id": "14900032",
   "metadata": {},
   "outputs": [
    {
     "data": {
      "text/plain": [
       "[1, 2, 3, 4, 5, 6, 7, 8, 9, 10, 11, 12]"
      ]
     },
     "execution_count": 19,
     "metadata": {},
     "output_type": "execute_result"
    }
   ],
   "source": [
    "liste = [[1,2,3],[4,5,6,7],[8,9,10,11,12]]\n",
    "\n",
    "listem = [j for i in liste for j in i]\n",
    "listem"
   ]
  },
  {
   "cell_type": "code",
   "execution_count": 20,
   "id": "b8b40e77",
   "metadata": {},
   "outputs": [
    {
     "name": "stdout",
     "output_type": "stream",
     "text": [
      "['__add__', '__class__', '__contains__', '__delattr__', '__delitem__', '__dir__', '__doc__', '__eq__', '__format__', '__ge__', '__getattribute__', '__getitem__', '__gt__', '__hash__', '__iadd__', '__imul__', '__init__', '__init_subclass__', '__iter__', '__le__', '__len__', '__lt__', '__mul__', '__ne__', '__new__', '__reduce__', '__reduce_ex__', '__repr__', '__reversed__', '__rmul__', '__setattr__', '__setitem__', '__sizeof__', '__str__', '__subclasshook__', 'append', 'clear', 'copy', 'count', 'extend', 'index', 'insert', 'pop', 'remove', 'reverse', 'sort']\n"
     ]
    }
   ],
   "source": [
    "print(dir(list))"
   ]
  },
  {
   "cell_type": "code",
   "execution_count": 21,
   "id": "82f12133",
   "metadata": {},
   "outputs": [
    {
     "name": "stdout",
     "output_type": "stream",
     "text": [
      "['append', 'clear', 'copy', 'count', 'extend', 'index', 'insert', 'pop', 'remove', 'reverse', 'sort']\n"
     ]
    }
   ],
   "source": [
    "list_method = []\n",
    "for i in dir(list):\n",
    "    if i.startswith(\"__\"):\n",
    "        continue\n",
    "    list_method.append(i)\n",
    "print(list_method)"
   ]
  },
  {
   "cell_type": "code",
   "execution_count": 23,
   "id": "7bfb9151",
   "metadata": {},
   "outputs": [
    {
     "data": {
      "text/plain": [
       "['append',\n",
       " 'clear',\n",
       " 'copy',\n",
       " 'count',\n",
       " 'extend',\n",
       " 'index',\n",
       " 'insert',\n",
       " 'pop',\n",
       " 'remove',\n",
       " 'reverse',\n",
       " 'sort']"
      ]
     },
     "execution_count": 23,
     "metadata": {},
     "output_type": "execute_result"
    }
   ],
   "source": [
    "list_method = [i for i in dir(list) if not i.startswith(\"__\")]\n",
    "list_method"
   ]
  },
  {
   "cell_type": "code",
   "execution_count": null,
   "id": "de5e51b0",
   "metadata": {},
   "outputs": [],
   "source": []
  },
  {
   "cell_type": "code",
   "execution_count": null,
   "id": "5de7848b",
   "metadata": {},
   "outputs": [],
   "source": []
  },
  {
   "cell_type": "code",
   "execution_count": null,
   "id": "0ac28d13",
   "metadata": {},
   "outputs": [],
   "source": []
  },
  {
   "cell_type": "code",
   "execution_count": null,
   "id": "dbd364d8",
   "metadata": {},
   "outputs": [],
   "source": []
  },
  {
   "cell_type": "code",
   "execution_count": null,
   "id": "b31f5620",
   "metadata": {},
   "outputs": [],
   "source": []
  },
  {
   "cell_type": "code",
   "execution_count": null,
   "id": "19c449b4",
   "metadata": {},
   "outputs": [],
   "source": []
  },
  {
   "cell_type": "code",
   "execution_count": null,
   "id": "f8cd6561",
   "metadata": {},
   "outputs": [],
   "source": []
  }
 ],
 "metadata": {
  "kernelspec": {
   "display_name": "Python 3",
   "language": "python",
   "name": "python3"
  },
  "language_info": {
   "codemirror_mode": {
    "name": "ipython",
    "version": 3
   },
   "file_extension": ".py",
   "mimetype": "text/x-python",
   "name": "python",
   "nbconvert_exporter": "python",
   "pygments_lexer": "ipython3",
   "version": "3.8.8"
  }
 },
 "nbformat": 4,
 "nbformat_minor": 5
}
