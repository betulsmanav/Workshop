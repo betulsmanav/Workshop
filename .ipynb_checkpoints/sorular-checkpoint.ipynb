{
 "cells": [
  {
   "cell_type": "markdown",
   "id": "73ba9ce1",
   "metadata": {},
   "source": [
    "# ilk 10.000 asal sayinin kac tanesi 3 ile baslar 7 ile biter?"
   ]
  },
  {
   "cell_type": "code",
   "execution_count": null,
   "id": "8a068e8b",
   "metadata": {},
   "outputs": [],
   "source": [
    "asal_liste = []\n",
    "asal_liste.append(2)\n",
    "\n",
    "\n",
    "sayi = 3\n",
    "\n",
    "while True:\n",
    "    prime = True\n",
    "    for i in range(2, int(sayi ** 0.5)+1 ):\n",
    "        if sayi % i == 0:\n",
    "            prime = False\n",
    "            break\n",
    "    if prime :\n",
    "        asal_liste.append(sayi)\n",
    "        if len(asal_liste) == 10000:\n",
    "            break\n",
    "    sayi +=1\n",
    "\n",
    "\n",
    "son_liste = []\n",
    "\n",
    "for prime in asal_liste:\n",
    "    strprime = str(prime)\n",
    "    if strprime.startswith('3') and strprime.endswith('7'):\n",
    "        son_liste.append(prime)\n",
    "print(son_liste)\n",
    "print(len(son_liste))"
   ]
  },
  {
   "cell_type": "markdown",
   "id": "482bd030",
   "metadata": {},
   "source": [
    "# uc basamakli sayilarin kac tanesi rakmlarinin kupleri toplamina esittir"
   ]
  },
  {
   "cell_type": "code",
   "execution_count": null,
   "id": "3b11d041",
   "metadata": {},
   "outputs": [],
   "source": [
    "liste = []\n",
    "\n",
    "for sayi in range(100, 1000):\n",
    "    toplam = 0\n",
    "    gecici = sayi\n",
    "    while gecici !=0:\n",
    "        basamak = gecici % 10\n",
    "        toplam += basamak **3\n",
    "        gecici //= 10\n",
    "    if toplam == sayi:\n",
    "        liste.append(sayi)\n",
    "print(liste)\n",
    "        \n",
    "    \n",
    "    \n",
    "    \n",
    "     \n",
    "    "
   ]
  },
  {
   "cell_type": "markdown",
   "id": "3ef4ae0f",
   "metadata": {},
   "source": [
    "# fibonacci dizisi ilk iki terimi 1 olan ve sonraki her terimi kendisinden onceki iki terimin toplami olan bir sayi dizisidir. ilk 100 fibonacci sayisini ekrana yazdirin"
   ]
  },
  {
   "cell_type": "code",
   "execution_count": null,
   "id": "9429ec06",
   "metadata": {},
   "outputs": [],
   "source": [
    "#[1,1,2,3,5,8,13,21,...]\n",
    "\n",
    "liste = []\n",
    "liste.append(1)\n",
    "liste.append(1)\n",
    "\n",
    "index = 2\n",
    "\n",
    "while True:\n",
    "    liste.append(liste[index-2] + liste[index-1])\n",
    "    index +=1\n",
    "    if len(liste) == 100:\n",
    "        break\n",
    "print(liste)\n",
    "print(len(liste))\n",
    "    \n",
    "\n",
    "\n"
   ]
  },
  {
   "cell_type": "code",
   "execution_count": 1,
   "id": "9e4d073f",
   "metadata": {},
   "outputs": [
    {
     "name": "stdout",
     "output_type": "stream",
     "text": [
      "[1, 1, 2, 3, 5, 8, 13, 21, 34, 55, 89, 144, 233, 377, 610, 987, 1597, 2584, 4181, 6765, 10946, 17711, 28657, 46368, 75025, 121393, 196418, 317811, 514229, 832040, 1346269, 2178309, 3524578, 5702887, 9227465, 14930352, 24157817, 39088169, 63245986, 102334155, 165580141, 267914296, 433494437, 701408733, 1134903170, 1836311903, 2971215073, 4807526976, 7778742049, 12586269025, 20365011074, 32951280099, 53316291173, 86267571272, 139583862445, 225851433717, 365435296162, 591286729879, 956722026041, 1548008755920, 2504730781961, 4052739537881, 6557470319842, 10610209857723, 17167680177565, 27777890035288, 44945570212853, 72723460248141, 117669030460994, 190392490709135, 308061521170129, 498454011879264, 806515533049393, 1304969544928657, 2111485077978050, 3416454622906707, 5527939700884757, 8944394323791464, 14472334024676221, 23416728348467685, 37889062373143906, 61305790721611591, 99194853094755497, 160500643816367088, 259695496911122585, 420196140727489673, 679891637638612258, 1100087778366101931, 1779979416004714189, 2880067194370816120, 4660046610375530309, 7540113804746346429, 12200160415121876738, 19740274219868223167, 31940434634990099905, 51680708854858323072, 83621143489848422977, 135301852344706746049, 218922995834555169026, 354224848179261915075]\n",
      "100\n"
     ]
    }
   ],
   "source": [
    "\n",
    "listef = []\n",
    "listef.append(1)\n",
    "listef.append(1)\n",
    "\n",
    "for i in range(2,100):\n",
    "    listef.append(listef[i-2] + listef[i-1])\n",
    "print(listef)\n",
    "print(len(listef))\n",
    "    "
   ]
  },
  {
   "cell_type": "markdown",
   "id": "5c1f4a08",
   "metadata": {},
   "source": [
    "# 100 basamakli ilk fibonacci sayisini yazdiralim"
   ]
  },
  {
   "cell_type": "code",
   "execution_count": 10,
   "id": "180adf72",
   "metadata": {},
   "outputs": [
    {
     "name": "stdout",
     "output_type": "stream",
     "text": [
      "1344719667586153181419716641724567886890850696275767987106294472017884974410332069524504824747437757\n",
      "475\n"
     ]
    }
   ],
   "source": [
    "\n",
    "fibonacci_liste = [1,1]\n",
    "index = 2\n",
    "while True:\n",
    "    fibonacci_liste.append(fibonacci_liste[index-2] + fibonacci_liste[index-1])\n",
    "    terim_yuz = fibonacci_liste[index-2] + fibonacci_liste[index-1]\n",
    "    if len(str(terim_yuz)) == 100:\n",
    "        print(terim_yuz)\n",
    "        print(index)\n",
    "        break\n",
    "    index +=1\n"
   ]
  },
  {
   "cell_type": "code",
   "execution_count": null,
   "id": "517b35a4",
   "metadata": {},
   "outputs": [],
   "source": []
  }
 ],
 "metadata": {
  "kernelspec": {
   "display_name": "Python 3",
   "language": "python",
   "name": "python3"
  },
  "language_info": {
   "codemirror_mode": {
    "name": "ipython",
    "version": 3
   },
   "file_extension": ".py",
   "mimetype": "text/x-python",
   "name": "python",
   "nbconvert_exporter": "python",
   "pygments_lexer": "ipython3",
   "version": "3.8.8"
  }
 },
 "nbformat": 4,
 "nbformat_minor": 5
}
